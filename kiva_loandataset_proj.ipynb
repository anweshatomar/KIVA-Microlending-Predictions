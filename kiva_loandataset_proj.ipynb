{
  "nbformat": 4,
  "nbformat_minor": 0,
  "metadata": {
    "colab": {
      "name": "kiva_loandataset_proj.ipynb",
      "provenance": [],
      "collapsed_sections": []
    },
    "kernelspec": {
      "display_name": "Python 3",
      "language": "python",
      "name": "python3"
    },
    "language_info": {
      "codemirror_mode": {
        "name": "ipython",
        "version": 3
      },
      "file_extension": ".py",
      "mimetype": "text/x-python",
      "name": "python",
      "nbconvert_exporter": "python",
      "pygments_lexer": "ipython3",
      "version": "3.7.4"
    }
  },
  "cells": [
    {
      "cell_type": "markdown",
      "metadata": {
        "colab_type": "text",
        "id": "j3KxPG8bMePi"
      },
      "source": [
        "<b>\n",
        "\n",
        "<p>\n",
        "<center>\n",
        "<font size=\"5\">\n",
        "Machine Learning I (DATS 6202), Spring 2020\n",
        "</font>\n",
        "</center>\n",
        "</p>\n",
        "\n",
        "<p>\n",
        "<center>\n",
        "<font size=\"4\">\n",
        "Kiva Crowdfunding: A Machine Learning Analysis​\n",
        "</font>\n",
        "</center>\n",
        "</p>\n",
        "\n",
        "<p>\n",
        "<center>\n",
        "<font size=\"3\">\n",
        "Data Science, Columbian College of Arts & Sciences, George Washington University\n",
        "</font>\n",
        "</center>\n",
        "</p>\n",
        "\n",
        "<p>\n",
        "<center>\n",
        "<font size=\"3\">\n",
        "Authors: Andrea Piolini, Caroline Sklaver, Anwesha Tomar, Sandra Valdés Salas​\n",
        "</font>\n",
        "</center>\n",
        "</p>\n",
        "\n",
        "</b>"
      ]
    },
    {
      "cell_type": "markdown",
      "metadata": {
        "colab_type": "text",
        "id": "owa52F4FAOWI"
      },
      "source": [
        "# 1. Introduction"
      ]
    },
    {
      "cell_type": "markdown",
      "metadata": {
        "id": "Mu2kd61fOQgJ",
        "colab_type": "text"
      },
      "source": [
        "\"Kiva.org is an online crowdfunding platform to extend financial services to poor and financially excluded people around the world\". Kiva has provided data on their world-wide financial loans over the past two years on kaggle.com. Our aim is to apply machine learning methods to gain insight into how Kiva determines the amount (USD) and repayment interval type (monthly, bullet, or irregular) of each loan. Throughout this project, we hope to highlight the most important features in determining how Kiva administers loans. Given the number of data points in the original dataset, we have decided to focus on Latin American countries out of personal interest and to narrow our focus. Kiva provides features such as number of lenders, borrower's gender(s), loan use activity, and more. Our goals in this project are to build models to predict the loan amount (regression) and the repayment interval type (classification).  This information can inform both lenders and borrowers in the Kiva crowdfunding process. To achieve these goals we will preprocess the data (merging, cleaning, handling identifiers and missing values, etc.), perform exploratory data analyses, split the data into training, validation, and testing sets, chose a variety of models for both regression and classification problems, and fine-tune the hyperparameters of those models. In all, we hope to gain experience by applying our knowledge from our Machine Learning I course to real-world data.\n"
      ]
    },
    {
      "cell_type": "markdown",
      "metadata": {
        "colab_type": "text",
        "id": "YMZYIDgBMePv"
      },
      "source": [
        "# 2. Loading and preparing the data"
      ]
    },
    {
      "cell_type": "markdown",
      "metadata": {
        "colab_type": "text",
        "id": "yZjY7vDqMePj"
      },
      "source": [
        "## 2.1 Notebook Configuration"
      ]
    },
    {
      "cell_type": "code",
      "metadata": {
        "colab_type": "code",
        "id": "TIf9sIdCyGtm",
        "outputId": "56cec522-5e7c-46ec-9cf9-6bc318d223c8",
        "colab": {
          "base_uri": "https://localhost:8080/",
          "height": 121
        }
      },
      "source": [
        "# Mount Google Drive\n",
        "\n",
        "from google.colab import drive\n",
        "drive.mount('/content/drive')"
      ],
      "execution_count": 1,
      "outputs": [
        {
          "output_type": "stream",
          "text": [
            "Go to this URL in a browser: https://accounts.google.com/o/oauth2/auth?client_id=947318989803-6bn6qk8qdgf4n4g3pfee6491hc0brc4i.apps.googleusercontent.com&redirect_uri=urn%3aietf%3awg%3aoauth%3a2.0%3aoob&response_type=code&scope=email%20https%3a%2f%2fwww.googleapis.com%2fauth%2fdocs.test%20https%3a%2f%2fwww.googleapis.com%2fauth%2fdrive%20https%3a%2f%2fwww.googleapis.com%2fauth%2fdrive.photos.readonly%20https%3a%2f%2fwww.googleapis.com%2fauth%2fpeopleapi.readonly\n",
            "\n",
            "Enter your authorization code:\n",
            "··········\n",
            "Mounted at /content/drive\n"
          ],
          "name": "stdout"
        }
      ]
    },
    {
      "cell_type": "code",
      "metadata": {
        "colab_type": "code",
        "id": "9PLzaHzHMePk",
        "outputId": "98d67bc1-5f19-4d42-8ea2-2648cc3af4a3",
        "colab": {
          "base_uri": "https://localhost:8080/",
          "height": 34
        }
      },
      "source": [
        "# Set working directory\n",
        "#%cd /content/drive\n",
        "#%cd /content/drive/My Drive/Colab\\ Notebooks/ML1/Project"
      ],
      "execution_count": 0,
      "outputs": [
        {
          "output_type": "stream",
          "text": [
            "/content/drive/My Drive/Colab Notebooks/ML1/Project\n"
          ],
          "name": "stdout"
        }
      ]
    },
    {
      "cell_type": "code",
      "metadata": {
        "id": "xuVZrO4bLDaz",
        "colab_type": "code",
        "colab": {}
      },
      "source": [
        "# Set working directory\n",
        "abspath = '/content/drive/My Drive/ml1/proj/'"
      ],
      "execution_count": 0,
      "outputs": []
    },
    {
      "cell_type": "code",
      "metadata": {
        "colab_type": "code",
        "id": "tz9We9J9MePq",
        "colab": {}
      },
      "source": [
        "import warnings\n",
        "\n",
        "# Ignore warnings\n",
        "warnings.filterwarnings('ignore')"
      ],
      "execution_count": 0,
      "outputs": []
    },
    {
      "cell_type": "markdown",
      "metadata": {
        "colab_type": "text",
        "id": "QjBUbGWzMePx"
      },
      "source": [
        "## 2.2 Import all datasets"
      ]
    },
    {
      "cell_type": "code",
      "metadata": {
        "id": "AygFN1AxLGva",
        "colab_type": "code",
        "colab": {}
      },
      "source": [
        "import pandas as pd\n",
        "\n",
        "# load loans dataset\n",
        "df_raw_loans = pd.read_csv(abspath + \"kiva_loans.csv\", header=0) #main dataset\n",
        "\n",
        "# load MPI dataset\n",
        "df_mpi_new = pd.read_csv(abspath + \"MPI.csv\", header=0)"
      ],
      "execution_count": 0,
      "outputs": []
    },
    {
      "cell_type": "markdown",
      "metadata": {
        "colab_type": "text",
        "id": "GskojsDRMeP_"
      },
      "source": [
        "## 2.3 Merge loans dataset and MPI dataset"
      ]
    },
    {
      "cell_type": "code",
      "metadata": {
        "colab_type": "code",
        "id": "5zz81SpvMeQR",
        "outputId": "486d888b-d9d3-4a76-de1d-2c166a1429c2",
        "colab": {
          "base_uri": "https://localhost:8080/",
          "height": 266
        }
      },
      "source": [
        "# Print first lines of df_mpi_new\n",
        "df_mpi_new.head()"
      ],
      "execution_count": 6,
      "outputs": [
        {
          "output_type": "execute_result",
          "data": {
            "text/html": [
              "<div>\n",
              "<style scoped>\n",
              "    .dataframe tbody tr th:only-of-type {\n",
              "        vertical-align: middle;\n",
              "    }\n",
              "\n",
              "    .dataframe tbody tr th {\n",
              "        vertical-align: top;\n",
              "    }\n",
              "\n",
              "    .dataframe thead th {\n",
              "        text-align: right;\n",
              "    }\n",
              "</style>\n",
              "<table border=\"1\" class=\"dataframe\">\n",
              "  <thead>\n",
              "    <tr style=\"text-align: right;\">\n",
              "      <th></th>\n",
              "      <th>HDI Rank</th>\n",
              "      <th>Country</th>\n",
              "      <th>2007</th>\n",
              "      <th>Unnamed: 3</th>\n",
              "      <th>2008</th>\n",
              "      <th>Unnamed: 5</th>\n",
              "      <th>2009</th>\n",
              "      <th>Unnamed: 7</th>\n",
              "      <th>2010</th>\n",
              "      <th>Unnamed: 9</th>\n",
              "      <th>2011</th>\n",
              "      <th>Unnamed: 11</th>\n",
              "      <th>2012</th>\n",
              "      <th>Unnamed: 13</th>\n",
              "      <th>2013</th>\n",
              "      <th>Unnamed: 15</th>\n",
              "      <th>2014</th>\n",
              "      <th>Unnamed: 17</th>\n",
              "      <th>2015</th>\n",
              "      <th>Unnamed: 19</th>\n",
              "      <th>2016</th>\n",
              "      <th>Unnamed: 21</th>\n",
              "      <th>2017</th>\n",
              "      <th>Unnamed: 23</th>\n",
              "      <th>2018</th>\n",
              "      <th>Unnamed: 25</th>\n",
              "      <th>2007-2018</th>\n",
              "      <th>Unnamed: 27</th>\n",
              "    </tr>\n",
              "  </thead>\n",
              "  <tbody>\n",
              "    <tr>\n",
              "      <th>0</th>\n",
              "      <td>Multidimensional poverty index (MPI)\\nnull\\nDi...</td>\n",
              "      <td>NaN</td>\n",
              "      <td>NaN</td>\n",
              "      <td>NaN</td>\n",
              "      <td>NaN</td>\n",
              "      <td>NaN</td>\n",
              "      <td>NaN</td>\n",
              "      <td>NaN</td>\n",
              "      <td>NaN</td>\n",
              "      <td>NaN</td>\n",
              "      <td>NaN</td>\n",
              "      <td>NaN</td>\n",
              "      <td>NaN</td>\n",
              "      <td>NaN</td>\n",
              "      <td>NaN</td>\n",
              "      <td>NaN</td>\n",
              "      <td>NaN</td>\n",
              "      <td>NaN</td>\n",
              "      <td>NaN</td>\n",
              "      <td>NaN</td>\n",
              "      <td>NaN</td>\n",
              "      <td>NaN</td>\n",
              "      <td>NaN</td>\n",
              "      <td>NaN</td>\n",
              "      <td>NaN</td>\n",
              "      <td>NaN</td>\n",
              "      <td>NaN</td>\n",
              "      <td>NaN</td>\n",
              "    </tr>\n",
              "    <tr>\n",
              "      <th>1</th>\n",
              "      <td>170</td>\n",
              "      <td>Afghanistan</td>\n",
              "      <td>..</td>\n",
              "      <td>NaN</td>\n",
              "      <td>..</td>\n",
              "      <td>NaN</td>\n",
              "      <td>..</td>\n",
              "      <td>NaN</td>\n",
              "      <td>..</td>\n",
              "      <td>NaN</td>\n",
              "      <td>..</td>\n",
              "      <td>NaN</td>\n",
              "      <td>..</td>\n",
              "      <td>NaN</td>\n",
              "      <td>..</td>\n",
              "      <td>NaN</td>\n",
              "      <td>..</td>\n",
              "      <td>NaN</td>\n",
              "      <td>..</td>\n",
              "      <td>NaN</td>\n",
              "      <td>0.272</td>\n",
              "      <td>a,b</td>\n",
              "      <td>..</td>\n",
              "      <td>NaN</td>\n",
              "      <td>..</td>\n",
              "      <td>NaN</td>\n",
              "      <td>0.272</td>\n",
              "      <td>a,b</td>\n",
              "    </tr>\n",
              "    <tr>\n",
              "      <th>2</th>\n",
              "      <td>69</td>\n",
              "      <td>Albania</td>\n",
              "      <td>..</td>\n",
              "      <td>NaN</td>\n",
              "      <td>..</td>\n",
              "      <td>NaN</td>\n",
              "      <td>..</td>\n",
              "      <td>NaN</td>\n",
              "      <td>..</td>\n",
              "      <td>NaN</td>\n",
              "      <td>..</td>\n",
              "      <td>NaN</td>\n",
              "      <td>..</td>\n",
              "      <td>NaN</td>\n",
              "      <td>..</td>\n",
              "      <td>NaN</td>\n",
              "      <td>..</td>\n",
              "      <td>NaN</td>\n",
              "      <td>..</td>\n",
              "      <td>NaN</td>\n",
              "      <td>..</td>\n",
              "      <td>NaN</td>\n",
              "      <td>..</td>\n",
              "      <td>NaN</td>\n",
              "      <td>0.003</td>\n",
              "      <td>a</td>\n",
              "      <td>0.003</td>\n",
              "      <td>a</td>\n",
              "    </tr>\n",
              "    <tr>\n",
              "      <th>3</th>\n",
              "      <td>82</td>\n",
              "      <td>Algeria</td>\n",
              "      <td>..</td>\n",
              "      <td>NaN</td>\n",
              "      <td>..</td>\n",
              "      <td>NaN</td>\n",
              "      <td>..</td>\n",
              "      <td>NaN</td>\n",
              "      <td>..</td>\n",
              "      <td>NaN</td>\n",
              "      <td>..</td>\n",
              "      <td>NaN</td>\n",
              "      <td>..</td>\n",
              "      <td>NaN</td>\n",
              "      <td>0.008</td>\n",
              "      <td>a</td>\n",
              "      <td>..</td>\n",
              "      <td>NaN</td>\n",
              "      <td>..</td>\n",
              "      <td>NaN</td>\n",
              "      <td>..</td>\n",
              "      <td>NaN</td>\n",
              "      <td>..</td>\n",
              "      <td>NaN</td>\n",
              "      <td>..</td>\n",
              "      <td>NaN</td>\n",
              "      <td>0.008</td>\n",
              "      <td>a</td>\n",
              "    </tr>\n",
              "    <tr>\n",
              "      <th>4</th>\n",
              "      <td>149</td>\n",
              "      <td>Angola</td>\n",
              "      <td>..</td>\n",
              "      <td>NaN</td>\n",
              "      <td>..</td>\n",
              "      <td>NaN</td>\n",
              "      <td>..</td>\n",
              "      <td>NaN</td>\n",
              "      <td>..</td>\n",
              "      <td>NaN</td>\n",
              "      <td>..</td>\n",
              "      <td>NaN</td>\n",
              "      <td>..</td>\n",
              "      <td>NaN</td>\n",
              "      <td>..</td>\n",
              "      <td>NaN</td>\n",
              "      <td>..</td>\n",
              "      <td>NaN</td>\n",
              "      <td>..</td>\n",
              "      <td>NaN</td>\n",
              "      <td>0.282</td>\n",
              "      <td>a</td>\n",
              "      <td>..</td>\n",
              "      <td>NaN</td>\n",
              "      <td>..</td>\n",
              "      <td>NaN</td>\n",
              "      <td>0.282</td>\n",
              "      <td>a</td>\n",
              "    </tr>\n",
              "  </tbody>\n",
              "</table>\n",
              "</div>"
            ],
            "text/plain": [
              "                                            HDI Rank  ... Unnamed: 27\n",
              "0  Multidimensional poverty index (MPI)\\nnull\\nDi...  ...         NaN\n",
              "1                                                170  ...         a,b\n",
              "2                                                 69  ...           a\n",
              "3                                                 82  ...           a\n",
              "4                                                149  ...           a\n",
              "\n",
              "[5 rows x 28 columns]"
            ]
          },
          "metadata": {
            "tags": []
          },
          "execution_count": 6
        }
      ]
    },
    {
      "cell_type": "code",
      "metadata": {
        "colab_type": "code",
        "id": "OccU4xLxMeQU",
        "outputId": "ff06aea6-d5f8-4654-dffd-fa479d0412b5",
        "colab": {
          "base_uri": "https://localhost:8080/",
          "height": 195
        }
      },
      "source": [
        "# create new dataframe with just country and MPI\n",
        "df_mpi_new_subset = pd.DataFrame()\n",
        "df_mpi_new_subset['country'] = df_mpi_new['Country']\n",
        "df_mpi_new_subset['MPI'] = df_mpi_new['2007-2018']\n",
        "\n",
        "#Print head of df_mpi_new_subset\n",
        "df_mpi_new_subset.head()"
      ],
      "execution_count": 7,
      "outputs": [
        {
          "output_type": "execute_result",
          "data": {
            "text/html": [
              "<div>\n",
              "<style scoped>\n",
              "    .dataframe tbody tr th:only-of-type {\n",
              "        vertical-align: middle;\n",
              "    }\n",
              "\n",
              "    .dataframe tbody tr th {\n",
              "        vertical-align: top;\n",
              "    }\n",
              "\n",
              "    .dataframe thead th {\n",
              "        text-align: right;\n",
              "    }\n",
              "</style>\n",
              "<table border=\"1\" class=\"dataframe\">\n",
              "  <thead>\n",
              "    <tr style=\"text-align: right;\">\n",
              "      <th></th>\n",
              "      <th>country</th>\n",
              "      <th>MPI</th>\n",
              "    </tr>\n",
              "  </thead>\n",
              "  <tbody>\n",
              "    <tr>\n",
              "      <th>0</th>\n",
              "      <td>NaN</td>\n",
              "      <td>NaN</td>\n",
              "    </tr>\n",
              "    <tr>\n",
              "      <th>1</th>\n",
              "      <td>Afghanistan</td>\n",
              "      <td>0.272</td>\n",
              "    </tr>\n",
              "    <tr>\n",
              "      <th>2</th>\n",
              "      <td>Albania</td>\n",
              "      <td>0.003</td>\n",
              "    </tr>\n",
              "    <tr>\n",
              "      <th>3</th>\n",
              "      <td>Algeria</td>\n",
              "      <td>0.008</td>\n",
              "    </tr>\n",
              "    <tr>\n",
              "      <th>4</th>\n",
              "      <td>Angola</td>\n",
              "      <td>0.282</td>\n",
              "    </tr>\n",
              "  </tbody>\n",
              "</table>\n",
              "</div>"
            ],
            "text/plain": [
              "        country    MPI\n",
              "0           NaN    NaN\n",
              "1   Afghanistan  0.272\n",
              "2       Albania  0.003\n",
              "3       Algeria  0.008\n",
              "4        Angola  0.282"
            ]
          },
          "metadata": {
            "tags": []
          },
          "execution_count": 7
        }
      ]
    },
    {
      "cell_type": "code",
      "metadata": {
        "colab_type": "code",
        "id": "QbP82bMAMeQb",
        "colab": {}
      },
      "source": [
        "#Drop NaNs from MPI subset\n",
        "df_mpi_new_subset.dropna(inplace=True)"
      ],
      "execution_count": 0,
      "outputs": []
    },
    {
      "cell_type": "code",
      "metadata": {
        "colab_type": "code",
        "id": "RwxPuR3kMeQe",
        "colab": {}
      },
      "source": [
        "# get rid of whitespace in MPI subset\n",
        "df_mpi_new_subset['country'] = df_mpi_new_subset['country'].str.lstrip()"
      ],
      "execution_count": 0,
      "outputs": []
    },
    {
      "cell_type": "code",
      "metadata": {
        "colab_type": "code",
        "id": "oKL8SmrkMeQh",
        "colab": {}
      },
      "source": [
        "# Merge df_raw_loans and df_mpi_new_subset\n",
        "df_raw_final = pd.merge(df_raw_loans,df_mpi_new_subset, on='country',how='left')"
      ],
      "execution_count": 0,
      "outputs": []
    },
    {
      "cell_type": "code",
      "metadata": {
        "colab_type": "code",
        "id": "OF9xV7tzOiKs",
        "outputId": "dc816ba2-897a-49ee-e68c-f7977d71c965",
        "colab": {
          "base_uri": "https://localhost:8080/",
          "height": 77
        }
      },
      "source": [
        "# Print the dimension of df_raw_final\n",
        "pd.DataFrame([[df_raw_final.shape[0], df_raw_final.shape[1]]], columns=['# rows', '# columns'])"
      ],
      "execution_count": 11,
      "outputs": [
        {
          "output_type": "execute_result",
          "data": {
            "text/html": [
              "<div>\n",
              "<style scoped>\n",
              "    .dataframe tbody tr th:only-of-type {\n",
              "        vertical-align: middle;\n",
              "    }\n",
              "\n",
              "    .dataframe tbody tr th {\n",
              "        vertical-align: top;\n",
              "    }\n",
              "\n",
              "    .dataframe thead th {\n",
              "        text-align: right;\n",
              "    }\n",
              "</style>\n",
              "<table border=\"1\" class=\"dataframe\">\n",
              "  <thead>\n",
              "    <tr style=\"text-align: right;\">\n",
              "      <th></th>\n",
              "      <th># rows</th>\n",
              "      <th># columns</th>\n",
              "    </tr>\n",
              "  </thead>\n",
              "  <tbody>\n",
              "    <tr>\n",
              "      <th>0</th>\n",
              "      <td>671205</td>\n",
              "      <td>21</td>\n",
              "    </tr>\n",
              "  </tbody>\n",
              "</table>\n",
              "</div>"
            ],
            "text/plain": [
              "   # rows  # columns\n",
              "0  671205         21"
            ]
          },
          "metadata": {
            "tags": []
          },
          "execution_count": 11
        }
      ]
    },
    {
      "cell_type": "code",
      "metadata": {
        "colab_type": "code",
        "id": "MNlRNtos8YVJ",
        "colab": {}
      },
      "source": [
        "#Convert MPI to numeric\n",
        "df_raw_final['MPI'] = df_raw_final['MPI'].apply(pd.to_numeric, errors='coerce')"
      ],
      "execution_count": 0,
      "outputs": []
    },
    {
      "cell_type": "markdown",
      "metadata": {
        "colab_type": "text",
        "id": "TpAtHY8N8YWw"
      },
      "source": [
        "## 2.4 Group activities"
      ]
    },
    {
      "cell_type": "code",
      "metadata": {
        "colab_type": "code",
        "id": "LHMLWOC8MeRJ",
        "colab": {}
      },
      "source": [
        "# Define function to group items\n",
        "def group_items(item, group):\n",
        "    for key, value in group.items():\n",
        "        if item in value:\n",
        "            return key"
      ],
      "execution_count": 0,
      "outputs": []
    },
    {
      "cell_type": "code",
      "metadata": {
        "colab_type": "code",
        "id": "zJKj2U6l8YWw",
        "colab": {}
      },
      "source": [
        "# Create a dictionary of activities\n",
        "activities_dict = {'healthcare' : [\"Adult Care\", \"Child Care\", \"Dental\", \"Health\", \"Medical Clinic\", \n",
        "                                   \"Natural Medicines\", \"Personal Care Products\",\n",
        "                                   \"Personal Medical Expenses\", \"Pharmacy\", \"Veterinary Sales\"],\n",
        "                   'agriculture_and_livestock' : [\"Agriculture\", \"Animal Sales\", \"Aquaculture\", \n",
        "                                                  \"Beekeeping\", \"Cattle\", \"Farm Supplies\",\n",
        "                                                  \"Farming\", \"Fishing\", \"Livestock\", \"Milk Sales\", \"Pigs\", \"Poultry\"], \n",
        "                   'maintenance' : [\"Air Conditioning\", \"Auto Repair\", \"Bicycle Repair\", \"Electronics Repair\", \n",
        "                                     \"Motorcycle Repair\", \"Phone Repair\", \"Vehicle Repairs\"],\n",
        "                    'arts_and_crafts' : [\"Arts\", \"Crafts\", \"Embroidery\", \"Patchwork\", \"Sewing\", \"Textiles\", \"Weaving\"],\n",
        "                    'food_and_beverages' : [\"Bakery\", \"Balut-Making\", \"Beverages\", \"Cereals\", \"Cheese Making\", \"Cobbler\", \n",
        "                                            \"Dairy\", \"Food\", \"Food Production/Sales\", \"Food Market\", \"Fruits & Vegetables\"],\n",
        "                    'construction_materials' : [\"Bricks\", \"Cement\", \"Carpentry\", \"Construction\", \"Construction Supplies\", \n",
        "                                                \"Electrician\"],\n",
        "                    'business' : [\"Bicycle Sales\", \"Blacksmith\", \"Bookbiding\", \"Bookstore\", \"Butcher Shop\", \"Cafe\", \n",
        "                                  \"Catering\", \"Charcoal Sales\", \"Clothing Sales\", \"Cosmetic Sales\", \"Decoration Sales\", \n",
        "                                  \"Electronics Sales\", \"Fish Selling\", \"Florist\", \"Food Market\", \"Food Stall\", \n",
        "                                  \"Furniture Making\", \"General Store\", \"Grocery Store\", \"Home Products Sales\",\"Hotel\", \n",
        "                                  \"Internet Cafe\", \"Land Rental\", \"Landscaping/Gardening\", \"Laundry\", \"Liquor Store / Off-License\", \n",
        "                                  \"Machine Shop\", \"Machinery Rental\", \"Manufacturing\", \"Metal Shop\", \"Paper Sales\", \n",
        "                                  \"Personal Products Sales\", \"Phone Use Sales\", \"Plastics Sales\", \"Quarrying\", \"Restaurant\", \"Retail\", \"Shoe Sales\", \"Souvenir Sales\", \n",
        "                                  \"Sporting Good Sales\", \"Tailoring\", \"Taxi\", \"Rickshaw\", \"Timber Sales\", \"Traveling Sales\",\n",
        "                                  \"Upholstery\", \"Wholesale\", \"Barber Shop\", \"Beauty Salon\", \"Call Center\"], \n",
        "                   'entertainment' : [\"Celebrations\", \"Entertainment\", \"Film\", \"Games\", \"Movie Tapes & DVDs\", \n",
        "                                      \"Music Discs & Tapes\", \"Musical Instruments\", \"Musical Performance\", \"Party Supplies\",\n",
        "                                      \"Photography\", \"Pub\", \"Wedding Expenses\"],\n",
        "                   'services' : [\"Cleaning Services\", \"Secretarial Services\", \"Services\", \"Tourism\", \"Transportation\", \n",
        "                                 \"Utilities\", \"Waste Management\", \"Water Distribution\", \"Well digging\"],\n",
        "                   'supplies' : [\"Cloth & Dressmaking Supplies\", \"Clothing\", \"Goods Distribution\", \"Office Supplies\", \n",
        "                                 \"Used Clothing\", \"Used Shoes\"],\n",
        "                   'technology_and_IT' : [\"Communications\", \"Computer\", \"Computers\", \"Hardware\", \"Mobile Phones\", \n",
        "                                          \"Mobile Transactions\", \"Phone Accessories\", \"Technology\", \"Electrical Goods\"],\n",
        "                   'miscellaneous' : [\"Consumer Goods\", \"Event Planning\", \"Flowers\", \"Funerals\", \"Home Appliances\", \n",
        "                                       \"Jewelry\", \"Knitting\", \"Motorcycle Transport\", \"Perfumes\", \"Personal Expenses\", \n",
        "                                       \"Personal Housing Expenses\", \"Printing\", \"Property\", \"Recycled Materials\", \n",
        "                                      \"Recycling\", \"Religious Articles\", \"Spare Parts\", \"Vehicle\"],\n",
        "                   'education' : [\"Education provider\", \"Higher education costs\", \"Primary/secondary school costs\"],\n",
        "                    'energy' : [\"Energy\", \"Fuel/Firewood\", \"Home Energy\", \"Renewable Energy Products\"]}"
      ],
      "execution_count": 0,
      "outputs": []
    },
    {
      "cell_type": "code",
      "metadata": {
        "colab_type": "code",
        "id": "4zSe0NfM8YW0",
        "colab": {}
      },
      "source": [
        "# Call group_items on df_raw_final\n",
        "df_raw_final['activities'] = df_raw_final['activity'].apply(lambda x: group_items(x, activities_dict))"
      ],
      "execution_count": 0,
      "outputs": []
    },
    {
      "cell_type": "markdown",
      "metadata": {
        "colab_type": "text",
        "id": "kfmyTeJh8YXW"
      },
      "source": [
        "\n",
        "## 2.5 Group countries "
      ]
    },
    {
      "cell_type": "code",
      "metadata": {
        "colab_type": "code",
        "id": "VTIqRRxu8YXf",
        "colab": {}
      },
      "source": [
        "# Create a dictionary of regions\n",
        "areas = {'South_East_Asia' : ['Philippines', 'Indonesia', 'Timor-Leste'],\n",
        "         'Eastern_Asia' : ['China', 'Cambodia', 'Vietnam',\"Lao People's Democratic Republic\", 'Thailand'],\n",
        "         'Eastern_Africa' : ['Kenya', 'Uganda', 'Mali', 'Rwanda', 'Tanzania','Madagascar', 'Mozambique','Egypt', 'Somalia'],\n",
        "         'Western_Africa' : ['Togo', 'Sierra Leone', 'Ghana', 'Liberia', 'Senegal', 'Burkina Faso', 'Cameroon',\n",
        "                             'Mauritania', \"Cote D'Ivoire\", 'Benin', 'Nigeria'],\n",
        "         'Southern_Africa' : ['Zimbabwe', 'Malawi', 'Zambia', 'Lesotho', 'South Africa', 'Namibia'],\n",
        "         'Central_Africa' : ['The Democratic Republic of the Congo', 'Burundi', 'Zambia', 'South Sudan', 'Congo'],\n",
        "         'Central_America' : ['El Salvador', 'Nicaragua', 'Honduras', 'Haiti', 'Costa Rica', 'Dominican Republic',\n",
        "                             'Panama', 'Belize', 'Puerto Rico', 'Saint Vincent and the Grenadines'], \n",
        "         'South_Asia' : ['Pakistan', 'India', 'Myanmar (Burma)', 'Nepal', 'Bhutan'],\n",
        "         'South_America' : ['Peru', 'Colombia', 'Ecuador', 'Paraguay', 'Brazil', 'Suriname', 'Bolivia', 'Chile'],\n",
        "         'Central_Asia' : ['Tajikistan', 'Kyrgyzstan', 'Mongolia'],\n",
        "         'Middle_East' : ['Lebanon', 'Palestine', 'Jordan', 'Yemen', 'Turkey', 'Iraq', 'Israel', 'Afghanistan'],\n",
        "         'Pacific_Islands' : ['Samoa', 'Solomon Islands', 'Vanuatu', 'Guam'],\n",
        "         'North_America' : ['United States', 'Mexico', 'Virgin Islands'],\n",
        "         'Eastern Europe' : ['Armenia', 'Georgia', 'Albania', 'Azerbaijan', 'Kosovo', 'Ukraine', 'Moldova']}"
      ],
      "execution_count": 0,
      "outputs": []
    },
    {
      "cell_type": "code",
      "metadata": {
        "colab_type": "code",
        "id": "apRhRwyr8YXj",
        "colab": {}
      },
      "source": [
        "# Call group_items on df_raw_final\n",
        "df_raw_final['grouped_countries'] = df_raw_final['country'].apply(lambda x: group_items(x, areas))"
      ],
      "execution_count": 0,
      "outputs": []
    },
    {
      "cell_type": "code",
      "metadata": {
        "colab_type": "code",
        "id": "vjeZPq_68YXq",
        "outputId": "2e408e7b-7da6-4e97-c9dc-984edd04e527",
        "colab": {
          "base_uri": "https://localhost:8080/",
          "height": 286
        }
      },
      "source": [
        "areas = df_raw_final.groupby('grouped_countries').size()\n",
        "areas"
      ],
      "execution_count": 18,
      "outputs": [
        {
          "output_type": "execute_result",
          "data": {
            "text/plain": [
              "grouped_countries\n",
              "Central_Africa       4241\n",
              "Central_America     64290\n",
              "Central_Asia        26318\n",
              "Eastern Europe      17649\n",
              "Eastern_Africa     124037\n",
              "Eastern_Asia        47479\n",
              "Middle_East         26327\n",
              "North_America       11836\n",
              "Pacific_Islands      7955\n",
              "South_America       78975\n",
              "South_Asia          40683\n",
              "South_East_Asia    169345\n",
              "Southern_Africa      6946\n",
              "Western_Africa      37814\n",
              "dtype: int64"
            ]
          },
          "metadata": {
            "tags": []
          },
          "execution_count": 18
        }
      ]
    },
    {
      "cell_type": "markdown",
      "metadata": {
        "colab_type": "text",
        "id": "2ec9OUno8YX0"
      },
      "source": [
        "## 2.6 Split Borrower Gender"
      ]
    },
    {
      "cell_type": "code",
      "metadata": {
        "colab_type": "code",
        "id": "U_smQGp78YYD",
        "colab": {}
      },
      "source": [
        "# Define function to split borrower_genders\n",
        "def split_borrowers_gender(data):\n",
        "    missing=0\n",
        "    list_m=[]\n",
        "    list_f=[]\n",
        "    for gender in data:\n",
        "        count_m=0\n",
        "        count_f=0\n",
        "        if type(gender) == float:\n",
        "            missing = missing+1\n",
        "        else:\n",
        "            gender = gender.replace(\",\", \" \")\n",
        "            mainlist = gender.split(\" \")\n",
        "            for lg in mainlist:\n",
        "                if lg==\"female\":\n",
        "                    count_f=count_f+1\n",
        "                elif lg==\"male\":\n",
        "                    count_m=count_m+1\n",
        "        list_m.append(count_m)\n",
        "        list_f.append(count_f)\n",
        "    return list_m,list_f,missing"
      ],
      "execution_count": 0,
      "outputs": []
    },
    {
      "cell_type": "code",
      "metadata": {
        "colab_type": "code",
        "id": "6YtGCPN48YYH",
        "colab": {}
      },
      "source": [
        "# Extract borrowers data\n",
        "borrowers_gender_data = df_raw_final['borrower_genders'][:]\n",
        "\n",
        "# Call split_borrowers_gender  \n",
        "m1,f1,miss = split_borrowers_gender(borrowers_gender_data)\n",
        "\n",
        "# Create new columns on df_raw_final\n",
        "df_raw_final['male_borrowers']=m1\n",
        "df_raw_final['female_borrowers']=f1"
      ],
      "execution_count": 0,
      "outputs": []
    },
    {
      "cell_type": "markdown",
      "metadata": {
        "colab_type": "text",
        "id": "b-sK91z_MeRe"
      },
      "source": [
        "## 2.7 Drop unnecessary columns"
      ]
    },
    {
      "cell_type": "code",
      "metadata": {
        "colab_type": "code",
        "id": "L-WhvR-s8YYg",
        "colab": {}
      },
      "source": [
        "# Create function to drop unnecessary columns\n",
        "def drop_values(df, list_variables):\n",
        "    for variable in list_variables:\n",
        "        df.drop([variable], axis=1, inplace=True)\n",
        "    return df"
      ],
      "execution_count": 0,
      "outputs": []
    },
    {
      "cell_type": "code",
      "metadata": {
        "colab_type": "code",
        "id": "RtkHuTuk8YYj",
        "colab": {}
      },
      "source": [
        "# Define variables to drop\n",
        "list_to_drop = ['partner_id', 'tags','use','posted_time','disbursed_time','funded_time',\n",
        "                'date','country_code','funded_amount','activity','currency',\n",
        "                'borrower_genders','sector']"
      ],
      "execution_count": 0,
      "outputs": []
    },
    {
      "cell_type": "code",
      "metadata": {
        "colab_type": "code",
        "id": "jSVHuihJ8YYo",
        "colab": {}
      },
      "source": [
        "# Call drop_values on df_raw_final\n",
        "df_raw_final = drop_values(df_raw_final, list_to_drop)"
      ],
      "execution_count": 0,
      "outputs": []
    },
    {
      "cell_type": "markdown",
      "metadata": {
        "colab_type": "text",
        "id": "rTCTFAVq1rxN"
      },
      "source": [
        "## 2.8 Choose Latin American countries"
      ]
    },
    {
      "cell_type": "code",
      "metadata": {
        "colab_type": "code",
        "id": "4tJ_RcwK8YZX",
        "colab": {}
      },
      "source": [
        "# Choose only coutries of Latin American region --> includes subregions: Central America and South America\n",
        "df_latam = df_raw_final.loc[(df_raw_final['grouped_countries']=='South_America') | \n",
        "                 (df_raw_final['grouped_countries']=='Central_America')]"
      ],
      "execution_count": 0,
      "outputs": []
    },
    {
      "cell_type": "code",
      "metadata": {
        "colab_type": "code",
        "id": "G19Z7hdTAieQ",
        "outputId": "0cc9b0ab-30d6-47b5-818a-bd87a4ffc7ce",
        "scrolled": true,
        "colab": {
          "base_uri": "https://localhost:8080/",
          "height": 336
        }
      },
      "source": [
        "df_latam['country'].value_counts()"
      ],
      "execution_count": 25,
      "outputs": [
        {
          "output_type": "execute_result",
          "data": {
            "text/plain": [
              "El Salvador                         39875\n",
              "Peru                                22233\n",
              "Colombia                            21995\n",
              "Ecuador                             13521\n",
              "Paraguay                            11903\n",
              "Nicaragua                           11781\n",
              "Bolivia                              8806\n",
              "Honduras                             6557\n",
              "Haiti                                3618\n",
              "Costa Rica                           1561\n",
              "Dominican Republic                    496\n",
              "Brazil                                284\n",
              "Suriname                              223\n",
              "Panama                                193\n",
              "Belize                                125\n",
              "Puerto Rico                            68\n",
              "Saint Vincent and the Grenadines       16\n",
              "Chile                                  10\n",
              "Name: country, dtype: int64"
            ]
          },
          "metadata": {
            "tags": []
          },
          "execution_count": 25
        }
      ]
    },
    {
      "cell_type": "code",
      "metadata": {
        "colab_type": "code",
        "id": "nIRePItM8YZc",
        "colab": {}
      },
      "source": [
        "#Drop the column \"grouped_countries\"\n",
        "df_latam.drop(['grouped_countries'], axis=1, inplace=True)"
      ],
      "execution_count": 0,
      "outputs": []
    },
    {
      "cell_type": "markdown",
      "metadata": {
        "colab_type": "text",
        "id": "BeKfitnAD-k-"
      },
      "source": [
        "## 2.9 Check data frame"
      ]
    },
    {
      "cell_type": "code",
      "metadata": {
        "colab_type": "code",
        "id": "F-8ojxH2GrI4",
        "colab": {}
      },
      "source": [
        "# Define function to check columns of data frame\n",
        "def check_columns(df):\n",
        "  \"\"\"\n",
        "  Parameters\n",
        "  ----------\n",
        "  df : dataframe\n",
        "    \n",
        "  Returns\n",
        "  ----------\n",
        "  The dataframe of variables with total unique values and dtype of variable\n",
        "  \"\"\"\n",
        "\n",
        "  # Get the dataframe of variables with their total unique values and dtype\n",
        "  df_values = pd.DataFrame([[var, df[var].nunique(),df[var].dtype] for var in df.columns],\n",
        "             columns=['var','values','type'])\n",
        "\n",
        "  # Sort df_values in accending order of the total number of values\n",
        "  df_values = df_values.sort_values(by='values', ascending=False).reset_index(drop=True)\n",
        "    \n",
        "  return df_values"
      ],
      "execution_count": 0,
      "outputs": []
    },
    {
      "cell_type": "code",
      "metadata": {
        "colab_type": "code",
        "id": "PNT_y3vrKU6N",
        "outputId": "51b84c48-8675-4a27-820f-6c1202a2ed24",
        "colab": {
          "base_uri": "https://localhost:8080/",
          "height": 373
        }
      },
      "source": [
        "# Call check_columns on df_raw_final\n",
        "check_columns(df_latam)"
      ],
      "execution_count": 28,
      "outputs": [
        {
          "output_type": "execute_result",
          "data": {
            "text/html": [
              "<div>\n",
              "<style scoped>\n",
              "    .dataframe tbody tr th:only-of-type {\n",
              "        vertical-align: middle;\n",
              "    }\n",
              "\n",
              "    .dataframe tbody tr th {\n",
              "        vertical-align: top;\n",
              "    }\n",
              "\n",
              "    .dataframe thead th {\n",
              "        text-align: right;\n",
              "    }\n",
              "</style>\n",
              "<table border=\"1\" class=\"dataframe\">\n",
              "  <thead>\n",
              "    <tr style=\"text-align: right;\">\n",
              "      <th></th>\n",
              "      <th>var</th>\n",
              "      <th>values</th>\n",
              "      <th>type</th>\n",
              "    </tr>\n",
              "  </thead>\n",
              "  <tbody>\n",
              "    <tr>\n",
              "      <th>0</th>\n",
              "      <td>id</td>\n",
              "      <td>143265</td>\n",
              "      <td>int64</td>\n",
              "    </tr>\n",
              "    <tr>\n",
              "      <th>1</th>\n",
              "      <td>region</td>\n",
              "      <td>1616</td>\n",
              "      <td>object</td>\n",
              "    </tr>\n",
              "    <tr>\n",
              "      <th>2</th>\n",
              "      <td>loan_amount</td>\n",
              "      <td>375</td>\n",
              "      <td>float64</td>\n",
              "    </tr>\n",
              "    <tr>\n",
              "      <th>3</th>\n",
              "      <td>lender_count</td>\n",
              "      <td>331</td>\n",
              "      <td>int64</td>\n",
              "    </tr>\n",
              "    <tr>\n",
              "      <th>4</th>\n",
              "      <td>term_in_months</td>\n",
              "      <td>140</td>\n",
              "      <td>float64</td>\n",
              "    </tr>\n",
              "    <tr>\n",
              "      <th>5</th>\n",
              "      <td>female_borrowers</td>\n",
              "      <td>33</td>\n",
              "      <td>int64</td>\n",
              "    </tr>\n",
              "    <tr>\n",
              "      <th>6</th>\n",
              "      <td>country</td>\n",
              "      <td>18</td>\n",
              "      <td>object</td>\n",
              "    </tr>\n",
              "    <tr>\n",
              "      <th>7</th>\n",
              "      <td>activities</td>\n",
              "      <td>14</td>\n",
              "      <td>object</td>\n",
              "    </tr>\n",
              "    <tr>\n",
              "      <th>8</th>\n",
              "      <td>male_borrowers</td>\n",
              "      <td>14</td>\n",
              "      <td>int64</td>\n",
              "    </tr>\n",
              "    <tr>\n",
              "      <th>9</th>\n",
              "      <td>MPI</td>\n",
              "      <td>12</td>\n",
              "      <td>float64</td>\n",
              "    </tr>\n",
              "    <tr>\n",
              "      <th>10</th>\n",
              "      <td>repayment_interval</td>\n",
              "      <td>3</td>\n",
              "      <td>object</td>\n",
              "    </tr>\n",
              "  </tbody>\n",
              "</table>\n",
              "</div>"
            ],
            "text/plain": [
              "                   var  values     type\n",
              "0                   id  143265    int64\n",
              "1               region    1616   object\n",
              "2          loan_amount     375  float64\n",
              "3         lender_count     331    int64\n",
              "4       term_in_months     140  float64\n",
              "5     female_borrowers      33    int64\n",
              "6              country      18   object\n",
              "7           activities      14   object\n",
              "8       male_borrowers      14    int64\n",
              "9                  MPI      12  float64\n",
              "10  repayment_interval       3   object"
            ]
          },
          "metadata": {
            "tags": []
          },
          "execution_count": 28
        }
      ]
    },
    {
      "cell_type": "code",
      "metadata": {
        "colab_type": "code",
        "id": "kTGC1-GgLazO",
        "outputId": "0fbbc138-c530-4726-d3e3-0cfb9f209a09",
        "colab": {
          "base_uri": "https://localhost:8080/",
          "height": 77
        }
      },
      "source": [
        "# Print the dimension of df_raw_final\n",
        "pd.DataFrame([[df_latam.shape[0], df_latam.shape[1]]], columns=['# rows', '# columns'])"
      ],
      "execution_count": 29,
      "outputs": [
        {
          "output_type": "execute_result",
          "data": {
            "text/html": [
              "<div>\n",
              "<style scoped>\n",
              "    .dataframe tbody tr th:only-of-type {\n",
              "        vertical-align: middle;\n",
              "    }\n",
              "\n",
              "    .dataframe tbody tr th {\n",
              "        vertical-align: top;\n",
              "    }\n",
              "\n",
              "    .dataframe thead th {\n",
              "        text-align: right;\n",
              "    }\n",
              "</style>\n",
              "<table border=\"1\" class=\"dataframe\">\n",
              "  <thead>\n",
              "    <tr style=\"text-align: right;\">\n",
              "      <th></th>\n",
              "      <th># rows</th>\n",
              "      <th># columns</th>\n",
              "    </tr>\n",
              "  </thead>\n",
              "  <tbody>\n",
              "    <tr>\n",
              "      <th>0</th>\n",
              "      <td>143265</td>\n",
              "      <td>11</td>\n",
              "    </tr>\n",
              "  </tbody>\n",
              "</table>\n",
              "</div>"
            ],
            "text/plain": [
              "   # rows  # columns\n",
              "0  143265         11"
            ]
          },
          "metadata": {
            "tags": []
          },
          "execution_count": 29
        }
      ]
    },
    {
      "cell_type": "code",
      "metadata": {
        "colab_type": "code",
        "id": "7oz3GlzUMeRq",
        "outputId": "104c0cc1-1389-4e3d-ddc1-40fc0dba77f8",
        "colab": {
          "base_uri": "https://localhost:8080/",
          "height": 282
        }
      },
      "source": [
        "df_latam.head()"
      ],
      "execution_count": 30,
      "outputs": [
        {
          "output_type": "execute_result",
          "data": {
            "text/html": [
              "<div>\n",
              "<style scoped>\n",
              "    .dataframe tbody tr th:only-of-type {\n",
              "        vertical-align: middle;\n",
              "    }\n",
              "\n",
              "    .dataframe tbody tr th {\n",
              "        vertical-align: top;\n",
              "    }\n",
              "\n",
              "    .dataframe thead th {\n",
              "        text-align: right;\n",
              "    }\n",
              "</style>\n",
              "<table border=\"1\" class=\"dataframe\">\n",
              "  <thead>\n",
              "    <tr style=\"text-align: right;\">\n",
              "      <th></th>\n",
              "      <th>id</th>\n",
              "      <th>loan_amount</th>\n",
              "      <th>country</th>\n",
              "      <th>region</th>\n",
              "      <th>term_in_months</th>\n",
              "      <th>lender_count</th>\n",
              "      <th>repayment_interval</th>\n",
              "      <th>MPI</th>\n",
              "      <th>activities</th>\n",
              "      <th>male_borrowers</th>\n",
              "      <th>female_borrowers</th>\n",
              "    </tr>\n",
              "  </thead>\n",
              "  <tbody>\n",
              "    <tr>\n",
              "      <th>48</th>\n",
              "      <td>653359</td>\n",
              "      <td>600.0</td>\n",
              "      <td>Nicaragua</td>\n",
              "      <td>Leon</td>\n",
              "      <td>14.0</td>\n",
              "      <td>16</td>\n",
              "      <td>monthly</td>\n",
              "      <td>0.074</td>\n",
              "      <td>business</td>\n",
              "      <td>0</td>\n",
              "      <td>1</td>\n",
              "    </tr>\n",
              "    <tr>\n",
              "      <th>49</th>\n",
              "      <td>653418</td>\n",
              "      <td>450.0</td>\n",
              "      <td>El Salvador</td>\n",
              "      <td>NaN</td>\n",
              "      <td>14.0</td>\n",
              "      <td>18</td>\n",
              "      <td>monthly</td>\n",
              "      <td>0.032</td>\n",
              "      <td>business</td>\n",
              "      <td>1</td>\n",
              "      <td>0</td>\n",
              "    </tr>\n",
              "    <tr>\n",
              "      <th>53</th>\n",
              "      <td>653432</td>\n",
              "      <td>550.0</td>\n",
              "      <td>Peru</td>\n",
              "      <td>Ica</td>\n",
              "      <td>14.0</td>\n",
              "      <td>20</td>\n",
              "      <td>monthly</td>\n",
              "      <td>0.053</td>\n",
              "      <td>miscellaneous</td>\n",
              "      <td>1</td>\n",
              "      <td>0</td>\n",
              "    </tr>\n",
              "    <tr>\n",
              "      <th>69</th>\n",
              "      <td>653410</td>\n",
              "      <td>1075.0</td>\n",
              "      <td>Peru</td>\n",
              "      <td>Ica</td>\n",
              "      <td>17.0</td>\n",
              "      <td>41</td>\n",
              "      <td>monthly</td>\n",
              "      <td>0.053</td>\n",
              "      <td>services</td>\n",
              "      <td>1</td>\n",
              "      <td>0</td>\n",
              "    </tr>\n",
              "    <tr>\n",
              "      <th>80</th>\n",
              "      <td>653430</td>\n",
              "      <td>1000.0</td>\n",
              "      <td>Honduras</td>\n",
              "      <td>Nueva Frontera, Santa Barbara.</td>\n",
              "      <td>20.0</td>\n",
              "      <td>34</td>\n",
              "      <td>monthly</td>\n",
              "      <td>0.090</td>\n",
              "      <td>business</td>\n",
              "      <td>0</td>\n",
              "      <td>1</td>\n",
              "    </tr>\n",
              "  </tbody>\n",
              "</table>\n",
              "</div>"
            ],
            "text/plain": [
              "        id  loan_amount  ... male_borrowers female_borrowers\n",
              "48  653359        600.0  ...              0                1\n",
              "49  653418        450.0  ...              1                0\n",
              "53  653432        550.0  ...              1                0\n",
              "69  653410       1075.0  ...              1                0\n",
              "80  653430       1000.0  ...              0                1\n",
              "\n",
              "[5 rows x 11 columns]"
            ]
          },
          "metadata": {
            "tags": []
          },
          "execution_count": 30
        }
      ]
    },
    {
      "cell_type": "markdown",
      "metadata": {
        "id": "b5s3e1m6OQiB",
        "colab_type": "text"
      },
      "source": [
        "## 2.10 Exploratory Data Analysis"
      ]
    },
    {
      "cell_type": "code",
      "metadata": {
        "id": "qZdgIfPhOQiC",
        "colab_type": "code",
        "outputId": "3658b7dc-a328-4331-df91-332f10f5c117",
        "colab": {
          "base_uri": "https://localhost:8080/",
          "height": 298
        }
      },
      "source": [
        "# countries\n",
        "import seaborn as sns\n",
        "import matplotlib.pyplot as plt\n",
        "\n",
        "top_countries = df_latam[\"country\"].value_counts()[:10]\n",
        "top_countries.sort_values(ascending=False, inplace=True)\n",
        "\n",
        "current_palette = sns.color_palette()\n",
        "\n",
        "sns.barplot(top_countries.values, top_countries.index, alpha=0.8)\n",
        "plt.title(\"Distribution of Countries\")\n"
      ],
      "execution_count": 0,
      "outputs": [
        {
          "output_type": "execute_result",
          "data": {
            "text/plain": [
              "Text(0.5, 1.0, 'Distribution of Countries')"
            ]
          },
          "metadata": {
            "tags": []
          },
          "execution_count": 30
        },
        {
          "output_type": "display_data",
          "data": {
            "image/png": "[encoded data removed]",
            "text/plain": [
              "<Figure size 432x288 with 1 Axes>"
            ]
          },
          "metadata": {
            "tags": [],
            "needs_background": "light"
          }
        }
      ]
    },
    {
      "cell_type": "code",
      "metadata": {
        "id": "owr1r1jMOQiK",
        "colab_type": "code",
        "outputId": "73bad27c-a51f-48e6-d195-8aad34571fa5",
        "colab": {
          "base_uri": "https://localhost:8080/",
          "height": 312
        }
      },
      "source": [
        "# LOAN AMOUNT\n",
        "colors = 'cornflowerblue'\n",
        "sns.distplot(df_latam['loan_amount'], bins=20, color=colors)\n",
        "plt.title('Distribution of Loan Amounts')\n",
        "plt.xlabel('Loan Amount ($)')\n",
        "plt.ylabel('Frequency')"
      ],
      "execution_count": 0,
      "outputs": [
        {
          "output_type": "execute_result",
          "data": {
            "text/plain": [
              "Text(0, 0.5, 'Frequency')"
            ]
          },
          "metadata": {
            "tags": []
          },
          "execution_count": 31
        },
        {
          "output_type": "display_data",
          "data": {
            "image/png": "[encoded data removed]",
            "text/plain": [
              "<Figure size 432x288 with 1 Axes>"
            ]
          },
          "metadata": {
            "tags": [],
            "needs_background": "light"
          }
        }
      ]
    },
    {
      "cell_type": "code",
      "metadata": {
        "id": "S2t68ipxOQiO",
        "colab_type": "code",
        "outputId": "32a8c46b-cbb0-4d4f-c46b-c2f6a4084b48",
        "colab": {
          "base_uri": "https://localhost:8080/",
          "height": 332
        }
      },
      "source": [
        "# REPAYMENT INTERVAL\n",
        "\n",
        "colors_3 = ['cornflowerblue','darkorange', 'mediumseagreen']\n",
        "rep_int = df_latam['repayment_interval'].value_counts()\n",
        "rep_int.plot.bar(title='Repayment Interval Type', color=colors_3)"
      ],
      "execution_count": 0,
      "outputs": [
        {
          "output_type": "execute_result",
          "data": {
            "text/plain": [
              "<matplotlib.axes._subplots.AxesSubplot at 0x7fb66f1e4208>"
            ]
          },
          "metadata": {
            "tags": []
          },
          "execution_count": 32
        },
        {
          "output_type": "display_data",
          "data": {
            "image/png": "[encoded data removed]",
            "text/plain": [
              "<Figure size 432x288 with 1 Axes>"
            ]
          },
          "metadata": {
            "tags": [],
            "needs_background": "light"
          }
        }
      ]
    },
    {
      "cell_type": "code",
      "metadata": {
        "id": "oBtub9sVOQiT",
        "colab_type": "code",
        "outputId": "65db7948-5e89-4362-bb16-4d12526c6ef8",
        "colab": {
          "base_uri": "https://localhost:8080/",
          "height": 298
        }
      },
      "source": [
        "# ACTIVITES\n",
        "\n",
        "activities_bar = df_latam[\"activities\"].value_counts()\n",
        "activities_bar.sort_values(ascending=False, inplace=True)\n",
        "\n",
        "sns.barplot(activities_bar.values, activities_bar.index, alpha=0.8)\n",
        "plt.title(\"Distribution of Activities\")"
      ],
      "execution_count": 0,
      "outputs": [
        {
          "output_type": "execute_result",
          "data": {
            "text/plain": [
              "Text(0.5, 1.0, 'Distribution of Activities')"
            ]
          },
          "metadata": {
            "tags": []
          },
          "execution_count": 33
        },
        {
          "output_type": "display_data",
          "data": {
            "image/png": "[encoded data removed]",
            "text/plain": [
              "<Figure size 432x288 with 1 Axes>"
            ]
          },
          "metadata": {
            "tags": [],
            "needs_background": "light"
          }
        }
      ]
    },
    {
      "cell_type": "code",
      "metadata": {
        "id": "JxzM8GHIOQib",
        "colab_type": "code",
        "outputId": "8b54257f-5386-4087-c9c1-75a6fba6deb3",
        "colab": {
          "base_uri": "https://localhost:8080/",
          "height": 312
        }
      },
      "source": [
        "# TERM IN MONTHS\n",
        "\n",
        "colors = 'cornflowerblue'\n",
        "funded_amount_hist = plt.hist(df_latam['term_in_months'], bins=15, range=[1,50], color=colors)\n",
        "\n",
        "plt.ylabel('Frequency')\n",
        "plt.xlabel('Loan term (months)')\n",
        "plt.title(\"Distribution of Loan Term (Months)\")"
      ],
      "execution_count": 0,
      "outputs": [
        {
          "output_type": "execute_result",
          "data": {
            "text/plain": [
              "Text(0.5, 1.0, 'Distribution of Loan Term (Months)')"
            ]
          },
          "metadata": {
            "tags": []
          },
          "execution_count": 34
        },
        {
          "output_type": "display_data",
          "data": {
            "image/png": "[encoded data removed]",
            "text/plain": [
              "<Figure size 432x288 with 1 Axes>"
            ]
          },
          "metadata": {
            "tags": [],
            "needs_background": "light"
          }
        }
      ]
    },
    {
      "cell_type": "code",
      "metadata": {
        "id": "fh4QQKw1OQif",
        "colab_type": "code",
        "outputId": "b8a40a4c-94d7-46cf-9619-d3f50add257b",
        "colab": {
          "base_uri": "https://localhost:8080/",
          "height": 312
        }
      },
      "source": [
        "#  LENDER COUNT (# of lenders contributing to the loan)\n",
        "\n",
        "funded_amount_hist = plt.hist(df_latam['lender_count'], bins=20, range=[1,40], color=colors)\n",
        "plt.ylabel('Frequency')\n",
        "plt.xlabel('Lender Count')\n",
        "plt.title(\"Distribution of Lender Count\")"
      ],
      "execution_count": 0,
      "outputs": [
        {
          "output_type": "execute_result",
          "data": {
            "text/plain": [
              "Text(0.5, 1.0, 'Distribution of Lender Count')"
            ]
          },
          "metadata": {
            "tags": []
          },
          "execution_count": 35
        },
        {
          "output_type": "display_data",
          "data": {
            "image/png": "[encoded data removed]",
            "text/plain": [
              "<Figure size 432x288 with 1 Axes>"
            ]
          },
          "metadata": {
            "tags": [],
            "needs_background": "light"
          }
        }
      ]
    },
    {
      "cell_type": "code",
      "metadata": {
        "id": "aeUTMC07OQih",
        "colab_type": "code",
        "outputId": "c73c5be2-f7dd-41d9-9256-8835072c832d",
        "colab": {
          "base_uri": "https://localhost:8080/",
          "height": 312
        }
      },
      "source": [
        "# MPI\n",
        "\n",
        "funded_amount_hist = plt.hist(df_latam['MPI'], bins=6, color=colors)\n",
        "plt.ylabel('Frequency')\n",
        "plt.xlabel('MPI')\n",
        "plt.title(\"Distribution of MPI\")"
      ],
      "execution_count": 0,
      "outputs": [
        {
          "output_type": "execute_result",
          "data": {
            "text/plain": [
              "Text(0.5, 1.0, 'Distribution of MPI')"
            ]
          },
          "metadata": {
            "tags": []
          },
          "execution_count": 36
        },
        {
          "output_type": "display_data",
          "data": {
            "image/png": "[encoded data removed]",
            "text/plain": [
              "<Figure size 432x288 with 1 Axes>"
            ]
          },
          "metadata": {
            "tags": [],
            "needs_background": "light"
          }
        }
      ]
    },
    {
      "cell_type": "code",
      "metadata": {
        "id": "1OnzjrJZOQim",
        "colab_type": "code",
        "outputId": "ec8b7041-538c-4ab6-908a-f11820a48f5c",
        "colab": {
          "base_uri": "https://localhost:8080/",
          "height": 282
        }
      },
      "source": [
        "# BORROWER GENDER\n",
        "\n",
        "male_borrowers = sum(df_latam['male_borrowers'])\n",
        "female_borrowers=sum(df_latam['female_borrowers'])\n",
        "\n",
        "labels='Male','Female'\n",
        "sizes=[male_borrowers,female_borrowers]\n",
        "colors_2=['cornflowerblue','lightcoral']\n",
        "plt.pie(sizes, explode=(0.02,0), labels=labels,colors=colors_2, startangle=90, autopct='%1.1f%%')\n",
        "plt.title('Borrower Genders')\n"
      ],
      "execution_count": 0,
      "outputs": [
        {
          "output_type": "execute_result",
          "data": {
            "text/plain": [
              "Text(0.5, 1.0, 'Borrower Genders')"
            ]
          },
          "metadata": {
            "tags": []
          },
          "execution_count": 37
        },
        {
          "output_type": "display_data",
          "data": {
            "image/png": "[encoded data removed]",
            "text/plain": [
              "<Figure size 432x288 with 1 Axes>"
            ]
          },
          "metadata": {
            "tags": []
          }
        }
      ]
    },
    {
      "cell_type": "markdown",
      "metadata": {
        "colab_type": "text",
        "id": "E9zIy_mrgSB1"
      },
      "source": [
        "## 2.11 Create copy of Latam dataframe"
      ]
    },
    {
      "cell_type": "code",
      "metadata": {
        "colab_type": "code",
        "id": "s-VDh08CgNjO",
        "colab": {}
      },
      "source": [
        "df_preprocessed = df_latam.copy(deep=True)"
      ],
      "execution_count": 0,
      "outputs": []
    },
    {
      "cell_type": "markdown",
      "metadata": {
        "colab_type": "text",
        "id": "oQ6xZx2kWQxy"
      },
      "source": [
        "# 3. Data Preprocessing"
      ]
    },
    {
      "cell_type": "markdown",
      "metadata": {
        "colab_type": "text",
        "id": "g8k9K_8Z8YZ2"
      },
      "source": [
        "## 3.1 Handling identifiers"
      ]
    },
    {
      "cell_type": "markdown",
      "metadata": {
        "colab_type": "text",
        "id": "bYqNMJh7MeSX"
      },
      "source": [
        "### 3.1.1 Identifying the identifiers"
      ]
    },
    {
      "cell_type": "code",
      "metadata": {
        "colab_type": "code",
        "id": "72cb8gFfMeSY",
        "colab": {}
      },
      "source": [
        "def id_checker(df):\n",
        "    \"\"\"\n",
        "    The identifier checker\n",
        "\n",
        "    Parameters\n",
        "    ----------\n",
        "    df : dataframe\n",
        "    \n",
        "    Returns\n",
        "    ----------\n",
        "    The dataframe of identifiers\n",
        "    \"\"\"\n",
        "    \n",
        "    # Get the identifiers\n",
        "    df_id = df[[var for var in df.columns \n",
        "                if (df[var].dtype != 'float'\n",
        "                    and df[var].nunique(dropna=True) == df[var].notnull().sum())]]\n",
        "    \n",
        "    return df_id"
      ],
      "execution_count": 0,
      "outputs": []
    },
    {
      "cell_type": "code",
      "metadata": {
        "colab_type": "code",
        "id": "PxKxAWwyMeSZ",
        "outputId": "dcf8c23e-f4f4-4043-fbc6-656427b24e63",
        "colab": {
          "base_uri": "https://localhost:8080/",
          "height": 195
        }
      },
      "source": [
        "df_id = id_checker(df_preprocessed)\n",
        "\n",
        "# Print the first 5 rows of df_id\n",
        "df_id.head()"
      ],
      "execution_count": 33,
      "outputs": [
        {
          "output_type": "execute_result",
          "data": {
            "text/html": [
              "<div>\n",
              "<style scoped>\n",
              "    .dataframe tbody tr th:only-of-type {\n",
              "        vertical-align: middle;\n",
              "    }\n",
              "\n",
              "    .dataframe tbody tr th {\n",
              "        vertical-align: top;\n",
              "    }\n",
              "\n",
              "    .dataframe thead th {\n",
              "        text-align: right;\n",
              "    }\n",
              "</style>\n",
              "<table border=\"1\" class=\"dataframe\">\n",
              "  <thead>\n",
              "    <tr style=\"text-align: right;\">\n",
              "      <th></th>\n",
              "      <th>id</th>\n",
              "    </tr>\n",
              "  </thead>\n",
              "  <tbody>\n",
              "    <tr>\n",
              "      <th>48</th>\n",
              "      <td>653359</td>\n",
              "    </tr>\n",
              "    <tr>\n",
              "      <th>49</th>\n",
              "      <td>653418</td>\n",
              "    </tr>\n",
              "    <tr>\n",
              "      <th>53</th>\n",
              "      <td>653432</td>\n",
              "    </tr>\n",
              "    <tr>\n",
              "      <th>69</th>\n",
              "      <td>653410</td>\n",
              "    </tr>\n",
              "    <tr>\n",
              "      <th>80</th>\n",
              "      <td>653430</td>\n",
              "    </tr>\n",
              "  </tbody>\n",
              "</table>\n",
              "</div>"
            ],
            "text/plain": [
              "        id\n",
              "48  653359\n",
              "49  653418\n",
              "53  653432\n",
              "69  653410\n",
              "80  653430"
            ]
          },
          "metadata": {
            "tags": []
          },
          "execution_count": 33
        }
      ]
    },
    {
      "cell_type": "markdown",
      "metadata": {
        "colab_type": "text",
        "id": "-yPi-sGuMeSb"
      },
      "source": [
        "### 3.1.2. Removing the identifiers"
      ]
    },
    {
      "cell_type": "code",
      "metadata": {
        "colab_type": "code",
        "id": "kRal1Wh6MeSc",
        "colab": {}
      },
      "source": [
        "import numpy as np\n",
        "\n",
        "#Remove the identifiers from dataset\n",
        "df_preprocessed = df_preprocessed.drop(columns=np.intersect1d(df_id.columns, df_preprocessed.columns))"
      ],
      "execution_count": 0,
      "outputs": []
    },
    {
      "cell_type": "code",
      "metadata": {
        "colab_type": "code",
        "id": "SpiHZfJ88YaB",
        "outputId": "0d9e55dd-bd38-4976-d610-e02d2c5562e0",
        "colab": {
          "base_uri": "https://localhost:8080/",
          "height": 282
        }
      },
      "source": [
        "df_preprocessed.head()"
      ],
      "execution_count": 35,
      "outputs": [
        {
          "output_type": "execute_result",
          "data": {
            "text/html": [
              "<div>\n",
              "<style scoped>\n",
              "    .dataframe tbody tr th:only-of-type {\n",
              "        vertical-align: middle;\n",
              "    }\n",
              "\n",
              "    .dataframe tbody tr th {\n",
              "        vertical-align: top;\n",
              "    }\n",
              "\n",
              "    .dataframe thead th {\n",
              "        text-align: right;\n",
              "    }\n",
              "</style>\n",
              "<table border=\"1\" class=\"dataframe\">\n",
              "  <thead>\n",
              "    <tr style=\"text-align: right;\">\n",
              "      <th></th>\n",
              "      <th>loan_amount</th>\n",
              "      <th>country</th>\n",
              "      <th>region</th>\n",
              "      <th>term_in_months</th>\n",
              "      <th>lender_count</th>\n",
              "      <th>repayment_interval</th>\n",
              "      <th>MPI</th>\n",
              "      <th>activities</th>\n",
              "      <th>male_borrowers</th>\n",
              "      <th>female_borrowers</th>\n",
              "    </tr>\n",
              "  </thead>\n",
              "  <tbody>\n",
              "    <tr>\n",
              "      <th>48</th>\n",
              "      <td>600.0</td>\n",
              "      <td>Nicaragua</td>\n",
              "      <td>Leon</td>\n",
              "      <td>14.0</td>\n",
              "      <td>16</td>\n",
              "      <td>monthly</td>\n",
              "      <td>0.074</td>\n",
              "      <td>business</td>\n",
              "      <td>0</td>\n",
              "      <td>1</td>\n",
              "    </tr>\n",
              "    <tr>\n",
              "      <th>49</th>\n",
              "      <td>450.0</td>\n",
              "      <td>El Salvador</td>\n",
              "      <td>NaN</td>\n",
              "      <td>14.0</td>\n",
              "      <td>18</td>\n",
              "      <td>monthly</td>\n",
              "      <td>0.032</td>\n",
              "      <td>business</td>\n",
              "      <td>1</td>\n",
              "      <td>0</td>\n",
              "    </tr>\n",
              "    <tr>\n",
              "      <th>53</th>\n",
              "      <td>550.0</td>\n",
              "      <td>Peru</td>\n",
              "      <td>Ica</td>\n",
              "      <td>14.0</td>\n",
              "      <td>20</td>\n",
              "      <td>monthly</td>\n",
              "      <td>0.053</td>\n",
              "      <td>miscellaneous</td>\n",
              "      <td>1</td>\n",
              "      <td>0</td>\n",
              "    </tr>\n",
              "    <tr>\n",
              "      <th>69</th>\n",
              "      <td>1075.0</td>\n",
              "      <td>Peru</td>\n",
              "      <td>Ica</td>\n",
              "      <td>17.0</td>\n",
              "      <td>41</td>\n",
              "      <td>monthly</td>\n",
              "      <td>0.053</td>\n",
              "      <td>services</td>\n",
              "      <td>1</td>\n",
              "      <td>0</td>\n",
              "    </tr>\n",
              "    <tr>\n",
              "      <th>80</th>\n",
              "      <td>1000.0</td>\n",
              "      <td>Honduras</td>\n",
              "      <td>Nueva Frontera, Santa Barbara.</td>\n",
              "      <td>20.0</td>\n",
              "      <td>34</td>\n",
              "      <td>monthly</td>\n",
              "      <td>0.090</td>\n",
              "      <td>business</td>\n",
              "      <td>0</td>\n",
              "      <td>1</td>\n",
              "    </tr>\n",
              "  </tbody>\n",
              "</table>\n",
              "</div>"
            ],
            "text/plain": [
              "    loan_amount      country  ... male_borrowers  female_borrowers\n",
              "48        600.0    Nicaragua  ...              0                 1\n",
              "49        450.0  El Salvador  ...              1                 0\n",
              "53        550.0         Peru  ...              1                 0\n",
              "69       1075.0         Peru  ...              1                 0\n",
              "80       1000.0     Honduras  ...              0                 1\n",
              "\n",
              "[5 rows x 10 columns]"
            ]
          },
          "metadata": {
            "tags": []
          },
          "execution_count": 35
        }
      ]
    },
    {
      "cell_type": "markdown",
      "metadata": {
        "colab_type": "text",
        "id": "ReAeIg-C8YaJ"
      },
      "source": [
        "## 3.2 Handling missing data"
      ]
    },
    {
      "cell_type": "markdown",
      "metadata": {
        "colab_type": "text",
        "id": "KFX26siR8YaK"
      },
      "source": [
        "### 3.2.1 Identifying missing values"
      ]
    },
    {
      "cell_type": "code",
      "metadata": {
        "colab_type": "code",
        "id": "889x1ZUIMeSn",
        "colab": {}
      },
      "source": [
        "def nan_checker(df):\n",
        "    \"\"\"\n",
        "    The NaN checker\n",
        "\n",
        "    Parameters\n",
        "    ----------\n",
        "    df : dataframe\n",
        "    \n",
        "    Returns\n",
        "    ----------\n",
        "    The dataframe of variables with NaN, their proportion of NaN and dtype\n",
        "    \"\"\"\n",
        "    \n",
        "    # Get the dataframe of variables with NaN, their proportion of NaN and dtype\n",
        "    df_nan = pd.DataFrame([[var, df[var].isna().sum() / df.shape[0], df[var].dtype]\n",
        "                           for var in df.columns if df[var].isna().sum() > 0],\n",
        "                          columns=['var', 'proportion', 'dtype'])\n",
        "    \n",
        "    # Sort df_nan in accending order of the proportion of NaN\n",
        "    df_nan = df_nan.sort_values(by='proportion', ascending=False).reset_index(drop=True)\n",
        "    \n",
        "    return df_nan"
      ],
      "execution_count": 0,
      "outputs": []
    },
    {
      "cell_type": "code",
      "metadata": {
        "colab_type": "code",
        "id": "YRK-U13_MeSv",
        "outputId": "24597373-d249-4f0d-ec77-e2b07965eab1",
        "colab": {
          "base_uri": "https://localhost:8080/",
          "height": 136
        }
      },
      "source": [
        "# Call nan_checker on df\n",
        "df_nan = nan_checker(df_preprocessed)\n",
        "\n",
        "# Print df_nan\n",
        "df_nan"
      ],
      "execution_count": 37,
      "outputs": [
        {
          "output_type": "execute_result",
          "data": {
            "text/html": [
              "<div>\n",
              "<style scoped>\n",
              "    .dataframe tbody tr th:only-of-type {\n",
              "        vertical-align: middle;\n",
              "    }\n",
              "\n",
              "    .dataframe tbody tr th {\n",
              "        vertical-align: top;\n",
              "    }\n",
              "\n",
              "    .dataframe thead th {\n",
              "        text-align: right;\n",
              "    }\n",
              "</style>\n",
              "<table border=\"1\" class=\"dataframe\">\n",
              "  <thead>\n",
              "    <tr style=\"text-align: right;\">\n",
              "      <th></th>\n",
              "      <th>var</th>\n",
              "      <th>proportion</th>\n",
              "      <th>dtype</th>\n",
              "    </tr>\n",
              "  </thead>\n",
              "  <tbody>\n",
              "    <tr>\n",
              "      <th>0</th>\n",
              "      <td>region</td>\n",
              "      <td>0.155551</td>\n",
              "      <td>object</td>\n",
              "    </tr>\n",
              "    <tr>\n",
              "      <th>1</th>\n",
              "      <td>MPI</td>\n",
              "      <td>0.074366</td>\n",
              "      <td>float64</td>\n",
              "    </tr>\n",
              "    <tr>\n",
              "      <th>2</th>\n",
              "      <td>activities</td>\n",
              "      <td>0.014512</td>\n",
              "      <td>object</td>\n",
              "    </tr>\n",
              "  </tbody>\n",
              "</table>\n",
              "</div>"
            ],
            "text/plain": [
              "          var  proportion    dtype\n",
              "0      region    0.155551   object\n",
              "1         MPI    0.074366  float64\n",
              "2  activities    0.014512   object"
            ]
          },
          "metadata": {
            "tags": []
          },
          "execution_count": 37
        }
      ]
    },
    {
      "cell_type": "code",
      "metadata": {
        "colab_type": "code",
        "id": "jhdl0Mp98YaN",
        "outputId": "71e64fa8-91a5-4830-dea6-3fb47cb849ba",
        "colab": {
          "base_uri": "https://localhost:8080/",
          "height": 106
        }
      },
      "source": [
        "# Print the unique dtype of the variables with NaN\n",
        "pd.DataFrame(df_nan['dtype'].unique(), columns=['dtype'])"
      ],
      "execution_count": 38,
      "outputs": [
        {
          "output_type": "execute_result",
          "data": {
            "text/html": [
              "<div>\n",
              "<style scoped>\n",
              "    .dataframe tbody tr th:only-of-type {\n",
              "        vertical-align: middle;\n",
              "    }\n",
              "\n",
              "    .dataframe tbody tr th {\n",
              "        vertical-align: top;\n",
              "    }\n",
              "\n",
              "    .dataframe thead th {\n",
              "        text-align: right;\n",
              "    }\n",
              "</style>\n",
              "<table border=\"1\" class=\"dataframe\">\n",
              "  <thead>\n",
              "    <tr style=\"text-align: right;\">\n",
              "      <th></th>\n",
              "      <th>dtype</th>\n",
              "    </tr>\n",
              "  </thead>\n",
              "  <tbody>\n",
              "    <tr>\n",
              "      <th>0</th>\n",
              "      <td>object</td>\n",
              "    </tr>\n",
              "    <tr>\n",
              "      <th>1</th>\n",
              "      <td>float64</td>\n",
              "    </tr>\n",
              "  </tbody>\n",
              "</table>\n",
              "</div>"
            ],
            "text/plain": [
              "     dtype\n",
              "0   object\n",
              "1  float64"
            ]
          },
          "metadata": {
            "tags": []
          },
          "execution_count": 38
        }
      ]
    },
    {
      "cell_type": "code",
      "metadata": {
        "colab_type": "code",
        "id": "TXJpv-rH8YaT",
        "outputId": "ec255915-a065-4529-c39c-9b7f2b030ad4",
        "colab": {
          "base_uri": "https://localhost:8080/",
          "height": 77
        }
      },
      "source": [
        "# Get the variables with missing values, their proportion of missing values and dtype\n",
        "df_miss = df_nan[df_nan['dtype'] == 'float64'].reset_index(drop=True)\n",
        "\n",
        "# Print df_miss\n",
        "df_miss"
      ],
      "execution_count": 39,
      "outputs": [
        {
          "output_type": "execute_result",
          "data": {
            "text/html": [
              "<div>\n",
              "<style scoped>\n",
              "    .dataframe tbody tr th:only-of-type {\n",
              "        vertical-align: middle;\n",
              "    }\n",
              "\n",
              "    .dataframe tbody tr th {\n",
              "        vertical-align: top;\n",
              "    }\n",
              "\n",
              "    .dataframe thead th {\n",
              "        text-align: right;\n",
              "    }\n",
              "</style>\n",
              "<table border=\"1\" class=\"dataframe\">\n",
              "  <thead>\n",
              "    <tr style=\"text-align: right;\">\n",
              "      <th></th>\n",
              "      <th>var</th>\n",
              "      <th>proportion</th>\n",
              "      <th>dtype</th>\n",
              "    </tr>\n",
              "  </thead>\n",
              "  <tbody>\n",
              "    <tr>\n",
              "      <th>0</th>\n",
              "      <td>MPI</td>\n",
              "      <td>0.074366</td>\n",
              "      <td>float64</td>\n",
              "    </tr>\n",
              "  </tbody>\n",
              "</table>\n",
              "</div>"
            ],
            "text/plain": [
              "   var  proportion    dtype\n",
              "0  MPI    0.074366  float64"
            ]
          },
          "metadata": {
            "tags": []
          },
          "execution_count": 39
        }
      ]
    },
    {
      "cell_type": "markdown",
      "metadata": {
        "colab_type": "text",
        "id": "RWusXURe8YaX"
      },
      "source": [
        "### 3.2.3 Removing missing values"
      ]
    },
    {
      "cell_type": "code",
      "metadata": {
        "colab_type": "code",
        "id": "KOp_ZJu98YaZ",
        "colab": {}
      },
      "source": [
        "# Remove rows with missing values from df_train\n",
        "df_preprocessed = df_preprocessed.dropna(subset=np.intersect1d(df_miss['var'], df_preprocessed.columns), inplace=False)"
      ],
      "execution_count": 0,
      "outputs": []
    },
    {
      "cell_type": "code",
      "metadata": {
        "colab_type": "code",
        "id": "H7VpeULO8Yaa",
        "outputId": "66489c46-0e8b-4278-bf0f-ece74ac8d40c",
        "colab": {
          "base_uri": "https://localhost:8080/",
          "height": 34
        }
      },
      "source": [
        "df_preprocessed.shape"
      ],
      "execution_count": 41,
      "outputs": [
        {
          "output_type": "execute_result",
          "data": {
            "text/plain": [
              "(132611, 10)"
            ]
          },
          "metadata": {
            "tags": []
          },
          "execution_count": 41
        }
      ]
    },
    {
      "cell_type": "markdown",
      "metadata": {
        "colab_type": "text",
        "id": "gM4l188iMeSy"
      },
      "source": [
        "## 3.3 Identifying the categorical variables"
      ]
    },
    {
      "cell_type": "markdown",
      "metadata": {
        "colab_type": "text",
        "id": "PGwzQ0o2pPfF"
      },
      "source": [
        "### 3.3.1 Identifying categorical variables"
      ]
    },
    {
      "cell_type": "code",
      "metadata": {
        "colab_type": "code",
        "id": "9tSts9e-MeSy",
        "colab": {}
      },
      "source": [
        "def cat_var_checker(df):\n",
        "    \"\"\"\n",
        "    The categorical variable checker\n",
        "\n",
        "    Parameters\n",
        "    ----------\n",
        "    df: the dataframe\n",
        "    \n",
        "    Returns\n",
        "    ----------\n",
        "    The dataframe of categorical variables and their number of unique value\n",
        "    \"\"\"\n",
        "    \n",
        "    # Get the dataframe of categorical variables and their number of unique value\n",
        "    df_cat = pd.DataFrame([[var, df[var].nunique(dropna=False)]\n",
        "                           for var in df.columns if df[var].dtype == 'object'],\n",
        "                          columns=['var', 'nunique'])\n",
        "    \n",
        "    # Sort df_cat in accending order of the number of unique value\n",
        "    df_cat = df_cat.sort_values(by='nunique', ascending=False).reset_index(drop=True)\n",
        "    \n",
        "    return df_cat"
      ],
      "execution_count": 0,
      "outputs": []
    },
    {
      "cell_type": "code",
      "metadata": {
        "colab_type": "code",
        "id": "RhK1G1K8MeS2",
        "outputId": "85d0d2f6-a1b2-465c-97c9-c543ae97361c",
        "colab": {
          "base_uri": "https://localhost:8080/",
          "height": 166
        }
      },
      "source": [
        "# Call cat_var_checker on df\n",
        "df_cat = cat_var_checker(df_preprocessed)\n",
        "\n",
        "# Print the dataframe\n",
        "df_cat"
      ],
      "execution_count": 43,
      "outputs": [
        {
          "output_type": "execute_result",
          "data": {
            "text/html": [
              "<div>\n",
              "<style scoped>\n",
              "    .dataframe tbody tr th:only-of-type {\n",
              "        vertical-align: middle;\n",
              "    }\n",
              "\n",
              "    .dataframe tbody tr th {\n",
              "        vertical-align: top;\n",
              "    }\n",
              "\n",
              "    .dataframe thead th {\n",
              "        text-align: right;\n",
              "    }\n",
              "</style>\n",
              "<table border=\"1\" class=\"dataframe\">\n",
              "  <thead>\n",
              "    <tr style=\"text-align: right;\">\n",
              "      <th></th>\n",
              "      <th>var</th>\n",
              "      <th>nunique</th>\n",
              "    </tr>\n",
              "  </thead>\n",
              "  <tbody>\n",
              "    <tr>\n",
              "      <th>0</th>\n",
              "      <td>region</td>\n",
              "      <td>1267</td>\n",
              "    </tr>\n",
              "    <tr>\n",
              "      <th>1</th>\n",
              "      <td>activities</td>\n",
              "      <td>15</td>\n",
              "    </tr>\n",
              "    <tr>\n",
              "      <th>2</th>\n",
              "      <td>country</td>\n",
              "      <td>12</td>\n",
              "    </tr>\n",
              "    <tr>\n",
              "      <th>3</th>\n",
              "      <td>repayment_interval</td>\n",
              "      <td>3</td>\n",
              "    </tr>\n",
              "  </tbody>\n",
              "</table>\n",
              "</div>"
            ],
            "text/plain": [
              "                  var  nunique\n",
              "0              region     1267\n",
              "1          activities       15\n",
              "2             country       12\n",
              "3  repayment_interval        3"
            ]
          },
          "metadata": {
            "tags": []
          },
          "execution_count": 43
        }
      ]
    },
    {
      "cell_type": "markdown",
      "metadata": {
        "colab_type": "text",
        "id": "_Q20xYAeMeS3"
      },
      "source": [
        "### 3.3.2 Removing categorical variables with many values"
      ]
    },
    {
      "cell_type": "code",
      "metadata": {
        "colab_type": "code",
        "id": "yj8B7hucMeS3",
        "colab": {}
      },
      "source": [
        "# Remove features from df\n",
        "df_preprocessed = df_preprocessed.drop(columns=['region'])"
      ],
      "execution_count": 0,
      "outputs": []
    },
    {
      "cell_type": "code",
      "metadata": {
        "colab_type": "code",
        "id": "SrhyOQp5pVlX",
        "outputId": "886456b9-776c-495d-d96b-6d715488fbe0",
        "colab": {
          "base_uri": "https://localhost:8080/",
          "height": 136
        }
      },
      "source": [
        "cat_var_checker(df_preprocessed)"
      ],
      "execution_count": 45,
      "outputs": [
        {
          "output_type": "execute_result",
          "data": {
            "text/html": [
              "<div>\n",
              "<style scoped>\n",
              "    .dataframe tbody tr th:only-of-type {\n",
              "        vertical-align: middle;\n",
              "    }\n",
              "\n",
              "    .dataframe tbody tr th {\n",
              "        vertical-align: top;\n",
              "    }\n",
              "\n",
              "    .dataframe thead th {\n",
              "        text-align: right;\n",
              "    }\n",
              "</style>\n",
              "<table border=\"1\" class=\"dataframe\">\n",
              "  <thead>\n",
              "    <tr style=\"text-align: right;\">\n",
              "      <th></th>\n",
              "      <th>var</th>\n",
              "      <th>nunique</th>\n",
              "    </tr>\n",
              "  </thead>\n",
              "  <tbody>\n",
              "    <tr>\n",
              "      <th>0</th>\n",
              "      <td>activities</td>\n",
              "      <td>15</td>\n",
              "    </tr>\n",
              "    <tr>\n",
              "      <th>1</th>\n",
              "      <td>country</td>\n",
              "      <td>12</td>\n",
              "    </tr>\n",
              "    <tr>\n",
              "      <th>2</th>\n",
              "      <td>repayment_interval</td>\n",
              "      <td>3</td>\n",
              "    </tr>\n",
              "  </tbody>\n",
              "</table>\n",
              "</div>"
            ],
            "text/plain": [
              "                  var  nunique\n",
              "0          activities       15\n",
              "1             country       12\n",
              "2  repayment_interval        3"
            ]
          },
          "metadata": {
            "tags": []
          },
          "execution_count": 45
        }
      ]
    },
    {
      "cell_type": "markdown",
      "metadata": {
        "id": "VEDTr97LuHXY",
        "colab_type": "text"
      },
      "source": [
        "## 3.4 Removing outliers"
      ]
    },
    {
      "cell_type": "code",
      "metadata": {
        "id": "bpd-rOj0uMou",
        "colab_type": "code",
        "outputId": "b091302c-8d34-417c-9355-ae45a9d81e78",
        "colab": {
          "base_uri": "https://localhost:8080/",
          "height": 34
        }
      },
      "source": [
        "#displaying all the rows with loan_amount higher than $2000\n",
        "Outliers = df_preprocessed.loc[df_preprocessed['loan_amount'] >= 2075]\n",
        "Outliers.shape[0]"
      ],
      "execution_count": 46,
      "outputs": [
        {
          "output_type": "execute_result",
          "data": {
            "text/plain": [
              "13173"
            ]
          },
          "metadata": {
            "tags": []
          },
          "execution_count": 46
        }
      ]
    },
    {
      "cell_type": "code",
      "metadata": {
        "id": "NJRDzN1euTCs",
        "colab_type": "code",
        "outputId": "08ac1802-6d39-4f48-e72d-5d14f5999341",
        "colab": {
          "base_uri": "https://localhost:8080/",
          "height": 34
        }
      },
      "source": [
        "#displaying all the rows with loan_amount lower than $300\n",
        "Outliers1 = df_preprocessed.loc[df_preprocessed['loan_amount'] <= 300]\n",
        "Outliers1.shape[0]"
      ],
      "execution_count": 47,
      "outputs": [
        {
          "output_type": "execute_result",
          "data": {
            "text/plain": [
              "16921"
            ]
          },
          "metadata": {
            "tags": []
          },
          "execution_count": 47
        }
      ]
    },
    {
      "cell_type": "code",
      "metadata": {
        "id": "KXupWYaPuS_I",
        "colab_type": "code",
        "outputId": "ac352600-39da-4b94-a7f4-64b86f5e4357",
        "colab": {
          "base_uri": "https://localhost:8080/",
          "height": 304
        }
      },
      "source": [
        "#removing the outliers\n",
        "df_preprocessed = df_preprocessed[df_preprocessed.loan_amount > 300]\n",
        "df_preprocessed = df_preprocessed[df_preprocessed.loan_amount < 2075]\n",
        "df_preprocessed.describe()"
      ],
      "execution_count": 48,
      "outputs": [
        {
          "output_type": "execute_result",
          "data": {
            "text/html": [
              "<div>\n",
              "<style scoped>\n",
              "    .dataframe tbody tr th:only-of-type {\n",
              "        vertical-align: middle;\n",
              "    }\n",
              "\n",
              "    .dataframe tbody tr th {\n",
              "        vertical-align: top;\n",
              "    }\n",
              "\n",
              "    .dataframe thead th {\n",
              "        text-align: right;\n",
              "    }\n",
              "</style>\n",
              "<table border=\"1\" class=\"dataframe\">\n",
              "  <thead>\n",
              "    <tr style=\"text-align: right;\">\n",
              "      <th></th>\n",
              "      <th>loan_amount</th>\n",
              "      <th>term_in_months</th>\n",
              "      <th>lender_count</th>\n",
              "      <th>MPI</th>\n",
              "      <th>male_borrowers</th>\n",
              "      <th>female_borrowers</th>\n",
              "    </tr>\n",
              "  </thead>\n",
              "  <tbody>\n",
              "    <tr>\n",
              "      <th>count</th>\n",
              "      <td>102517.000000</td>\n",
              "      <td>102517.000000</td>\n",
              "      <td>102517.000000</td>\n",
              "      <td>102517.000000</td>\n",
              "      <td>102517.000000</td>\n",
              "      <td>102517.000000</td>\n",
              "    </tr>\n",
              "    <tr>\n",
              "      <th>mean</th>\n",
              "      <td>812.731547</td>\n",
              "      <td>14.924237</td>\n",
              "      <td>20.635085</td>\n",
              "      <td>0.041215</td>\n",
              "      <td>0.393730</td>\n",
              "      <td>0.754919</td>\n",
              "    </tr>\n",
              "    <tr>\n",
              "      <th>std</th>\n",
              "      <td>378.369750</td>\n",
              "      <td>6.638555</td>\n",
              "      <td>12.508427</td>\n",
              "      <td>0.029726</td>\n",
              "      <td>0.549666</td>\n",
              "      <td>1.004629</td>\n",
              "    </tr>\n",
              "    <tr>\n",
              "      <th>min</th>\n",
              "      <td>325.000000</td>\n",
              "      <td>2.000000</td>\n",
              "      <td>0.000000</td>\n",
              "      <td>0.015000</td>\n",
              "      <td>0.000000</td>\n",
              "      <td>0.000000</td>\n",
              "    </tr>\n",
              "    <tr>\n",
              "      <th>25%</th>\n",
              "      <td>500.000000</td>\n",
              "      <td>12.000000</td>\n",
              "      <td>12.000000</td>\n",
              "      <td>0.020000</td>\n",
              "      <td>0.000000</td>\n",
              "      <td>0.000000</td>\n",
              "    </tr>\n",
              "    <tr>\n",
              "      <th>50%</th>\n",
              "      <td>725.000000</td>\n",
              "      <td>14.000000</td>\n",
              "      <td>18.000000</td>\n",
              "      <td>0.032000</td>\n",
              "      <td>0.000000</td>\n",
              "      <td>1.000000</td>\n",
              "    </tr>\n",
              "    <tr>\n",
              "      <th>75%</th>\n",
              "      <td>1025.000000</td>\n",
              "      <td>17.000000</td>\n",
              "      <td>27.000000</td>\n",
              "      <td>0.053000</td>\n",
              "      <td>1.000000</td>\n",
              "      <td>1.000000</td>\n",
              "    </tr>\n",
              "    <tr>\n",
              "      <th>max</th>\n",
              "      <td>2050.000000</td>\n",
              "      <td>87.000000</td>\n",
              "      <td>81.000000</td>\n",
              "      <td>0.200000</td>\n",
              "      <td>10.000000</td>\n",
              "      <td>19.000000</td>\n",
              "    </tr>\n",
              "  </tbody>\n",
              "</table>\n",
              "</div>"
            ],
            "text/plain": [
              "         loan_amount  term_in_months  ...  male_borrowers  female_borrowers\n",
              "count  102517.000000   102517.000000  ...   102517.000000     102517.000000\n",
              "mean      812.731547       14.924237  ...        0.393730          0.754919\n",
              "std       378.369750        6.638555  ...        0.549666          1.004629\n",
              "min       325.000000        2.000000  ...        0.000000          0.000000\n",
              "25%       500.000000       12.000000  ...        0.000000          0.000000\n",
              "50%       725.000000       14.000000  ...        0.000000          1.000000\n",
              "75%      1025.000000       17.000000  ...        1.000000          1.000000\n",
              "max      2050.000000       87.000000  ...       10.000000         19.000000\n",
              "\n",
              "[8 rows x 6 columns]"
            ]
          },
          "metadata": {
            "tags": []
          },
          "execution_count": 48
        }
      ]
    },
    {
      "cell_type": "markdown",
      "metadata": {
        "colab_type": "text",
        "id": "aY4YYjCndmKT"
      },
      "source": [
        "# 4. Regression Analysis"
      ]
    },
    {
      "cell_type": "code",
      "metadata": {
        "colab_type": "code",
        "id": "Av2cyzobdFLu",
        "colab": {}
      },
      "source": [
        "# Create a copy of df_preprocessed \n",
        "df = df_preprocessed.copy(deep=True)"
      ],
      "execution_count": 0,
      "outputs": []
    },
    {
      "cell_type": "code",
      "metadata": {
        "colab_type": "code",
        "id": "D2WhNhTOtzIu",
        "outputId": "c297d3c1-a8fe-4e06-f08a-eb32abfcdcd3",
        "colab": {
          "base_uri": "https://localhost:8080/",
          "height": 87
        }
      },
      "source": [
        "df.columns"
      ],
      "execution_count": 0,
      "outputs": [
        {
          "output_type": "execute_result",
          "data": {
            "text/plain": [
              "Index(['loan_amount', 'country', 'term_in_months', 'lender_count',\n",
              "       'repayment_interval', 'MPI', 'activities', 'male_borrowers',\n",
              "       'female_borrowers'],\n",
              "      dtype='object')"
            ]
          },
          "metadata": {
            "tags": []
          },
          "execution_count": 59
        }
      ]
    },
    {
      "cell_type": "markdown",
      "metadata": {
        "colab_type": "text",
        "id": "xdugMwvTMeR1"
      },
      "source": [
        "## 4.1 Define target"
      ]
    },
    {
      "cell_type": "code",
      "metadata": {
        "colab_type": "code",
        "id": "QzFbZ2a1MeR1",
        "colab": {}
      },
      "source": [
        "target = 'loan_amount'"
      ],
      "execution_count": 0,
      "outputs": []
    },
    {
      "cell_type": "markdown",
      "metadata": {
        "colab_type": "text",
        "id": "a1JpxZQzMeS5"
      },
      "source": [
        "## 4.2 Encoding the categorical features"
      ]
    },
    {
      "cell_type": "code",
      "metadata": {
        "colab_type": "code",
        "id": "Jr9re1XOMeS6",
        "outputId": "8a5cda80-d872-4508-f71a-02d0068f8222",
        "colab": {
          "base_uri": "https://localhost:8080/",
          "height": 234
        }
      },
      "source": [
        "# One-hot-encode the categorical features in the combined data\n",
        "df = pd.get_dummies(df, columns=np.setdiff1d(np.intersect1d(df.columns, df_cat['var']), [target]))\n",
        "\n",
        "# Print the first 5 rows of df\n",
        "df.head()"
      ],
      "execution_count": 0,
      "outputs": [
        {
          "output_type": "execute_result",
          "data": {
            "text/html": [
              "<div>\n",
              "<style scoped>\n",
              "    .dataframe tbody tr th:only-of-type {\n",
              "        vertical-align: middle;\n",
              "    }\n",
              "\n",
              "    .dataframe tbody tr th {\n",
              "        vertical-align: top;\n",
              "    }\n",
              "\n",
              "    .dataframe thead th {\n",
              "        text-align: right;\n",
              "    }\n",
              "</style>\n",
              "<table border=\"1\" class=\"dataframe\">\n",
              "  <thead>\n",
              "    <tr style=\"text-align: right;\">\n",
              "      <th></th>\n",
              "      <th>loan_amount</th>\n",
              "      <th>term_in_months</th>\n",
              "      <th>lender_count</th>\n",
              "      <th>MPI</th>\n",
              "      <th>male_borrowers</th>\n",
              "      <th>female_borrowers</th>\n",
              "      <th>activities_agriculture_and_livestock</th>\n",
              "      <th>activities_arts_and_crafts</th>\n",
              "      <th>activities_business</th>\n",
              "      <th>activities_construction_materials</th>\n",
              "      <th>activities_education</th>\n",
              "      <th>activities_energy</th>\n",
              "      <th>activities_entertainment</th>\n",
              "      <th>activities_food_and_beverages</th>\n",
              "      <th>activities_healthcare</th>\n",
              "      <th>activities_maintenance</th>\n",
              "      <th>activities_miscellaneous</th>\n",
              "      <th>activities_services</th>\n",
              "      <th>activities_supplies</th>\n",
              "      <th>activities_technology_and_IT</th>\n",
              "      <th>country_Belize</th>\n",
              "      <th>country_Brazil</th>\n",
              "      <th>country_Colombia</th>\n",
              "      <th>country_Dominican Republic</th>\n",
              "      <th>country_Ecuador</th>\n",
              "      <th>country_El Salvador</th>\n",
              "      <th>country_Haiti</th>\n",
              "      <th>country_Honduras</th>\n",
              "      <th>country_Nicaragua</th>\n",
              "      <th>country_Paraguay</th>\n",
              "      <th>country_Peru</th>\n",
              "      <th>country_Suriname</th>\n",
              "      <th>repayment_interval_bullet</th>\n",
              "      <th>repayment_interval_irregular</th>\n",
              "      <th>repayment_interval_monthly</th>\n",
              "    </tr>\n",
              "  </thead>\n",
              "  <tbody>\n",
              "    <tr>\n",
              "      <th>48</th>\n",
              "      <td>600.0</td>\n",
              "      <td>14.0</td>\n",
              "      <td>16</td>\n",
              "      <td>0.074</td>\n",
              "      <td>0</td>\n",
              "      <td>1</td>\n",
              "      <td>0</td>\n",
              "      <td>0</td>\n",
              "      <td>1</td>\n",
              "      <td>0</td>\n",
              "      <td>0</td>\n",
              "      <td>0</td>\n",
              "      <td>0</td>\n",
              "      <td>0</td>\n",
              "      <td>0</td>\n",
              "      <td>0</td>\n",
              "      <td>0</td>\n",
              "      <td>0</td>\n",
              "      <td>0</td>\n",
              "      <td>0</td>\n",
              "      <td>0</td>\n",
              "      <td>0</td>\n",
              "      <td>0</td>\n",
              "      <td>0</td>\n",
              "      <td>0</td>\n",
              "      <td>0</td>\n",
              "      <td>0</td>\n",
              "      <td>0</td>\n",
              "      <td>1</td>\n",
              "      <td>0</td>\n",
              "      <td>0</td>\n",
              "      <td>0</td>\n",
              "      <td>0</td>\n",
              "      <td>0</td>\n",
              "      <td>1</td>\n",
              "    </tr>\n",
              "    <tr>\n",
              "      <th>49</th>\n",
              "      <td>450.0</td>\n",
              "      <td>14.0</td>\n",
              "      <td>18</td>\n",
              "      <td>0.032</td>\n",
              "      <td>1</td>\n",
              "      <td>0</td>\n",
              "      <td>0</td>\n",
              "      <td>0</td>\n",
              "      <td>1</td>\n",
              "      <td>0</td>\n",
              "      <td>0</td>\n",
              "      <td>0</td>\n",
              "      <td>0</td>\n",
              "      <td>0</td>\n",
              "      <td>0</td>\n",
              "      <td>0</td>\n",
              "      <td>0</td>\n",
              "      <td>0</td>\n",
              "      <td>0</td>\n",
              "      <td>0</td>\n",
              "      <td>0</td>\n",
              "      <td>0</td>\n",
              "      <td>0</td>\n",
              "      <td>0</td>\n",
              "      <td>0</td>\n",
              "      <td>1</td>\n",
              "      <td>0</td>\n",
              "      <td>0</td>\n",
              "      <td>0</td>\n",
              "      <td>0</td>\n",
              "      <td>0</td>\n",
              "      <td>0</td>\n",
              "      <td>0</td>\n",
              "      <td>0</td>\n",
              "      <td>1</td>\n",
              "    </tr>\n",
              "    <tr>\n",
              "      <th>53</th>\n",
              "      <td>550.0</td>\n",
              "      <td>14.0</td>\n",
              "      <td>20</td>\n",
              "      <td>0.053</td>\n",
              "      <td>1</td>\n",
              "      <td>0</td>\n",
              "      <td>0</td>\n",
              "      <td>0</td>\n",
              "      <td>0</td>\n",
              "      <td>0</td>\n",
              "      <td>0</td>\n",
              "      <td>0</td>\n",
              "      <td>0</td>\n",
              "      <td>0</td>\n",
              "      <td>0</td>\n",
              "      <td>0</td>\n",
              "      <td>1</td>\n",
              "      <td>0</td>\n",
              "      <td>0</td>\n",
              "      <td>0</td>\n",
              "      <td>0</td>\n",
              "      <td>0</td>\n",
              "      <td>0</td>\n",
              "      <td>0</td>\n",
              "      <td>0</td>\n",
              "      <td>0</td>\n",
              "      <td>0</td>\n",
              "      <td>0</td>\n",
              "      <td>0</td>\n",
              "      <td>0</td>\n",
              "      <td>1</td>\n",
              "      <td>0</td>\n",
              "      <td>0</td>\n",
              "      <td>0</td>\n",
              "      <td>1</td>\n",
              "    </tr>\n",
              "    <tr>\n",
              "      <th>69</th>\n",
              "      <td>1075.0</td>\n",
              "      <td>17.0</td>\n",
              "      <td>41</td>\n",
              "      <td>0.053</td>\n",
              "      <td>1</td>\n",
              "      <td>0</td>\n",
              "      <td>0</td>\n",
              "      <td>0</td>\n",
              "      <td>0</td>\n",
              "      <td>0</td>\n",
              "      <td>0</td>\n",
              "      <td>0</td>\n",
              "      <td>0</td>\n",
              "      <td>0</td>\n",
              "      <td>0</td>\n",
              "      <td>0</td>\n",
              "      <td>0</td>\n",
              "      <td>1</td>\n",
              "      <td>0</td>\n",
              "      <td>0</td>\n",
              "      <td>0</td>\n",
              "      <td>0</td>\n",
              "      <td>0</td>\n",
              "      <td>0</td>\n",
              "      <td>0</td>\n",
              "      <td>0</td>\n",
              "      <td>0</td>\n",
              "      <td>0</td>\n",
              "      <td>0</td>\n",
              "      <td>0</td>\n",
              "      <td>1</td>\n",
              "      <td>0</td>\n",
              "      <td>0</td>\n",
              "      <td>0</td>\n",
              "      <td>1</td>\n",
              "    </tr>\n",
              "    <tr>\n",
              "      <th>80</th>\n",
              "      <td>1000.0</td>\n",
              "      <td>20.0</td>\n",
              "      <td>34</td>\n",
              "      <td>0.090</td>\n",
              "      <td>0</td>\n",
              "      <td>1</td>\n",
              "      <td>0</td>\n",
              "      <td>0</td>\n",
              "      <td>1</td>\n",
              "      <td>0</td>\n",
              "      <td>0</td>\n",
              "      <td>0</td>\n",
              "      <td>0</td>\n",
              "      <td>0</td>\n",
              "      <td>0</td>\n",
              "      <td>0</td>\n",
              "      <td>0</td>\n",
              "      <td>0</td>\n",
              "      <td>0</td>\n",
              "      <td>0</td>\n",
              "      <td>0</td>\n",
              "      <td>0</td>\n",
              "      <td>0</td>\n",
              "      <td>0</td>\n",
              "      <td>0</td>\n",
              "      <td>0</td>\n",
              "      <td>0</td>\n",
              "      <td>1</td>\n",
              "      <td>0</td>\n",
              "      <td>0</td>\n",
              "      <td>0</td>\n",
              "      <td>0</td>\n",
              "      <td>0</td>\n",
              "      <td>0</td>\n",
              "      <td>1</td>\n",
              "    </tr>\n",
              "  </tbody>\n",
              "</table>\n",
              "</div>"
            ],
            "text/plain": [
              "    loan_amount  ...  repayment_interval_monthly\n",
              "48        600.0  ...                           1\n",
              "49        450.0  ...                           1\n",
              "53        550.0  ...                           1\n",
              "69       1075.0  ...                           1\n",
              "80       1000.0  ...                           1\n",
              "\n",
              "[5 rows x 35 columns]"
            ]
          },
          "metadata": {
            "tags": []
          },
          "execution_count": 61
        }
      ]
    },
    {
      "cell_type": "markdown",
      "metadata": {
        "colab_type": "text",
        "id": "ViEHxCisMeR5"
      },
      "source": [
        "## 4.3 Creating the train, test and validation datasets"
      ]
    },
    {
      "cell_type": "markdown",
      "metadata": {
        "colab_type": "text",
        "id": "2OSMPjWIMeR5"
      },
      "source": [
        "### 4.3.1 Creating a test set"
      ]
    },
    {
      "cell_type": "code",
      "metadata": {
        "colab_type": "code",
        "id": "CzTQNfxjMeR6",
        "colab": {}
      },
      "source": [
        "from sklearn.model_selection import train_test_split\n",
        "\n",
        "df_train, df_test = train_test_split(df, test_size=0.2, random_state=4)"
      ],
      "execution_count": 0,
      "outputs": []
    },
    {
      "cell_type": "code",
      "metadata": {
        "colab_type": "code",
        "id": "zgnddkd6MeR-",
        "colab": {}
      },
      "source": [
        "#remove target in test set\n",
        "df_test.drop([target], axis=1, inplace=True)"
      ],
      "execution_count": 0,
      "outputs": []
    },
    {
      "cell_type": "markdown",
      "metadata": {
        "colab_type": "text",
        "id": "wp6btuilMeSE"
      },
      "source": [
        "### 4.3.2 Dividing the training data into training and validation"
      ]
    },
    {
      "cell_type": "code",
      "metadata": {
        "colab_type": "code",
        "id": "4W5c-7sJMeSF",
        "colab": {}
      },
      "source": [
        "from sklearn.model_selection import train_test_split\n",
        "\n",
        "# Divide: 80% as training set and 20% as validation\n",
        "df_train, df_valid = train_test_split(df_train, train_size=.8, random_state=42)\n",
        "\n",
        "# Reset the index in training and validation sets\n",
        "df_train = df_train.reset_index(drop=True)\n",
        "df_valid = df_valid.reset_index(drop=True)"
      ],
      "execution_count": 0,
      "outputs": []
    },
    {
      "cell_type": "code",
      "metadata": {
        "colab_type": "code",
        "id": "XXm9NFV9MeSJ",
        "outputId": "d5217750-3d36-446a-8d42-051d1018ef28",
        "colab": {
          "base_uri": "https://localhost:8080/",
          "height": 77
        }
      },
      "source": [
        "# Print the dimension of training set\n",
        "pd.DataFrame([[df_train.shape[0], df_train.shape[1]]], columns=['rows','columns'])"
      ],
      "execution_count": 0,
      "outputs": [
        {
          "output_type": "execute_result",
          "data": {
            "text/html": [
              "<div>\n",
              "<style scoped>\n",
              "    .dataframe tbody tr th:only-of-type {\n",
              "        vertical-align: middle;\n",
              "    }\n",
              "\n",
              "    .dataframe tbody tr th {\n",
              "        vertical-align: top;\n",
              "    }\n",
              "\n",
              "    .dataframe thead th {\n",
              "        text-align: right;\n",
              "    }\n",
              "</style>\n",
              "<table border=\"1\" class=\"dataframe\">\n",
              "  <thead>\n",
              "    <tr style=\"text-align: right;\">\n",
              "      <th></th>\n",
              "      <th>rows</th>\n",
              "      <th>columns</th>\n",
              "    </tr>\n",
              "  </thead>\n",
              "  <tbody>\n",
              "    <tr>\n",
              "      <th>0</th>\n",
              "      <td>65610</td>\n",
              "      <td>35</td>\n",
              "    </tr>\n",
              "  </tbody>\n",
              "</table>\n",
              "</div>"
            ],
            "text/plain": [
              "    rows  columns\n",
              "0  65610       35"
            ]
          },
          "metadata": {
            "tags": []
          },
          "execution_count": 65
        }
      ]
    },
    {
      "cell_type": "code",
      "metadata": {
        "colab_type": "code",
        "id": "YXYUmVbWMeSM",
        "outputId": "7e1a8cd9-ce77-45db-d953-6c6d705e9d50",
        "colab": {
          "base_uri": "https://localhost:8080/",
          "height": 77
        }
      },
      "source": [
        "#Print the dimension of validation set\n",
        "pd.DataFrame([[df_valid.shape[0], df_valid.shape[1]]], columns=['rows','columns'])"
      ],
      "execution_count": 0,
      "outputs": [
        {
          "output_type": "execute_result",
          "data": {
            "text/html": [
              "<div>\n",
              "<style scoped>\n",
              "    .dataframe tbody tr th:only-of-type {\n",
              "        vertical-align: middle;\n",
              "    }\n",
              "\n",
              "    .dataframe tbody tr th {\n",
              "        vertical-align: top;\n",
              "    }\n",
              "\n",
              "    .dataframe thead th {\n",
              "        text-align: right;\n",
              "    }\n",
              "</style>\n",
              "<table border=\"1\" class=\"dataframe\">\n",
              "  <thead>\n",
              "    <tr style=\"text-align: right;\">\n",
              "      <th></th>\n",
              "      <th>rows</th>\n",
              "      <th>columns</th>\n",
              "    </tr>\n",
              "  </thead>\n",
              "  <tbody>\n",
              "    <tr>\n",
              "      <th>0</th>\n",
              "      <td>16403</td>\n",
              "      <td>35</td>\n",
              "    </tr>\n",
              "  </tbody>\n",
              "</table>\n",
              "</div>"
            ],
            "text/plain": [
              "    rows  columns\n",
              "0  16403       35"
            ]
          },
          "metadata": {
            "tags": []
          },
          "execution_count": 66
        }
      ]
    },
    {
      "cell_type": "code",
      "metadata": {
        "colab_type": "code",
        "id": "IKNKzio_MeSP",
        "outputId": "53f9181f-0982-45ce-a44d-d77ac1379c6d",
        "colab": {
          "base_uri": "https://localhost:8080/",
          "height": 77
        }
      },
      "source": [
        "# Print the dimension of test set\n",
        "pd.DataFrame([[df_test.shape[0], df_test.shape[1]]], columns=['rows','columns'])"
      ],
      "execution_count": 0,
      "outputs": [
        {
          "output_type": "execute_result",
          "data": {
            "text/html": [
              "<div>\n",
              "<style scoped>\n",
              "    .dataframe tbody tr th:only-of-type {\n",
              "        vertical-align: middle;\n",
              "    }\n",
              "\n",
              "    .dataframe tbody tr th {\n",
              "        vertical-align: top;\n",
              "    }\n",
              "\n",
              "    .dataframe thead th {\n",
              "        text-align: right;\n",
              "    }\n",
              "</style>\n",
              "<table border=\"1\" class=\"dataframe\">\n",
              "  <thead>\n",
              "    <tr style=\"text-align: right;\">\n",
              "      <th></th>\n",
              "      <th>rows</th>\n",
              "      <th>columns</th>\n",
              "    </tr>\n",
              "  </thead>\n",
              "  <tbody>\n",
              "    <tr>\n",
              "      <th>0</th>\n",
              "      <td>20504</td>\n",
              "      <td>34</td>\n",
              "    </tr>\n",
              "  </tbody>\n",
              "</table>\n",
              "</div>"
            ],
            "text/plain": [
              "    rows  columns\n",
              "0  20504       34"
            ]
          },
          "metadata": {
            "tags": []
          },
          "execution_count": 67
        }
      ]
    },
    {
      "cell_type": "markdown",
      "metadata": {
        "colab_type": "text",
        "id": "Q2VFQD44MeTE"
      },
      "source": [
        "## 4.4 Getting the name of the features"
      ]
    },
    {
      "cell_type": "code",
      "metadata": {
        "colab_type": "code",
        "id": "QHMdLL8yMeTE",
        "colab": {}
      },
      "source": [
        "features = np.setdiff1d(df.columns, [target])"
      ],
      "execution_count": 0,
      "outputs": []
    },
    {
      "cell_type": "markdown",
      "metadata": {
        "colab_type": "text",
        "id": "I4HsSa0VMeTF"
      },
      "source": [
        "## 4.5 Getting the feature matrix and target vector"
      ]
    },
    {
      "cell_type": "code",
      "metadata": {
        "colab_type": "code",
        "id": "QlNRhgvaMeTG",
        "colab": {}
      },
      "source": [
        "# Get the feature matrix\n",
        "X_train = df_train[features].to_numpy()\n",
        "X_valid = df_valid[features].to_numpy()\n",
        "X_test = df_test[features].to_numpy()\n",
        "\n",
        "# Get the target vector\n",
        "y_train = df_train[target].astype(int).to_numpy()\n",
        "y_valid = df_valid[target].astype(int).to_numpy()"
      ],
      "execution_count": 0,
      "outputs": []
    },
    {
      "cell_type": "markdown",
      "metadata": {
        "colab_type": "text",
        "id": "0k2jHfAFMeTH"
      },
      "source": [
        "## 4.6 Scaling the data"
      ]
    },
    {
      "cell_type": "code",
      "metadata": {
        "colab_type": "code",
        "id": "lEzwmrjmMeTH",
        "colab": {}
      },
      "source": [
        "from sklearn.preprocessing import StandardScaler\n",
        "\n",
        "# The StandardScaler\n",
        "ss = StandardScaler()\n",
        "\n",
        "# Standardize the training data\n",
        "X_train = ss.fit_transform(X_train)\n",
        "\n",
        "# Standardize the validation data\n",
        "X_valid = ss.transform(X_valid)\n",
        "\n",
        "# Standardize the testing data\n",
        "X_test = ss.transform(X_test)"
      ],
      "execution_count": 0,
      "outputs": []
    },
    {
      "cell_type": "markdown",
      "metadata": {
        "colab_type": "text",
        "id": "eDNd7EQr8YbX"
      },
      "source": [
        "## 4.7 Correlation plot"
      ]
    },
    {
      "cell_type": "code",
      "metadata": {
        "colab_type": "code",
        "id": "PdiCcC-yMeTJ",
        "outputId": "06465ad1-10d0-4bb3-9f4b-9b39c1918a83",
        "colab": {
          "base_uri": "https://localhost:8080/",
          "height": 1000
        }
      },
      "source": [
        "#creating a correlation plot to see what are the most relevant features\n",
        "import seaborn as sns\n",
        "import matplotlib.pyplot as plt\n",
        "\n",
        "fig, ax = plt.subplots(figsize=(20,20))\n",
        "sns.heatmap(df.corr()[[target]].sort_values(target),\n",
        "vmax=1, vmin=-1, cmap='YlGnBu', annot=True, ax=ax);\n",
        "ax.invert_yaxis()\n",
        "plt.show()"
      ],
      "execution_count": 0,
      "outputs": [
        {
          "output_type": "display_data",
          "data": {
            "image/png": "[encoded data removed]",
            "text/plain": [
              "<Figure size 1440x1440 with 2 Axes>"
            ]
          },
          "metadata": {
            "tags": [],
            "needs_background": "light"
          }
        }
      ]
    },
    {
      "cell_type": "markdown",
      "metadata": {
        "colab_type": "text",
        "id": "yi-omJLQqbKS"
      },
      "source": [
        "## 4.8 Hyperparameter tuning"
      ]
    },
    {
      "cell_type": "markdown",
      "metadata": {
        "colab_type": "text",
        "id": "ZdjJxrdP0dDV"
      },
      "source": [
        "### 4.8.1 Creating the dictionary of the models"
      ]
    },
    {
      "cell_type": "code",
      "metadata": {
        "colab_type": "code",
        "id": "GabehIq5oCHT",
        "colab": {}
      },
      "source": [
        "from sklearn.linear_model import LogisticRegression\n",
        "from sklearn.tree import DecisionTreeRegressor\n",
        "from sklearn.ensemble import RandomForestRegressor\n",
        "from sklearn.neural_network import MLPRegressor\n",
        "\n",
        "models = {'dtr': DecisionTreeRegressor(random_state=42),\n",
        "          'rfr': RandomForestRegressor(max_depth = 20, random_state=42),\n",
        "          'mlpr': MLPRegressor(max_iter = 500, early_stopping=True, random_state=42)}"
      ],
      "execution_count": 0,
      "outputs": []
    },
    {
      "cell_type": "markdown",
      "metadata": {
        "colab_type": "text",
        "id": "mGnxT3KmqhAO"
      },
      "source": [
        "### 4.8.2 Creating the dictionary of pipelines"
      ]
    },
    {
      "cell_type": "code",
      "metadata": {
        "colab_type": "code",
        "id": "PwgOuvQ7oCLO",
        "colab": {}
      },
      "source": [
        "from sklearn.pipeline import Pipeline\n",
        "\n",
        "pipes = {}\n",
        "\n",
        "for acronym, model in models.items():\n",
        "    pipes[acronym] = Pipeline([('model', model)])"
      ],
      "execution_count": 0,
      "outputs": []
    },
    {
      "cell_type": "markdown",
      "metadata": {
        "colab_type": "text",
        "id": "L_DZgJmaqrAV"
      },
      "source": [
        "### 4.8.3 Getting the predefined split cross-validator"
      ]
    },
    {
      "cell_type": "code",
      "metadata": {
        "colab_type": "code",
        "id": "gApuftlwlo86",
        "colab": {}
      },
      "source": [
        "from sklearn.model_selection import PredefinedSplit\n",
        "\n",
        "# Combine the feature matrix in the training and validation data\n",
        "X_train_valid = np.vstack((X_train, X_valid))\n",
        "\n",
        "# Combine the target vector in the training and validation data\n",
        "y_train_valid = np.append(y_train, y_valid)\n",
        "\n",
        "# Get the indices of training and validation data\n",
        "train_valid_idxs = np.append(np.full(X_train.shape[0], -1), np.full(X_valid.shape[0], 0))\n",
        "\n",
        "# The PredefinedSplit\n",
        "ps = PredefinedSplit(train_valid_idxs)"
      ],
      "execution_count": 0,
      "outputs": []
    },
    {
      "cell_type": "markdown",
      "metadata": {
        "colab_type": "text",
        "id": "uCvxnrE8qwBA"
      },
      "source": [
        "### 4.8.4 Creating the dictionary of the parameter grids"
      ]
    },
    {
      "cell_type": "code",
      "metadata": {
        "colab_type": "code",
        "id": "ab27Fp6flpAg",
        "colab": {}
      },
      "source": [
        "param_grids = {}"
      ],
      "execution_count": 0,
      "outputs": []
    },
    {
      "cell_type": "markdown",
      "metadata": {
        "colab_type": "text",
        "id": "8urH3ZlxrEbY"
      },
      "source": [
        "#### 4.8.4.1 The parameters for Decision Tree"
      ]
    },
    {
      "cell_type": "code",
      "metadata": {
        "colab_type": "code",
        "id": "TZntQWAmqy7F",
        "colab": {}
      },
      "source": [
        "# The grids for min_samples_split\n",
        "min_samples_split_grids = [2, 30, 100]\n",
        "\n",
        "# The grids for min_samples_leaf\n",
        "min_samples_leaf_grids = [1, 30, 100]\n",
        "\n",
        "# The grids for max_depth\n",
        "max_depth_grids = range(1, 35, 3)\n",
        "\n",
        "# Update param_grids\n",
        "param_grids['dtr'] = [{'model__min_samples_split': min_samples_split_grids,\n",
        "                       'model__min_samples_leaf': min_samples_leaf_grids,\n",
        "                       'model__max_depth': max_depth_grids}]"
      ],
      "execution_count": 0,
      "outputs": []
    },
    {
      "cell_type": "markdown",
      "metadata": {
        "colab_type": "text",
        "id": "wV14a0cOrHqf"
      },
      "source": [
        "#### 4.8.4.2 The parameter grid for Random Forest"
      ]
    },
    {
      "cell_type": "code",
      "metadata": {
        "colab_type": "code",
        "id": "pAS4M0MeqzHF",
        "colab": {}
      },
      "source": [
        "# The grids for min_samples_split\n",
        "min_samples_split_grids = [2, 20, 100]\n",
        "\n",
        "# The grids for min_samples_leaf\n",
        "min_samples_leaf_grids = [1, 20, 100]\n",
        "\n",
        "# Update param_grids\n",
        "param_grids['rfr'] = [{'model__min_samples_split': min_samples_split_grids,\n",
        "                       'model__min_samples_leaf': min_samples_leaf_grids}]"
      ],
      "execution_count": 0,
      "outputs": []
    },
    {
      "cell_type": "markdown",
      "metadata": {
        "colab_type": "text",
        "id": "hpWyOT-mrYUV"
      },
      "source": [
        "#### 4.8.4.3 The parameter grid for multi-layer perceptron regressor"
      ]
    },
    {
      "cell_type": "code",
      "metadata": {
        "colab_type": "code",
        "id": "FjHYldSZqzYh",
        "colab": {}
      },
      "source": [
        "# The grids for alpha\n",
        "alpha_grids = [10 ** i for i in range(-6, -1)]\n",
        "\n",
        "# The grids for learning_rate_init\n",
        "learning_rate_init_grids = [10 ** i for i in range(-5, 0)]\n",
        "\n",
        "# Update param_grids\n",
        "param_grids['mlpr'] = [{'model__alpha': alpha_grids,\n",
        "                        'model__learning_rate_init': learning_rate_init_grids}]"
      ],
      "execution_count": 0,
      "outputs": []
    },
    {
      "cell_type": "markdown",
      "metadata": {
        "colab_type": "text",
        "id": "j1Eml2k-rlQA"
      },
      "source": [
        "### 4.8.5 Creating the directory for the cv regression results"
      ]
    },
    {
      "cell_type": "code",
      "metadata": {
        "colab_type": "code",
        "id": "6JJU1l6gqzb-",
        "colab": {}
      },
      "source": [
        "import os\n",
        "\n",
        "# Make directory\n",
        "directory = os.path.dirname('cv_regression_results/')\n",
        "if not os.path.exists(directory):\n",
        "    os.makedirs(directory)"
      ],
      "execution_count": 0,
      "outputs": []
    },
    {
      "cell_type": "markdown",
      "metadata": {
        "colab_type": "text",
        "id": "1TfAPuElrt_F"
      },
      "source": [
        "### 4.8.6 Hyperparameter Tuning with MSE as accuracy metric"
      ]
    },
    {
      "cell_type": "code",
      "metadata": {
        "colab_type": "code",
        "id": "e1ZIKlc4qzE1",
        "colab": {}
      },
      "source": [
        "from sklearn.model_selection import GridSearchCV\n",
        "\n",
        "# The list of [best_score_, best_params_, best_estimator_] obtained by GridSearchCV\n",
        "best_score_param_estimator_gs = []\n",
        "\n",
        "for acronym in pipes.keys():\n",
        "    # GridSearchCV\n",
        "    gs = GridSearchCV(estimator=pipes[acronym],\n",
        "                      param_grid=param_grids[acronym],\n",
        "                      scoring='neg_mean_squared_error',\n",
        "                      n_jobs=-1,\n",
        "                      cv=ps,\n",
        "                      return_train_score=True)\n",
        "        \n",
        "    # Fit the pipeline\n",
        "    gs = gs.fit(X_train_valid, y_train_valid)\n",
        "    \n",
        "    # Update best_score_param_estimator_gs\n",
        "    best_score_param_estimator_gs.append([gs.best_score_, gs.best_params_, gs.best_estimator_])\n",
        "    \n",
        "    # Sort cv_results in ascending order of 'rank_test_score' and 'std_test_score'\n",
        "    cv_results = pd.DataFrame.from_dict(gs.cv_results_).sort_values(by=['rank_test_score', 'std_test_score'])\n",
        "    \n",
        "    # Get the important columns in cv_results\n",
        "    important_columns = ['rank_test_score',\n",
        "                         'mean_test_score', \n",
        "                         'std_test_score', \n",
        "                         'mean_train_score', \n",
        "                         'std_train_score',\n",
        "                         'mean_fit_time', \n",
        "                         'std_fit_time',                        \n",
        "                         'mean_score_time', \n",
        "                         'std_score_time']\n",
        "    \n",
        "    # Move the important columns ahead\n",
        "    cv_results = cv_results[important_columns + sorted(list(set(cv_results.columns) - set(important_columns)))]\n",
        "\n",
        "    # Write cv_results file\n",
        "    cv_results.to_csv(path_or_buf='cv_regression_results/' + acronym + '.csv', index=False)"
      ],
      "execution_count": 0,
      "outputs": []
    },
    {
      "cell_type": "markdown",
      "metadata": {
        "colab_type": "text",
        "id": "JglaZsier1hu"
      },
      "source": [
        "### 4.8.7 Model Selection"
      ]
    },
    {
      "cell_type": "code",
      "metadata": {
        "colab_type": "code",
        "id": "btppBC8BqzDJ",
        "outputId": "ac432942-f288-42fb-f757-430f6c95d62c",
        "colab": {
          "base_uri": "https://localhost:8080/",
          "height": 137
        }
      },
      "source": [
        "# Sort best_score_param_estimator_gs in descending order of the best_score_\n",
        "best_score_param_estimator_gs = sorted(best_score_param_estimator_gs, key=lambda x : x[0], reverse=True)\n",
        "\n",
        "# Print best_score_param_estimator_gs\n",
        "pd.DataFrame(best_score_param_estimator_gs, columns=['best_score', 'best_param', 'best_estimator'])"
      ],
      "execution_count": 0,
      "outputs": [
        {
          "output_type": "execute_result",
          "data": {
            "text/html": [
              "<div>\n",
              "<style scoped>\n",
              "    .dataframe tbody tr th:only-of-type {\n",
              "        vertical-align: middle;\n",
              "    }\n",
              "\n",
              "    .dataframe tbody tr th {\n",
              "        vertical-align: top;\n",
              "    }\n",
              "\n",
              "    .dataframe thead th {\n",
              "        text-align: right;\n",
              "    }\n",
              "</style>\n",
              "<table border=\"1\" class=\"dataframe\">\n",
              "  <thead>\n",
              "    <tr style=\"text-align: right;\">\n",
              "      <th></th>\n",
              "      <th>best_score</th>\n",
              "      <th>best_param</th>\n",
              "      <th>best_estimator</th>\n",
              "    </tr>\n",
              "  </thead>\n",
              "  <tbody>\n",
              "    <tr>\n",
              "      <th>0</th>\n",
              "      <td>-46711.352993</td>\n",
              "      <td>{'model__min_samples_leaf': 1, 'model__min_sam...</td>\n",
              "      <td>((DecisionTreeRegressor(ccp_alpha=0.0, criteri...</td>\n",
              "    </tr>\n",
              "    <tr>\n",
              "      <th>1</th>\n",
              "      <td>-47037.978405</td>\n",
              "      <td>{'model__alpha': 0.0001, 'model__learning_rate...</td>\n",
              "      <td>(MLPRegressor(activation='relu', alpha=0.0001,...</td>\n",
              "    </tr>\n",
              "    <tr>\n",
              "      <th>2</th>\n",
              "      <td>-48428.851661</td>\n",
              "      <td>{'model__max_depth': 25, 'model__min_samples_l...</td>\n",
              "      <td>(DecisionTreeRegressor(ccp_alpha=0.0, criterio...</td>\n",
              "    </tr>\n",
              "  </tbody>\n",
              "</table>\n",
              "</div>"
            ],
            "text/plain": [
              "     best_score  ...                                     best_estimator\n",
              "0 -46711.352993  ...  ((DecisionTreeRegressor(ccp_alpha=0.0, criteri...\n",
              "1 -47037.978405  ...  (MLPRegressor(activation='relu', alpha=0.0001,...\n",
              "2 -48428.851661  ...  (DecisionTreeRegressor(ccp_alpha=0.0, criterio...\n",
              "\n",
              "[3 rows x 3 columns]"
            ]
          },
          "metadata": {
            "tags": []
          },
          "execution_count": 84
        }
      ]
    },
    {
      "cell_type": "markdown",
      "metadata": {
        "colab_type": "text",
        "id": "ouwG8u4jr6RY"
      },
      "source": [
        "## 4.9 Plot the feature importance"
      ]
    },
    {
      "cell_type": "code",
      "metadata": {
        "colab_type": "code",
        "id": "3B3kjwcrqzBF",
        "outputId": "ecdfd0a6-4901-4cc9-93ed-09de9eb512e9",
        "colab": {
          "base_uri": "https://localhost:8080/",
          "height": 197
        }
      },
      "source": [
        "# Get the best_score, best_param and best_estimator of random forest obtained by GridSearchCV\n",
        "best_score_rfc, best_param_rfc, best_estimator_rfc = best_score_param_estimator_gs[0]\n",
        "\n",
        "# Get the dataframe of feature and importance\n",
        "df_fi_rfc = pd.DataFrame(np.hstack((features.reshape(-1, 1), best_estimator_rfc.named_steps['model'].feature_importances_.reshape(-1, 1))),\n",
        "                         columns=['Features', 'Importance'])\n",
        "\n",
        "# Sort df_fi_rfc in descending order of the importance\n",
        "df_fi_rfc = df_fi_rfc.sort_values(ascending=False, by='Importance').reset_index(drop=True)\n",
        "\n",
        "# Print the first 5 rows of df_fi_rfc\n",
        "df_fi_rfc.head()"
      ],
      "execution_count": 0,
      "outputs": [
        {
          "output_type": "execute_result",
          "data": {
            "text/html": [
              "<div>\n",
              "<style scoped>\n",
              "    .dataframe tbody tr th:only-of-type {\n",
              "        vertical-align: middle;\n",
              "    }\n",
              "\n",
              "    .dataframe tbody tr th {\n",
              "        vertical-align: top;\n",
              "    }\n",
              "\n",
              "    .dataframe thead th {\n",
              "        text-align: right;\n",
              "    }\n",
              "</style>\n",
              "<table border=\"1\" class=\"dataframe\">\n",
              "  <thead>\n",
              "    <tr style=\"text-align: right;\">\n",
              "      <th></th>\n",
              "      <th>Features</th>\n",
              "      <th>Importance</th>\n",
              "    </tr>\n",
              "  </thead>\n",
              "  <tbody>\n",
              "    <tr>\n",
              "      <th>0</th>\n",
              "      <td>lender_count</td>\n",
              "      <td>0.643695</td>\n",
              "    </tr>\n",
              "    <tr>\n",
              "      <th>1</th>\n",
              "      <td>term_in_months</td>\n",
              "      <td>0.139682</td>\n",
              "    </tr>\n",
              "    <tr>\n",
              "      <th>2</th>\n",
              "      <td>female_borrowers</td>\n",
              "      <td>0.0622014</td>\n",
              "    </tr>\n",
              "    <tr>\n",
              "      <th>3</th>\n",
              "      <td>repayment_interval_irregular</td>\n",
              "      <td>0.0298805</td>\n",
              "    </tr>\n",
              "    <tr>\n",
              "      <th>4</th>\n",
              "      <td>MPI</td>\n",
              "      <td>0.0171725</td>\n",
              "    </tr>\n",
              "  </tbody>\n",
              "</table>\n",
              "</div>"
            ],
            "text/plain": [
              "                       Features Importance\n",
              "0                  lender_count   0.643695\n",
              "1                term_in_months   0.139682\n",
              "2              female_borrowers  0.0622014\n",
              "3  repayment_interval_irregular  0.0298805\n",
              "4                           MPI  0.0171725"
            ]
          },
          "metadata": {
            "tags": []
          },
          "execution_count": 86
        }
      ]
    },
    {
      "cell_type": "code",
      "metadata": {
        "colab_type": "code",
        "id": "rwZm5kyrBu9S",
        "colab": {}
      },
      "source": [
        "# Create the directory for figure_regression\n",
        "\n",
        "import os\n",
        "\n",
        "# Make directory\n",
        "directory = os.path.dirname('./figure_regression/')\n",
        "if not os.path.exists(directory):\n",
        "    os.makedirs(directory)"
      ],
      "execution_count": 0,
      "outputs": []
    },
    {
      "cell_type": "code",
      "metadata": {
        "colab_type": "code",
        "id": "l1dwCLrJsDA4",
        "outputId": "73187e5f-312e-43e5-fd26-c4bb37def95c",
        "colab": {
          "base_uri": "https://localhost:8080/",
          "height": 513
        }
      },
      "source": [
        "# Create a figure\n",
        "fig = plt.figure(figsize=(10, 7))\n",
        "\n",
        "# The bar plot of feature importance\n",
        "plt.bar(df_fi_rfc['Features'], df_fi_rfc['Importance'], color='green')\n",
        "\n",
        "# Set x-axis\n",
        "plt.xlabel('Features')\n",
        "plt.xticks(rotation=90)\n",
        "\n",
        "# Set y-axis\n",
        "plt.ylabel('Importance')\n",
        "\n",
        "# Save and show the figure\n",
        "plt.tight_layout()\n",
        "plt.savefig('./figure_regression/feature_importance_rfc.pdf')\n",
        "plt.show()"
      ],
      "execution_count": 0,
      "outputs": [
        {
          "output_type": "display_data",
          "data": {
            "image/png": "[encoded data removed]",
            "text/plain": [
              "<Figure size 720x504 with 1 Axes>"
            ]
          },
          "metadata": {
            "tags": [],
            "needs_background": "light"
          }
        }
      ]
    },
    {
      "cell_type": "markdown",
      "metadata": {
        "colab_type": "text",
        "id": "MgPcQLrG1Qpg"
      },
      "source": [
        "## 4.10 Generating the submission file"
      ]
    },
    {
      "cell_type": "code",
      "metadata": {
        "colab_type": "code",
        "id": "nrsHssbWDfHB",
        "colab": {}
      },
      "source": [
        "# Get the best_score, best_param and best_estimator obtained by GridSearchCV\n",
        "best_score_gs, best_param_gs, best_estimator_gs = best_score_param_estimator_gs[0]"
      ],
      "execution_count": 0,
      "outputs": []
    },
    {
      "cell_type": "code",
      "metadata": {
        "id": "qL2csHFRtxWW",
        "colab_type": "code",
        "colab": {}
      },
      "source": [
        "y_test_pred = best_estimator_gs.predict(X_test)\n",
        "df_submit = pd.DataFrame(y_test_pred,columns=['loan_amount'])\n",
        "df_submit.to_csv('submission_regression.csv', index=False)"
      ],
      "execution_count": 0,
      "outputs": []
    },
    {
      "cell_type": "markdown",
      "metadata": {
        "colab_type": "text",
        "id": "FKbkDnNGlptR"
      },
      "source": [
        "# 5 Classification Analysis"
      ]
    },
    {
      "cell_type": "code",
      "metadata": {
        "colab_type": "code",
        "id": "VNdZMcT6nMdH",
        "colab": {}
      },
      "source": [
        "# Create a copy of df_preprocessed \n",
        "df = df_preprocessed.copy(deep=True)"
      ],
      "execution_count": 0,
      "outputs": []
    },
    {
      "cell_type": "markdown",
      "metadata": {
        "colab_type": "text",
        "id": "A3O2kVM9lzE4"
      },
      "source": [
        "## 5.1 Define target"
      ]
    },
    {
      "cell_type": "code",
      "metadata": {
        "colab_type": "code",
        "id": "JTakcal8lo62",
        "colab": {}
      },
      "source": [
        "target = 'repayment_interval'"
      ],
      "execution_count": 0,
      "outputs": []
    },
    {
      "cell_type": "markdown",
      "metadata": {
        "colab_type": "text",
        "id": "-uk6eyLtudL8"
      },
      "source": [
        "## 5.2 Encoding the features and target"
      ]
    },
    {
      "cell_type": "markdown",
      "metadata": {
        "colab_type": "text",
        "id": "Iz8fgefiuAJt"
      },
      "source": [
        "###5.2.1  Encoding the categorical features"
      ]
    },
    {
      "cell_type": "code",
      "metadata": {
        "colab_type": "code",
        "id": "-C1xR2GZl6d0",
        "outputId": "fc920a6d-d4b5-41c7-a03f-0b6415900c07",
        "colab": {
          "base_uri": "https://localhost:8080/",
          "height": 234
        }
      },
      "source": [
        "# One-hot-encode the categorical features in the combined data\n",
        "df = pd.get_dummies(df, columns=np.setdiff1d(np.intersect1d(df.columns, df_cat['var']), [target]))\n",
        "\n",
        "# Print the first 5 rows of df\n",
        "df.head()"
      ],
      "execution_count": 0,
      "outputs": [
        {
          "output_type": "execute_result",
          "data": {
            "text/html": [
              "<div>\n",
              "<style scoped>\n",
              "    .dataframe tbody tr th:only-of-type {\n",
              "        vertical-align: middle;\n",
              "    }\n",
              "\n",
              "    .dataframe tbody tr th {\n",
              "        vertical-align: top;\n",
              "    }\n",
              "\n",
              "    .dataframe thead th {\n",
              "        text-align: right;\n",
              "    }\n",
              "</style>\n",
              "<table border=\"1\" class=\"dataframe\">\n",
              "  <thead>\n",
              "    <tr style=\"text-align: right;\">\n",
              "      <th></th>\n",
              "      <th>loan_amount</th>\n",
              "      <th>term_in_months</th>\n",
              "      <th>lender_count</th>\n",
              "      <th>repayment_interval</th>\n",
              "      <th>MPI</th>\n",
              "      <th>male_borrowers</th>\n",
              "      <th>female_borrowers</th>\n",
              "      <th>activities_agriculture_and_livestock</th>\n",
              "      <th>activities_arts_and_crafts</th>\n",
              "      <th>activities_business</th>\n",
              "      <th>activities_construction_materials</th>\n",
              "      <th>activities_education</th>\n",
              "      <th>activities_energy</th>\n",
              "      <th>activities_entertainment</th>\n",
              "      <th>activities_food_and_beverages</th>\n",
              "      <th>activities_healthcare</th>\n",
              "      <th>activities_maintenance</th>\n",
              "      <th>activities_miscellaneous</th>\n",
              "      <th>activities_services</th>\n",
              "      <th>activities_supplies</th>\n",
              "      <th>activities_technology_and_IT</th>\n",
              "      <th>country_Belize</th>\n",
              "      <th>country_Brazil</th>\n",
              "      <th>country_Colombia</th>\n",
              "      <th>country_Dominican Republic</th>\n",
              "      <th>country_Ecuador</th>\n",
              "      <th>country_El Salvador</th>\n",
              "      <th>country_Haiti</th>\n",
              "      <th>country_Honduras</th>\n",
              "      <th>country_Nicaragua</th>\n",
              "      <th>country_Paraguay</th>\n",
              "      <th>country_Peru</th>\n",
              "      <th>country_Suriname</th>\n",
              "    </tr>\n",
              "  </thead>\n",
              "  <tbody>\n",
              "    <tr>\n",
              "      <th>48</th>\n",
              "      <td>600.0</td>\n",
              "      <td>14.0</td>\n",
              "      <td>16</td>\n",
              "      <td>monthly</td>\n",
              "      <td>0.074</td>\n",
              "      <td>0</td>\n",
              "      <td>1</td>\n",
              "      <td>0</td>\n",
              "      <td>0</td>\n",
              "      <td>1</td>\n",
              "      <td>0</td>\n",
              "      <td>0</td>\n",
              "      <td>0</td>\n",
              "      <td>0</td>\n",
              "      <td>0</td>\n",
              "      <td>0</td>\n",
              "      <td>0</td>\n",
              "      <td>0</td>\n",
              "      <td>0</td>\n",
              "      <td>0</td>\n",
              "      <td>0</td>\n",
              "      <td>0</td>\n",
              "      <td>0</td>\n",
              "      <td>0</td>\n",
              "      <td>0</td>\n",
              "      <td>0</td>\n",
              "      <td>0</td>\n",
              "      <td>0</td>\n",
              "      <td>0</td>\n",
              "      <td>1</td>\n",
              "      <td>0</td>\n",
              "      <td>0</td>\n",
              "      <td>0</td>\n",
              "    </tr>\n",
              "    <tr>\n",
              "      <th>49</th>\n",
              "      <td>450.0</td>\n",
              "      <td>14.0</td>\n",
              "      <td>18</td>\n",
              "      <td>monthly</td>\n",
              "      <td>0.032</td>\n",
              "      <td>1</td>\n",
              "      <td>0</td>\n",
              "      <td>0</td>\n",
              "      <td>0</td>\n",
              "      <td>1</td>\n",
              "      <td>0</td>\n",
              "      <td>0</td>\n",
              "      <td>0</td>\n",
              "      <td>0</td>\n",
              "      <td>0</td>\n",
              "      <td>0</td>\n",
              "      <td>0</td>\n",
              "      <td>0</td>\n",
              "      <td>0</td>\n",
              "      <td>0</td>\n",
              "      <td>0</td>\n",
              "      <td>0</td>\n",
              "      <td>0</td>\n",
              "      <td>0</td>\n",
              "      <td>0</td>\n",
              "      <td>0</td>\n",
              "      <td>1</td>\n",
              "      <td>0</td>\n",
              "      <td>0</td>\n",
              "      <td>0</td>\n",
              "      <td>0</td>\n",
              "      <td>0</td>\n",
              "      <td>0</td>\n",
              "    </tr>\n",
              "    <tr>\n",
              "      <th>53</th>\n",
              "      <td>550.0</td>\n",
              "      <td>14.0</td>\n",
              "      <td>20</td>\n",
              "      <td>monthly</td>\n",
              "      <td>0.053</td>\n",
              "      <td>1</td>\n",
              "      <td>0</td>\n",
              "      <td>0</td>\n",
              "      <td>0</td>\n",
              "      <td>0</td>\n",
              "      <td>0</td>\n",
              "      <td>0</td>\n",
              "      <td>0</td>\n",
              "      <td>0</td>\n",
              "      <td>0</td>\n",
              "      <td>0</td>\n",
              "      <td>0</td>\n",
              "      <td>1</td>\n",
              "      <td>0</td>\n",
              "      <td>0</td>\n",
              "      <td>0</td>\n",
              "      <td>0</td>\n",
              "      <td>0</td>\n",
              "      <td>0</td>\n",
              "      <td>0</td>\n",
              "      <td>0</td>\n",
              "      <td>0</td>\n",
              "      <td>0</td>\n",
              "      <td>0</td>\n",
              "      <td>0</td>\n",
              "      <td>0</td>\n",
              "      <td>1</td>\n",
              "      <td>0</td>\n",
              "    </tr>\n",
              "    <tr>\n",
              "      <th>69</th>\n",
              "      <td>1075.0</td>\n",
              "      <td>17.0</td>\n",
              "      <td>41</td>\n",
              "      <td>monthly</td>\n",
              "      <td>0.053</td>\n",
              "      <td>1</td>\n",
              "      <td>0</td>\n",
              "      <td>0</td>\n",
              "      <td>0</td>\n",
              "      <td>0</td>\n",
              "      <td>0</td>\n",
              "      <td>0</td>\n",
              "      <td>0</td>\n",
              "      <td>0</td>\n",
              "      <td>0</td>\n",
              "      <td>0</td>\n",
              "      <td>0</td>\n",
              "      <td>0</td>\n",
              "      <td>1</td>\n",
              "      <td>0</td>\n",
              "      <td>0</td>\n",
              "      <td>0</td>\n",
              "      <td>0</td>\n",
              "      <td>0</td>\n",
              "      <td>0</td>\n",
              "      <td>0</td>\n",
              "      <td>0</td>\n",
              "      <td>0</td>\n",
              "      <td>0</td>\n",
              "      <td>0</td>\n",
              "      <td>0</td>\n",
              "      <td>1</td>\n",
              "      <td>0</td>\n",
              "    </tr>\n",
              "    <tr>\n",
              "      <th>80</th>\n",
              "      <td>1000.0</td>\n",
              "      <td>20.0</td>\n",
              "      <td>34</td>\n",
              "      <td>monthly</td>\n",
              "      <td>0.090</td>\n",
              "      <td>0</td>\n",
              "      <td>1</td>\n",
              "      <td>0</td>\n",
              "      <td>0</td>\n",
              "      <td>1</td>\n",
              "      <td>0</td>\n",
              "      <td>0</td>\n",
              "      <td>0</td>\n",
              "      <td>0</td>\n",
              "      <td>0</td>\n",
              "      <td>0</td>\n",
              "      <td>0</td>\n",
              "      <td>0</td>\n",
              "      <td>0</td>\n",
              "      <td>0</td>\n",
              "      <td>0</td>\n",
              "      <td>0</td>\n",
              "      <td>0</td>\n",
              "      <td>0</td>\n",
              "      <td>0</td>\n",
              "      <td>0</td>\n",
              "      <td>0</td>\n",
              "      <td>0</td>\n",
              "      <td>1</td>\n",
              "      <td>0</td>\n",
              "      <td>0</td>\n",
              "      <td>0</td>\n",
              "      <td>0</td>\n",
              "    </tr>\n",
              "  </tbody>\n",
              "</table>\n",
              "</div>"
            ],
            "text/plain": [
              "    loan_amount  term_in_months  ...  country_Peru country_Suriname\n",
              "48        600.0            14.0  ...             0                0\n",
              "49        450.0            14.0  ...             0                0\n",
              "53        550.0            14.0  ...             1                0\n",
              "69       1075.0            17.0  ...             1                0\n",
              "80       1000.0            20.0  ...             0                0\n",
              "\n",
              "[5 rows x 33 columns]"
            ]
          },
          "metadata": {
            "tags": []
          },
          "execution_count": 93
        }
      ]
    },
    {
      "cell_type": "markdown",
      "metadata": {
        "colab_type": "text",
        "id": "ty__KJIYuVHr"
      },
      "source": [
        "### 5.2.2 Encoding the categorical target"
      ]
    },
    {
      "cell_type": "code",
      "metadata": {
        "colab_type": "code",
        "id": "rzrpuneDl6br",
        "outputId": "f5cc9d02-7d69-4fc6-9518-6c47b2c3cf06",
        "colab": {
          "base_uri": "https://localhost:8080/",
          "height": 234
        }
      },
      "source": [
        "from sklearn.preprocessing import LabelEncoder\n",
        "\n",
        "# The LabelEncoder\n",
        "le = LabelEncoder()\n",
        "\n",
        "# Encode the categorical target in the combined data\n",
        "df[target] = le.fit_transform(df[target].astype(str))\n",
        "\n",
        "# Print the first 5 rows of df\n",
        "df.head()"
      ],
      "execution_count": 0,
      "outputs": [
        {
          "output_type": "execute_result",
          "data": {
            "text/html": [
              "<div>\n",
              "<style scoped>\n",
              "    .dataframe tbody tr th:only-of-type {\n",
              "        vertical-align: middle;\n",
              "    }\n",
              "\n",
              "    .dataframe tbody tr th {\n",
              "        vertical-align: top;\n",
              "    }\n",
              "\n",
              "    .dataframe thead th {\n",
              "        text-align: right;\n",
              "    }\n",
              "</style>\n",
              "<table border=\"1\" class=\"dataframe\">\n",
              "  <thead>\n",
              "    <tr style=\"text-align: right;\">\n",
              "      <th></th>\n",
              "      <th>loan_amount</th>\n",
              "      <th>term_in_months</th>\n",
              "      <th>lender_count</th>\n",
              "      <th>repayment_interval</th>\n",
              "      <th>MPI</th>\n",
              "      <th>male_borrowers</th>\n",
              "      <th>female_borrowers</th>\n",
              "      <th>activities_agriculture_and_livestock</th>\n",
              "      <th>activities_arts_and_crafts</th>\n",
              "      <th>activities_business</th>\n",
              "      <th>activities_construction_materials</th>\n",
              "      <th>activities_education</th>\n",
              "      <th>activities_energy</th>\n",
              "      <th>activities_entertainment</th>\n",
              "      <th>activities_food_and_beverages</th>\n",
              "      <th>activities_healthcare</th>\n",
              "      <th>activities_maintenance</th>\n",
              "      <th>activities_miscellaneous</th>\n",
              "      <th>activities_services</th>\n",
              "      <th>activities_supplies</th>\n",
              "      <th>activities_technology_and_IT</th>\n",
              "      <th>country_Belize</th>\n",
              "      <th>country_Brazil</th>\n",
              "      <th>country_Colombia</th>\n",
              "      <th>country_Dominican Republic</th>\n",
              "      <th>country_Ecuador</th>\n",
              "      <th>country_El Salvador</th>\n",
              "      <th>country_Haiti</th>\n",
              "      <th>country_Honduras</th>\n",
              "      <th>country_Nicaragua</th>\n",
              "      <th>country_Paraguay</th>\n",
              "      <th>country_Peru</th>\n",
              "      <th>country_Suriname</th>\n",
              "    </tr>\n",
              "  </thead>\n",
              "  <tbody>\n",
              "    <tr>\n",
              "      <th>48</th>\n",
              "      <td>600.0</td>\n",
              "      <td>14.0</td>\n",
              "      <td>16</td>\n",
              "      <td>2</td>\n",
              "      <td>0.074</td>\n",
              "      <td>0</td>\n",
              "      <td>1</td>\n",
              "      <td>0</td>\n",
              "      <td>0</td>\n",
              "      <td>1</td>\n",
              "      <td>0</td>\n",
              "      <td>0</td>\n",
              "      <td>0</td>\n",
              "      <td>0</td>\n",
              "      <td>0</td>\n",
              "      <td>0</td>\n",
              "      <td>0</td>\n",
              "      <td>0</td>\n",
              "      <td>0</td>\n",
              "      <td>0</td>\n",
              "      <td>0</td>\n",
              "      <td>0</td>\n",
              "      <td>0</td>\n",
              "      <td>0</td>\n",
              "      <td>0</td>\n",
              "      <td>0</td>\n",
              "      <td>0</td>\n",
              "      <td>0</td>\n",
              "      <td>0</td>\n",
              "      <td>1</td>\n",
              "      <td>0</td>\n",
              "      <td>0</td>\n",
              "      <td>0</td>\n",
              "    </tr>\n",
              "    <tr>\n",
              "      <th>49</th>\n",
              "      <td>450.0</td>\n",
              "      <td>14.0</td>\n",
              "      <td>18</td>\n",
              "      <td>2</td>\n",
              "      <td>0.032</td>\n",
              "      <td>1</td>\n",
              "      <td>0</td>\n",
              "      <td>0</td>\n",
              "      <td>0</td>\n",
              "      <td>1</td>\n",
              "      <td>0</td>\n",
              "      <td>0</td>\n",
              "      <td>0</td>\n",
              "      <td>0</td>\n",
              "      <td>0</td>\n",
              "      <td>0</td>\n",
              "      <td>0</td>\n",
              "      <td>0</td>\n",
              "      <td>0</td>\n",
              "      <td>0</td>\n",
              "      <td>0</td>\n",
              "      <td>0</td>\n",
              "      <td>0</td>\n",
              "      <td>0</td>\n",
              "      <td>0</td>\n",
              "      <td>0</td>\n",
              "      <td>1</td>\n",
              "      <td>0</td>\n",
              "      <td>0</td>\n",
              "      <td>0</td>\n",
              "      <td>0</td>\n",
              "      <td>0</td>\n",
              "      <td>0</td>\n",
              "    </tr>\n",
              "    <tr>\n",
              "      <th>53</th>\n",
              "      <td>550.0</td>\n",
              "      <td>14.0</td>\n",
              "      <td>20</td>\n",
              "      <td>2</td>\n",
              "      <td>0.053</td>\n",
              "      <td>1</td>\n",
              "      <td>0</td>\n",
              "      <td>0</td>\n",
              "      <td>0</td>\n",
              "      <td>0</td>\n",
              "      <td>0</td>\n",
              "      <td>0</td>\n",
              "      <td>0</td>\n",
              "      <td>0</td>\n",
              "      <td>0</td>\n",
              "      <td>0</td>\n",
              "      <td>0</td>\n",
              "      <td>1</td>\n",
              "      <td>0</td>\n",
              "      <td>0</td>\n",
              "      <td>0</td>\n",
              "      <td>0</td>\n",
              "      <td>0</td>\n",
              "      <td>0</td>\n",
              "      <td>0</td>\n",
              "      <td>0</td>\n",
              "      <td>0</td>\n",
              "      <td>0</td>\n",
              "      <td>0</td>\n",
              "      <td>0</td>\n",
              "      <td>0</td>\n",
              "      <td>1</td>\n",
              "      <td>0</td>\n",
              "    </tr>\n",
              "    <tr>\n",
              "      <th>69</th>\n",
              "      <td>1075.0</td>\n",
              "      <td>17.0</td>\n",
              "      <td>41</td>\n",
              "      <td>2</td>\n",
              "      <td>0.053</td>\n",
              "      <td>1</td>\n",
              "      <td>0</td>\n",
              "      <td>0</td>\n",
              "      <td>0</td>\n",
              "      <td>0</td>\n",
              "      <td>0</td>\n",
              "      <td>0</td>\n",
              "      <td>0</td>\n",
              "      <td>0</td>\n",
              "      <td>0</td>\n",
              "      <td>0</td>\n",
              "      <td>0</td>\n",
              "      <td>0</td>\n",
              "      <td>1</td>\n",
              "      <td>0</td>\n",
              "      <td>0</td>\n",
              "      <td>0</td>\n",
              "      <td>0</td>\n",
              "      <td>0</td>\n",
              "      <td>0</td>\n",
              "      <td>0</td>\n",
              "      <td>0</td>\n",
              "      <td>0</td>\n",
              "      <td>0</td>\n",
              "      <td>0</td>\n",
              "      <td>0</td>\n",
              "      <td>1</td>\n",
              "      <td>0</td>\n",
              "    </tr>\n",
              "    <tr>\n",
              "      <th>80</th>\n",
              "      <td>1000.0</td>\n",
              "      <td>20.0</td>\n",
              "      <td>34</td>\n",
              "      <td>2</td>\n",
              "      <td>0.090</td>\n",
              "      <td>0</td>\n",
              "      <td>1</td>\n",
              "      <td>0</td>\n",
              "      <td>0</td>\n",
              "      <td>1</td>\n",
              "      <td>0</td>\n",
              "      <td>0</td>\n",
              "      <td>0</td>\n",
              "      <td>0</td>\n",
              "      <td>0</td>\n",
              "      <td>0</td>\n",
              "      <td>0</td>\n",
              "      <td>0</td>\n",
              "      <td>0</td>\n",
              "      <td>0</td>\n",
              "      <td>0</td>\n",
              "      <td>0</td>\n",
              "      <td>0</td>\n",
              "      <td>0</td>\n",
              "      <td>0</td>\n",
              "      <td>0</td>\n",
              "      <td>0</td>\n",
              "      <td>0</td>\n",
              "      <td>1</td>\n",
              "      <td>0</td>\n",
              "      <td>0</td>\n",
              "      <td>0</td>\n",
              "      <td>0</td>\n",
              "    </tr>\n",
              "  </tbody>\n",
              "</table>\n",
              "</div>"
            ],
            "text/plain": [
              "    loan_amount  term_in_months  ...  country_Peru  country_Suriname\n",
              "48        600.0            14.0  ...             0                 0\n",
              "49        450.0            14.0  ...             0                 0\n",
              "53        550.0            14.0  ...             1                 0\n",
              "69       1075.0            17.0  ...             1                 0\n",
              "80       1000.0            20.0  ...             0                 0\n",
              "\n",
              "[5 rows x 33 columns]"
            ]
          },
          "metadata": {
            "tags": []
          },
          "execution_count": 94
        }
      ]
    },
    {
      "cell_type": "code",
      "metadata": {
        "id": "Hi55o3HxMWma",
        "colab_type": "code",
        "outputId": "1286eac8-ef97-4221-a7fc-4c69099d8906",
        "colab": {
          "base_uri": "https://localhost:8080/",
          "height": 34
        }
      },
      "source": [
        "# Check the labels assigned to each class\n",
        "{l: i for i, l in enumerate(le.classes_)}"
      ],
      "execution_count": 0,
      "outputs": [
        {
          "output_type": "execute_result",
          "data": {
            "text/plain": [
              "{'bullet': 0, 'irregular': 1, 'monthly': 2}"
            ]
          },
          "metadata": {
            "tags": []
          },
          "execution_count": 95
        }
      ]
    },
    {
      "cell_type": "markdown",
      "metadata": {
        "colab_type": "text",
        "id": "eB9fYwsYunUO"
      },
      "source": [
        "## 5.3 Creating the train, test and validation dataset"
      ]
    },
    {
      "cell_type": "markdown",
      "metadata": {
        "colab_type": "text",
        "id": "3N8Xr1cLutGq"
      },
      "source": [
        "### 5.3.1 Creating a test set"
      ]
    },
    {
      "cell_type": "code",
      "metadata": {
        "colab_type": "code",
        "id": "vsahWJPtuTde",
        "colab": {}
      },
      "source": [
        "from sklearn.model_selection import train_test_split\n",
        "\n",
        "df_train, df_test = train_test_split(df, test_size=0.2, random_state=42)"
      ],
      "execution_count": 0,
      "outputs": []
    },
    {
      "cell_type": "code",
      "metadata": {
        "colab_type": "code",
        "id": "73X2b7rYuTht",
        "colab": {}
      },
      "source": [
        "#remove target in test set\n",
        "df_test.drop([target], axis=1, inplace=True)"
      ],
      "execution_count": 0,
      "outputs": []
    },
    {
      "cell_type": "markdown",
      "metadata": {
        "colab_type": "text",
        "id": "0zu6vmqqu0dp"
      },
      "source": [
        "### 5.3.2 Dividing the training data into training and validation"
      ]
    },
    {
      "cell_type": "code",
      "metadata": {
        "colab_type": "code",
        "id": "_vxCUC79u4Uj",
        "colab": {}
      },
      "source": [
        "from sklearn.model_selection import train_test_split\n",
        "\n",
        "# Divide: 80% as training set and 20% as validation\n",
        "df_train, df_valid = train_test_split(df_train, train_size=.8, random_state=42, stratify=df_train[target])\n",
        "\n",
        "# Reset the index in training and validation sets\n",
        "df_train = df_train.reset_index(drop=True)\n",
        "df_valid = df_valid.reset_index(drop=True)"
      ],
      "execution_count": 0,
      "outputs": []
    },
    {
      "cell_type": "code",
      "metadata": {
        "colab_type": "code",
        "id": "97354NcIu4Rc",
        "outputId": "83938a02-f806-4cf5-cbc3-77fe2edbcbb0",
        "colab": {
          "base_uri": "https://localhost:8080/",
          "height": 77
        }
      },
      "source": [
        "# Print the dimension of training set\n",
        "pd.DataFrame([[df_train.shape[0], df_train.shape[1]]], columns=['rows','columns'])"
      ],
      "execution_count": 0,
      "outputs": [
        {
          "output_type": "execute_result",
          "data": {
            "text/html": [
              "<div>\n",
              "<style scoped>\n",
              "    .dataframe tbody tr th:only-of-type {\n",
              "        vertical-align: middle;\n",
              "    }\n",
              "\n",
              "    .dataframe tbody tr th {\n",
              "        vertical-align: top;\n",
              "    }\n",
              "\n",
              "    .dataframe thead th {\n",
              "        text-align: right;\n",
              "    }\n",
              "</style>\n",
              "<table border=\"1\" class=\"dataframe\">\n",
              "  <thead>\n",
              "    <tr style=\"text-align: right;\">\n",
              "      <th></th>\n",
              "      <th>rows</th>\n",
              "      <th>columns</th>\n",
              "    </tr>\n",
              "  </thead>\n",
              "  <tbody>\n",
              "    <tr>\n",
              "      <th>0</th>\n",
              "      <td>65610</td>\n",
              "      <td>33</td>\n",
              "    </tr>\n",
              "  </tbody>\n",
              "</table>\n",
              "</div>"
            ],
            "text/plain": [
              "    rows  columns\n",
              "0  65610       33"
            ]
          },
          "metadata": {
            "tags": []
          },
          "execution_count": 68
        }
      ]
    },
    {
      "cell_type": "code",
      "metadata": {
        "colab_type": "code",
        "id": "IWw9xYaNu4PK",
        "outputId": "5b84e66c-6caa-4656-c5c3-adfbe7ac0a35",
        "colab": {
          "base_uri": "https://localhost:8080/",
          "height": 77
        }
      },
      "source": [
        "#Print the dimension of validation set\n",
        "pd.DataFrame([[df_valid.shape[0], df_valid.shape[1]]], columns=['rows','columns'])"
      ],
      "execution_count": 0,
      "outputs": [
        {
          "output_type": "execute_result",
          "data": {
            "text/html": [
              "<div>\n",
              "<style scoped>\n",
              "    .dataframe tbody tr th:only-of-type {\n",
              "        vertical-align: middle;\n",
              "    }\n",
              "\n",
              "    .dataframe tbody tr th {\n",
              "        vertical-align: top;\n",
              "    }\n",
              "\n",
              "    .dataframe thead th {\n",
              "        text-align: right;\n",
              "    }\n",
              "</style>\n",
              "<table border=\"1\" class=\"dataframe\">\n",
              "  <thead>\n",
              "    <tr style=\"text-align: right;\">\n",
              "      <th></th>\n",
              "      <th>rows</th>\n",
              "      <th>columns</th>\n",
              "    </tr>\n",
              "  </thead>\n",
              "  <tbody>\n",
              "    <tr>\n",
              "      <th>0</th>\n",
              "      <td>16403</td>\n",
              "      <td>33</td>\n",
              "    </tr>\n",
              "  </tbody>\n",
              "</table>\n",
              "</div>"
            ],
            "text/plain": [
              "    rows  columns\n",
              "0  16403       33"
            ]
          },
          "metadata": {
            "tags": []
          },
          "execution_count": 99
        }
      ]
    },
    {
      "cell_type": "code",
      "metadata": {
        "colab_type": "code",
        "id": "QbcE_Ztau4M2",
        "outputId": "7e04dc3e-6f91-450a-f324-53cfdbd9ab63",
        "colab": {
          "base_uri": "https://localhost:8080/",
          "height": 77
        }
      },
      "source": [
        "# Print the dimension of test set\n",
        "pd.DataFrame([[df_test.shape[0], df_test.shape[1]]], columns=['rows','columns'])"
      ],
      "execution_count": 0,
      "outputs": [
        {
          "output_type": "execute_result",
          "data": {
            "text/html": [
              "<div>\n",
              "<style scoped>\n",
              "    .dataframe tbody tr th:only-of-type {\n",
              "        vertical-align: middle;\n",
              "    }\n",
              "\n",
              "    .dataframe tbody tr th {\n",
              "        vertical-align: top;\n",
              "    }\n",
              "\n",
              "    .dataframe thead th {\n",
              "        text-align: right;\n",
              "    }\n",
              "</style>\n",
              "<table border=\"1\" class=\"dataframe\">\n",
              "  <thead>\n",
              "    <tr style=\"text-align: right;\">\n",
              "      <th></th>\n",
              "      <th>rows</th>\n",
              "      <th>columns</th>\n",
              "    </tr>\n",
              "  </thead>\n",
              "  <tbody>\n",
              "    <tr>\n",
              "      <th>0</th>\n",
              "      <td>20504</td>\n",
              "      <td>32</td>\n",
              "    </tr>\n",
              "  </tbody>\n",
              "</table>\n",
              "</div>"
            ],
            "text/plain": [
              "    rows  columns\n",
              "0  20504       32"
            ]
          },
          "metadata": {
            "tags": []
          },
          "execution_count": 100
        }
      ]
    },
    {
      "cell_type": "markdown",
      "metadata": {
        "colab_type": "text",
        "id": "qlXSq1-dvD-h"
      },
      "source": [
        "## 5.4 Getting the name of the features"
      ]
    },
    {
      "cell_type": "code",
      "metadata": {
        "colab_type": "code",
        "id": "2ILvUB1bvJlK",
        "colab": {}
      },
      "source": [
        "features = np.setdiff1d(df.columns, [target])"
      ],
      "execution_count": 0,
      "outputs": []
    },
    {
      "cell_type": "markdown",
      "metadata": {
        "colab_type": "text",
        "id": "_Zk4NBnvvQzs"
      },
      "source": [
        "## 5.5 Getting the feature matrix and target vector"
      ]
    },
    {
      "cell_type": "code",
      "metadata": {
        "colab_type": "code",
        "id": "w5x9AEI6u4Kf",
        "colab": {}
      },
      "source": [
        "# Get the feature matrix\n",
        "X_train = df_train[features].to_numpy()\n",
        "X_valid = df_valid[features].to_numpy()\n",
        "X_test = df_test[features].to_numpy()\n",
        "\n",
        "# Get the target vector\n",
        "y_train = df_train[target].astype(int).to_numpy()\n",
        "y_valid = df_valid[target].astype(int).to_numpy()"
      ],
      "execution_count": 0,
      "outputs": []
    },
    {
      "cell_type": "markdown",
      "metadata": {
        "colab_type": "text",
        "id": "XRuGIuhZxvuZ"
      },
      "source": [
        "## 5.6 Scaling the data"
      ]
    },
    {
      "cell_type": "code",
      "metadata": {
        "colab_type": "code",
        "id": "GFP0OC3yxvCE",
        "colab": {}
      },
      "source": [
        "from sklearn.preprocessing import StandardScaler\n",
        "\n",
        "# The StandardScaler\n",
        "ss = StandardScaler()\n",
        "\n",
        "# Standardize the training data\n",
        "X_train = ss.fit_transform(X_train)\n",
        "\n",
        "# Standardize the validation data\n",
        "X_valid = ss.transform(X_valid)\n",
        "\n",
        "# Standardize the testing data\n",
        "X_test = ss.transform(X_test)"
      ],
      "execution_count": 0,
      "outputs": []
    },
    {
      "cell_type": "markdown",
      "metadata": {
        "colab_type": "text",
        "id": "dbmc82lvx9rI"
      },
      "source": [
        "## 5.7 Correlation Matrix\n"
      ]
    },
    {
      "cell_type": "code",
      "metadata": {
        "colab_type": "code",
        "id": "CvBFz4HKxu_C",
        "outputId": "75486bcc-5c0a-4f11-d513-5bda1b90ff5e",
        "colab": {
          "base_uri": "https://localhost:8080/",
          "height": 743
        }
      },
      "source": [
        "from string import ascii_letters\n",
        "import numpy as np\n",
        "import pandas as pd\n",
        "import seaborn as sns\n",
        "import matplotlib.pyplot as plt\n",
        "\n",
        "sns.set(style=\"white\")\n",
        "\n",
        "# Compute the correlation matrix\n",
        "corr = df.corr()\n",
        "\n",
        "# Generate a mask for the upper triangle\n",
        "mask = np.triu(np.ones_like(corr, dtype=np.bool))\n",
        "\n",
        "# Set up the matplotlib figure\n",
        "f, ax = plt.subplots(figsize=(11, 9))\n",
        "\n",
        "# Generate a custom diverging colormap\n",
        "cmap = sns.diverging_palette(220, 10, as_cmap=True)\n",
        "\n",
        "# Draw the heatmap with the mask and correct aspect ratio\n",
        "sns.heatmap(corr, mask=mask, cmap=cmap, vmax=.3, center=0,\n",
        "            square=True, linewidths=.5, cbar_kws={\"shrink\": .5})"
      ],
      "execution_count": 0,
      "outputs": [
        {
          "output_type": "execute_result",
          "data": {
            "text/plain": [
              "<matplotlib.axes._subplots.AxesSubplot at 0x7fb663b19358>"
            ]
          },
          "metadata": {
            "tags": []
          },
          "execution_count": 104
        },
        {
          "output_type": "display_data",
          "data": {
            "image/png": "[encoded data removed]",
            "text/plain": [
              "<Figure size 792x648 with 2 Axes>"
            ]
          },
          "metadata": {
            "tags": []
          }
        }
      ]
    },
    {
      "cell_type": "markdown",
      "metadata": {
        "colab_type": "text",
        "id": "htTZ8vQ1AifZ"
      },
      "source": [
        "## 5.8 Hyperparameter tuning"
      ]
    },
    {
      "cell_type": "markdown",
      "metadata": {
        "colab_type": "text",
        "id": "gXAkzugV0V_q"
      },
      "source": [
        "### 5.8.1 Creating the dictionary of the models"
      ]
    },
    {
      "cell_type": "code",
      "metadata": {
        "colab_type": "code",
        "id": "08vCN2XBAifZ",
        "colab": {}
      },
      "source": [
        "from sklearn.linear_model import LogisticRegression\n",
        "from sklearn.tree import DecisionTreeClassifier\n",
        "from sklearn.ensemble import RandomForestClassifier\n",
        "from sklearn.experimental import enable_hist_gradient_boosting\n",
        "from sklearn.ensemble import HistGradientBoostingClassifier\n",
        "from xgboost.sklearn import XGBClassifier\n",
        "from sklearn.neural_network import MLPClassifier\n",
        "\n",
        "models = {'lr': LogisticRegression(class_weight='balanced', random_state=42),\n",
        "          'dtc': DecisionTreeClassifier(class_weight='balanced', random_state=42),\n",
        "          'rfc': RandomForestClassifier(class_weight='balanced', random_state=42),\n",
        "          'hgbc': HistGradientBoostingClassifier(random_state=42),\n",
        "          'xgbc': XGBClassifier(seed=42),\n",
        "          'mlpc': MLPClassifier(early_stopping=True, random_state=42)}"
      ],
      "execution_count": 0,
      "outputs": []
    },
    {
      "cell_type": "markdown",
      "metadata": {
        "colab_type": "text",
        "id": "ZSAbguOrAifa"
      },
      "source": [
        "### 5.8.2 Creating the dictionary of the pipelines"
      ]
    },
    {
      "cell_type": "code",
      "metadata": {
        "colab_type": "code",
        "id": "tl6ay78YAifa",
        "colab": {}
      },
      "source": [
        "from sklearn.pipeline import Pipeline\n",
        "\n",
        "pipes = {}\n",
        "\n",
        "for acronym, model in models.items():\n",
        "    pipes[acronym] = Pipeline([('model', model)])"
      ],
      "execution_count": 0,
      "outputs": []
    },
    {
      "cell_type": "markdown",
      "metadata": {
        "colab_type": "text",
        "id": "KDvhKcImAifd"
      },
      "source": [
        "### 5.8.3 Getting the predefined split cross-validator"
      ]
    },
    {
      "cell_type": "code",
      "metadata": {
        "colab_type": "code",
        "id": "Y9pJnt3zAifd",
        "colab": {}
      },
      "source": [
        "from sklearn.model_selection import PredefinedSplit\n",
        "\n",
        "# Combine the feature matrix in the training and validation data\n",
        "X_train_valid = np.vstack((X_train, X_valid))\n",
        "\n",
        "# Combine the target vector in the training and validation data\n",
        "y_train_valid = np.append(y_train, y_valid)\n",
        "\n",
        "# Get the indices of training and validation data\n",
        "train_valid_idxs = np.append(np.full(X_train.shape[0], -1), np.full(X_valid.shape[0], 0))\n",
        "\n",
        "# The PredefinedSplit\n",
        "ps = PredefinedSplit(train_valid_idxs)"
      ],
      "execution_count": 0,
      "outputs": []
    },
    {
      "cell_type": "markdown",
      "metadata": {
        "colab_type": "text",
        "id": "IOFeu1CHAife"
      },
      "source": [
        "### 5.8.4 Creating the dictionary of the parameter grids"
      ]
    },
    {
      "cell_type": "code",
      "metadata": {
        "colab_type": "code",
        "id": "n3_4SfV2Aife",
        "colab": {}
      },
      "source": [
        "param_grids = {}"
      ],
      "execution_count": 0,
      "outputs": []
    },
    {
      "cell_type": "markdown",
      "metadata": {
        "colab_type": "text",
        "id": "dkDTlbsOAiff"
      },
      "source": [
        "#### 5.8.4.1 The parameter grid for logistic regression"
      ]
    },
    {
      "cell_type": "code",
      "metadata": {
        "colab_type": "code",
        "id": "n0ppMJ1RAiff",
        "colab": {}
      },
      "source": [
        "# The grids for C\n",
        "C_grids = [10 ** i for i in range(-2, 3)]\n",
        "\n",
        "# The grids for tol\n",
        "tol_grids = [10 ** i for i in range(-6, -1)]\n",
        "\n",
        "# Update param_grids\n",
        "param_grids['lr'] = [{'model__C': C_grids,\n",
        "                      'model__tol': tol_grids}]"
      ],
      "execution_count": 0,
      "outputs": []
    },
    {
      "cell_type": "code",
      "metadata": {
        "id": "KuUFO1cJGcq2",
        "colab_type": "code",
        "outputId": "d0aab6fb-2bc9-45b4-acfc-aa2cf5a4dcfa",
        "colab": {
          "base_uri": "https://localhost:8080/",
          "height": 34
        }
      },
      "source": [
        "tol_grids"
      ],
      "execution_count": 0,
      "outputs": [
        {
          "output_type": "execute_result",
          "data": {
            "text/plain": [
              "[1e-06, 1e-05, 0.0001, 0.001, 0.01]"
            ]
          },
          "metadata": {
            "tags": []
          },
          "execution_count": 110
        }
      ]
    },
    {
      "cell_type": "markdown",
      "metadata": {
        "colab_type": "text",
        "id": "QXmQLZd5Aifg"
      },
      "source": [
        "#### 5.8.4.2 The parameter grid for decision tree"
      ]
    },
    {
      "cell_type": "code",
      "metadata": {
        "colab_type": "code",
        "id": "iv90FfF1Aifg",
        "colab": {}
      },
      "source": [
        "# The grids for min_samples_split\n",
        "min_samples_split_grids = [2, 30, 100]\n",
        "\n",
        "# The grids for min_samples_leaf\n",
        "min_samples_leaf_grids = [1, 30, 100]\n",
        "\n",
        "# The grids for max_depth\n",
        "max_depth_grids = range(1, 11)\n",
        "\n",
        "# Update param_grids\n",
        "param_grids['dtc'] = [{'model__min_samples_split': min_samples_split_grids,\n",
        "                       'model__min_samples_leaf': min_samples_leaf_grids,\n",
        "                       'model__max_depth': max_depth_grids}]"
      ],
      "execution_count": 0,
      "outputs": []
    },
    {
      "cell_type": "markdown",
      "metadata": {
        "colab_type": "text",
        "id": "rQxhY8tVAifi"
      },
      "source": [
        "#### 5.8.4.3 The parameter grid for random forest"
      ]
    },
    {
      "cell_type": "code",
      "metadata": {
        "colab_type": "code",
        "id": "BElkQPRSAifi",
        "colab": {}
      },
      "source": [
        "# The grids for min_samples_split\n",
        "min_samples_split_grids = [2, 20, 100]\n",
        "\n",
        "# The grids for min_samples_leaf\n",
        "min_samples_leaf_grids = [1, 20, 100]\n",
        "\n",
        "# Implement me\n",
        "# Update param_grids\n",
        "param_grids['rfc'] = [{'model__min_samples_split': min_samples_split_grids,\n",
        "                       'model__min_samples_leaf': min_samples_leaf_grids}]"
      ],
      "execution_count": 0,
      "outputs": []
    },
    {
      "cell_type": "markdown",
      "metadata": {
        "colab_type": "text",
        "id": "PgXHrjfWAifj"
      },
      "source": [
        "#### 5.8.4.4 The parameter grid for histogram-based gradient boosting"
      ]
    },
    {
      "cell_type": "code",
      "metadata": {
        "colab_type": "code",
        "id": "cerzg0obAifk",
        "colab": {}
      },
      "source": [
        "# The grids for learning_rate\n",
        "learning_rate_grids = [10 ** i for i in range(-3, 2)]\n",
        "\n",
        "# The grids for min_samples_leaf\n",
        "min_samples_leaf_grids = [1, 20, 100]\n",
        "\n",
        "# Implement me\n",
        "# Update param_grids\n",
        "param_grids['hgbc'] = [{'model__learning_rate': learning_rate_grids,\n",
        "                        'model__min_samples_leaf': min_samples_leaf_grids}]"
      ],
      "execution_count": 0,
      "outputs": []
    },
    {
      "cell_type": "markdown",
      "metadata": {
        "colab_type": "text",
        "id": "gaI-o3bEAifl"
      },
      "source": [
        "#### 5.8.4.5 The parameter grid for xgboost"
      ]
    },
    {
      "cell_type": "code",
      "metadata": {
        "colab_type": "code",
        "id": "zWNjZo96Aifl",
        "colab": {}
      },
      "source": [
        "# The grids for eta\n",
        "eta_grids = [10 ** i for i in range(-4, 1)]\n",
        "\n",
        "# The grids for gamma\n",
        "gamma_grids = [0, 10, 100]\n",
        "\n",
        "# The grids for lambda\n",
        "lambda_grids = [10 ** i for i in range(-4, 5)]\n",
        "\n",
        "# Implement me\n",
        "# Update param_grids\n",
        "param_grids['xgbc'] = [{'model__eta': eta_grids,\n",
        "                        'model__gamma': gamma_grids,\n",
        "                        'model__lambda': lambda_grids}]"
      ],
      "execution_count": 0,
      "outputs": []
    },
    {
      "cell_type": "markdown",
      "metadata": {
        "colab_type": "text",
        "id": "o9ZdxxRr3I6R"
      },
      "source": [
        "#### 5.8.4.6 The parameter grid for multi-layer perceptron classifier"
      ]
    },
    {
      "cell_type": "code",
      "metadata": {
        "colab_type": "code",
        "id": "Cgn4dhPj21YM",
        "colab": {}
      },
      "source": [
        "# The grids for alpha\n",
        "alpha_grids = [10 ** i for i in range(-4, -1)]\n",
        "\n",
        "# The grids for learning_rate_init\n",
        "learning_rate_init_grids = [10 ** i for i in range(-4, -1)]\n",
        "\n",
        "# Update param_grids\n",
        "param_grids['mlpc'] = [{'model__alpha': alpha_grids,\n",
        "                        'model__learning_rate_init': learning_rate_init_grids}]"
      ],
      "execution_count": 0,
      "outputs": []
    },
    {
      "cell_type": "markdown",
      "metadata": {
        "colab_type": "text",
        "id": "0c7FLxtbAifm"
      },
      "source": [
        "### 5.8.5 Creating the directory for the cv results."
      ]
    },
    {
      "cell_type": "code",
      "metadata": {
        "colab_type": "code",
        "id": "suYF7irYAifm",
        "colab": {}
      },
      "source": [
        "import os\n",
        "\n",
        "# Make directory\n",
        "directory = os.path.dirname('./cv_classification_results/')\n",
        "if not os.path.exists(directory):\n",
        "    os.makedirs(directory)"
      ],
      "execution_count": 0,
      "outputs": []
    },
    {
      "cell_type": "markdown",
      "metadata": {
        "colab_type": "text",
        "id": "WZG8J79zAifn"
      },
      "source": [
        "### 5.8.6 Hyperparameter tuning "
      ]
    },
    {
      "cell_type": "code",
      "metadata": {
        "colab_type": "code",
        "id": "bCW8EKSiAifn",
        "colab": {}
      },
      "source": [
        "from sklearn.model_selection import GridSearchCV\n",
        "\n",
        "# The list of [best_score_, best_params_, best_estimator_] obtained by GridSearchCV\n",
        "best_score_param_estimator_gs = []\n",
        "\n",
        "for acronym in pipes.keys():\n",
        "    # GridSearchCV\n",
        "    gs = GridSearchCV(estimator=pipes[acronym],\n",
        "                      param_grid=param_grids[acronym],\n",
        "                      scoring='f1_micro',\n",
        "                      n_jobs=2,\n",
        "                      cv=ps,\n",
        "                      return_train_score=True)\n",
        "        \n",
        "    # Fit the pipeline\n",
        "    gs = gs.fit(X_train_valid, y_train_valid)\n",
        "    \n",
        "    # Update best_score_param_estimator_gs\n",
        "    best_score_param_estimator_gs.append([gs.best_score_, gs.best_params_, gs.best_estimator_])\n",
        "    \n",
        "    # Sort cv_results in ascending order of 'rank_test_score' and 'std_test_score'\n",
        "    cv_results = pd.DataFrame.from_dict(gs.cv_results_).sort_values(by=['rank_test_score', 'std_test_score'])\n",
        "    \n",
        "    # Get the important columns in cv_results\n",
        "    important_columns = ['rank_test_score',\n",
        "                         'mean_test_score', \n",
        "                         'std_test_score', \n",
        "                         'mean_train_score', \n",
        "                         'std_train_score',\n",
        "                         'mean_fit_time', \n",
        "                         'std_fit_time',                        \n",
        "                         'mean_score_time', \n",
        "                         'std_score_time']\n",
        "    \n",
        "    # Move the important columns ahead\n",
        "    cv_results = cv_results[important_columns + sorted(list(set(cv_results.columns) - set(important_columns)))]\n",
        "\n",
        "    # Write cv_results file\n",
        "    cv_results.to_csv(path_or_buf='./cv_classification_results/' + acronym + '.csv', index=False)"
      ],
      "execution_count": 0,
      "outputs": []
    },
    {
      "cell_type": "markdown",
      "metadata": {
        "colab_type": "text",
        "id": "W8eHnYeOAifo"
      },
      "source": [
        "### 5.8.7 Model Selection"
      ]
    },
    {
      "cell_type": "code",
      "metadata": {
        "colab_type": "code",
        "id": "bUXe4HpaAifp",
        "outputId": "b68aa418-6836-443f-afe7-4a6defb47b4a",
        "colab": {
          "base_uri": "https://localhost:8080/",
          "height": 227
        }
      },
      "source": [
        "# Sort best_score_param_estimator_gs in descending order of the best_score_\n",
        "best_score_param_estimator_gs = sorted(best_score_param_estimator_gs, key=lambda x : x[0], reverse=True)\n",
        "\n",
        "# Print best_score_param_estimator_gs\n",
        "pd.DataFrame(best_score_param_estimator_gs, columns=['best_score', 'best_param', 'best_estimator'])"
      ],
      "execution_count": 0,
      "outputs": [
        {
          "output_type": "execute_result",
          "data": {
            "text/html": [
              "<div>\n",
              "<style scoped>\n",
              "    .dataframe tbody tr th:only-of-type {\n",
              "        vertical-align: middle;\n",
              "    }\n",
              "\n",
              "    .dataframe tbody tr th {\n",
              "        vertical-align: top;\n",
              "    }\n",
              "\n",
              "    .dataframe thead th {\n",
              "        text-align: right;\n",
              "    }\n",
              "</style>\n",
              "<table border=\"1\" class=\"dataframe\">\n",
              "  <thead>\n",
              "    <tr style=\"text-align: right;\">\n",
              "      <th></th>\n",
              "      <th>best_score</th>\n",
              "      <th>best_param</th>\n",
              "      <th>best_estimator</th>\n",
              "    </tr>\n",
              "  </thead>\n",
              "  <tbody>\n",
              "    <tr>\n",
              "      <th>0</th>\n",
              "      <td>0.873133</td>\n",
              "      <td>{'model__learning_rate': 0.1, 'model__min_samp...</td>\n",
              "      <td>(HistGradientBoostingClassifier(l2_regularizat...</td>\n",
              "    </tr>\n",
              "    <tr>\n",
              "      <th>1</th>\n",
              "      <td>0.852161</td>\n",
              "      <td>{'model__eta': 0.0001, 'model__gamma': 0, 'mod...</td>\n",
              "      <td>(XGBClassifier(base_score=0.5, booster='gbtree...</td>\n",
              "    </tr>\n",
              "    <tr>\n",
              "      <th>2</th>\n",
              "      <td>0.849966</td>\n",
              "      <td>{'model__min_samples_leaf': 1, 'model__min_sam...</td>\n",
              "      <td>((DecisionTreeClassifier(ccp_alpha=0.0, class_...</td>\n",
              "    </tr>\n",
              "    <tr>\n",
              "      <th>3</th>\n",
              "      <td>0.845943</td>\n",
              "      <td>{'model__alpha': 0.001, 'model__learning_rate_...</td>\n",
              "      <td>(MLPClassifier(activation='relu', alpha=0.001,...</td>\n",
              "    </tr>\n",
              "    <tr>\n",
              "      <th>4</th>\n",
              "      <td>0.840456</td>\n",
              "      <td>{'model__max_depth': 10, 'model__min_samples_l...</td>\n",
              "      <td>(DecisionTreeClassifier(ccp_alpha=0.0, class_w...</td>\n",
              "    </tr>\n",
              "    <tr>\n",
              "      <th>5</th>\n",
              "      <td>0.706334</td>\n",
              "      <td>{'model__C': 10, 'model__tol': 1e-06}</td>\n",
              "      <td>(LogisticRegression(C=10, class_weight='balanc...</td>\n",
              "    </tr>\n",
              "  </tbody>\n",
              "</table>\n",
              "</div>"
            ],
            "text/plain": [
              "   best_score  ...                                     best_estimator\n",
              "0    0.873133  ...  (HistGradientBoostingClassifier(l2_regularizat...\n",
              "1    0.852161  ...  (XGBClassifier(base_score=0.5, booster='gbtree...\n",
              "2    0.849966  ...  ((DecisionTreeClassifier(ccp_alpha=0.0, class_...\n",
              "3    0.845943  ...  (MLPClassifier(activation='relu', alpha=0.001,...\n",
              "4    0.840456  ...  (DecisionTreeClassifier(ccp_alpha=0.0, class_w...\n",
              "5    0.706334  ...  (LogisticRegression(C=10, class_weight='balanc...\n",
              "\n",
              "[6 rows x 3 columns]"
            ]
          },
          "metadata": {
            "tags": []
          },
          "execution_count": 118
        }
      ]
    },
    {
      "cell_type": "code",
      "metadata": {
        "colab_type": "code",
        "id": "s60texBwiWHq",
        "colab": {}
      },
      "source": [
        "best_score_gs, best_param_gs, best_estimator_gs = best_score_param_estimator_gs[0]"
      ],
      "execution_count": 0,
      "outputs": []
    },
    {
      "cell_type": "markdown",
      "metadata": {
        "colab_type": "text",
        "id": "RAqJ0EerjtDU"
      },
      "source": [
        "## 5.9 Confusion Matrix"
      ]
    },
    {
      "cell_type": "code",
      "metadata": {
        "colab_type": "code",
        "id": "yT2SKsK4Wksi",
        "colab": {}
      },
      "source": [
        "# Create the directory for figure_classification\n",
        "import os\n",
        "\n",
        "# Make directory\n",
        "directory = os.path.dirname('./figure_classification/')\n",
        "if not os.path.exists(directory):\n",
        "    os.makedirs(directory)"
      ],
      "execution_count": 0,
      "outputs": []
    },
    {
      "cell_type": "code",
      "metadata": {
        "colab_type": "code",
        "id": "ZQUB3wY5ioiq",
        "colab": {}
      },
      "source": [
        "# Select the best model\n",
        "classifier = best_estimator_gs"
      ],
      "execution_count": 0,
      "outputs": []
    },
    {
      "cell_type": "code",
      "metadata": {
        "colab_type": "code",
        "id": "zjxW7WQ6iVPf",
        "outputId": "e26c9089-37bd-4caa-8af5-043ba7d0e40e",
        "colab": {
          "base_uri": "https://localhost:8080/",
          "height": 430
        }
      },
      "source": [
        "from sklearn.metrics import plot_confusion_matrix\n",
        "\n",
        "# Create a figure and axes\n",
        "fig, ax = plt.subplots(nrows=1, ncols=1, figsize=(6, 6))\n",
        "\n",
        "# Plot the confusion matrix\n",
        "plot_confusion_matrix(classifier,\n",
        "                      X_valid,\n",
        "                      y_valid,\n",
        "                      normalize='true',\n",
        "                      display_labels=np.unique(y_valid),\n",
        "                      values_format='.2f',\n",
        "                      cmap=plt.cm.Blues,\n",
        "                      ax=ax)\n",
        "\n",
        "# Save and show the figure\n",
        "plt.tight_layout()\n",
        "plt.savefig('./figure_classification/confusion_matrix.pdf')\n",
        "plt.show()"
      ],
      "execution_count": 0,
      "outputs": [
        {
          "output_type": "display_data",
          "data": {
            "image/png": "[encoded data removed]",
            "text/plain": [
              "<Figure size 432x432 with 2 Axes>"
            ]
          },
          "metadata": {
            "tags": []
          }
        }
      ]
    },
    {
      "cell_type": "markdown",
      "metadata": {
        "colab_type": "text",
        "id": "F3MweXxjAifp"
      },
      "source": [
        "## 5.10 Plot the feature importance"
      ]
    },
    {
      "cell_type": "code",
      "metadata": {
        "colab_type": "code",
        "id": "3_7VAQNhAifs",
        "outputId": "5b22a357-abc3-483c-8186-cdb1a5586e7e",
        "colab": {
          "base_uri": "https://localhost:8080/",
          "height": 347
        }
      },
      "source": [
        "# Get the best_score, best_param and best_estimator of random forest obtained by GridSearchCV\n",
        "best_score_rfc, best_param_rfc, best_estimator_rfc = best_score_param_estimator_gs[2]\n",
        "\n",
        "# Get the dataframe of feature and importance\n",
        "df_fi_rfc = pd.DataFrame(np.hstack((features.reshape(-1, 1), best_estimator_rfc.named_steps['model'].feature_importances_.reshape(-1, 1))),\n",
        "                         columns=['Features', 'Importance'])\n",
        "\n",
        "# Sort df_fi_rfc in descending order of the importance\n",
        "df_fi_rfc = df_fi_rfc.sort_values(ascending=False, by='Importance').reset_index(drop=True)\n",
        "\n",
        "# Print df_fi_rfc\n",
        "df_fi_rfc[:10]"
      ],
      "execution_count": 0,
      "outputs": [
        {
          "output_type": "execute_result",
          "data": {
            "text/html": [
              "<div>\n",
              "<style scoped>\n",
              "    .dataframe tbody tr th:only-of-type {\n",
              "        vertical-align: middle;\n",
              "    }\n",
              "\n",
              "    .dataframe tbody tr th {\n",
              "        vertical-align: top;\n",
              "    }\n",
              "\n",
              "    .dataframe thead th {\n",
              "        text-align: right;\n",
              "    }\n",
              "</style>\n",
              "<table border=\"1\" class=\"dataframe\">\n",
              "  <thead>\n",
              "    <tr style=\"text-align: right;\">\n",
              "      <th></th>\n",
              "      <th>Features</th>\n",
              "      <th>Importance</th>\n",
              "    </tr>\n",
              "  </thead>\n",
              "  <tbody>\n",
              "    <tr>\n",
              "      <th>0</th>\n",
              "      <td>term_in_months</td>\n",
              "      <td>0.340103</td>\n",
              "    </tr>\n",
              "    <tr>\n",
              "      <th>1</th>\n",
              "      <td>activities_agriculture_and_livestock</td>\n",
              "      <td>0.111193</td>\n",
              "    </tr>\n",
              "    <tr>\n",
              "      <th>2</th>\n",
              "      <td>country_Colombia</td>\n",
              "      <td>0.10305</td>\n",
              "    </tr>\n",
              "    <tr>\n",
              "      <th>3</th>\n",
              "      <td>MPI</td>\n",
              "      <td>0.08302</td>\n",
              "    </tr>\n",
              "    <tr>\n",
              "      <th>4</th>\n",
              "      <td>loan_amount</td>\n",
              "      <td>0.0752739</td>\n",
              "    </tr>\n",
              "    <tr>\n",
              "      <th>5</th>\n",
              "      <td>lender_count</td>\n",
              "      <td>0.0635634</td>\n",
              "    </tr>\n",
              "    <tr>\n",
              "      <th>6</th>\n",
              "      <td>female_borrowers</td>\n",
              "      <td>0.0317258</td>\n",
              "    </tr>\n",
              "    <tr>\n",
              "      <th>7</th>\n",
              "      <td>country_El Salvador</td>\n",
              "      <td>0.0248553</td>\n",
              "    </tr>\n",
              "    <tr>\n",
              "      <th>8</th>\n",
              "      <td>country_Ecuador</td>\n",
              "      <td>0.0242868</td>\n",
              "    </tr>\n",
              "    <tr>\n",
              "      <th>9</th>\n",
              "      <td>country_Peru</td>\n",
              "      <td>0.0216936</td>\n",
              "    </tr>\n",
              "  </tbody>\n",
              "</table>\n",
              "</div>"
            ],
            "text/plain": [
              "                               Features Importance\n",
              "0                        term_in_months   0.340103\n",
              "1  activities_agriculture_and_livestock   0.111193\n",
              "2                      country_Colombia    0.10305\n",
              "3                                   MPI    0.08302\n",
              "4                           loan_amount  0.0752739\n",
              "5                          lender_count  0.0635634\n",
              "6                      female_borrowers  0.0317258\n",
              "7                   country_El Salvador  0.0248553\n",
              "8                       country_Ecuador  0.0242868\n",
              "9                          country_Peru  0.0216936"
            ]
          },
          "metadata": {
            "tags": []
          },
          "execution_count": 123
        }
      ]
    },
    {
      "cell_type": "code",
      "metadata": {
        "colab_type": "code",
        "id": "uYKpt2oLAift",
        "outputId": "0bd85044-96f8-4cb2-ef14-56cabb58cea2",
        "colab": {
          "base_uri": "https://localhost:8080/",
          "height": 508
        }
      },
      "source": [
        "# Create a figure\n",
        "fig = plt.figure(figsize=(10, 7))\n",
        "\n",
        "# The bar plot of feature importance\n",
        "plt.bar(df_fi_rfc['Features'], df_fi_rfc['Importance'], color='green')\n",
        "\n",
        "# Set x-axis\n",
        "plt.xlabel('Features')\n",
        "plt.xticks(rotation=90)\n",
        "\n",
        "# Set y-axis\n",
        "plt.ylabel('Importance')\n",
        "\n",
        "# Save and show the figure\n",
        "plt.tight_layout()\n",
        "plt.savefig('./figure_classification/feature_importance_rfc.pdf')\n",
        "plt.show()"
      ],
      "execution_count": 0,
      "outputs": [
        {
          "output_type": "display_data",
          "data": {
            "image/png": "[encoded data removed]",
            "text/plain": [
              "<Figure size 720x504 with 1 Axes>"
            ]
          },
          "metadata": {
            "tags": []
          }
        }
      ]
    },
    {
      "cell_type": "markdown",
      "metadata": {
        "colab_type": "text",
        "id": "7HryvnE3XfDg"
      },
      "source": [
        "## 5.11 Generating the submission file"
      ]
    },
    {
      "cell_type": "code",
      "metadata": {
        "colab_type": "code",
        "id": "0U-q7gz9YAfL",
        "colab": {}
      },
      "source": [
        "best_score_gs, best_param_gs, best_estimator_gs = best_score_param_estimator_gs[0]"
      ],
      "execution_count": 0,
      "outputs": []
    },
    {
      "cell_type": "code",
      "metadata": {
        "colab_type": "code",
        "id": "pI2zFHX5X3fl",
        "colab": {}
      },
      "source": [
        "# Get the prediction on the testing data using best_model\n",
        "y_test_pred = best_estimator_gs.predict(X_test)\n",
        "\n",
        "# Transform y_test_pred back to the original class\n",
        "y_test_pred = le.inverse_transform(y_test_pred)\n",
        "\n",
        "# Get the submission dataframe\n",
        "df_submit = pd.DataFrame(np.hstack((np.arange(1, y_test_pred.shape[0] + 1).reshape(-1, 1), y_test_pred.reshape(-1, 1))),\n",
        "                         columns=['ImageId', 'Label'])                                                                                      \n",
        "\n",
        "# Generate the submission file\n",
        "df_submit.to_csv('submission_classification.csv', index=False)"
      ],
      "execution_count": 0,
      "outputs": []
    },
    {
      "cell_type": "markdown",
      "metadata": {
        "colab_type": "text",
        "id": "ErGrOvHygBn3"
      },
      "source": [
        "# 6. Discussion & Conclusion"
      ]
    },
    {
      "cell_type": "markdown",
      "metadata": {
        "colab_type": "text",
        "id": "m-C06YrXhgaE"
      },
      "source": [
        "In predicting Kiva loan amount, our regression models were able to run, yet were not very powerful predictive models based on their accuracy. The negative mean squared error, which would ideally be closer to 0 is quite far off at a level of -160,000 for the MLP regressor. This regressor was the best amongst the other two (Decision Tree and Random Forest). Given that MSE is the summation of the squares of the difference in predicted and actual value divided by the total number of data points, we would like this to be minimized. However, our accuracy in this case was measured by negative MSE, therefore, it should then be maximized. There are likely many reasons why this is a poor model for predicting loan amount, but we speculate that nature of the features we chose are not great indicators of the Latin American Kiva loan amounts under the given parameters. \n",
        "\n",
        "Next, in our classification model predicting repayment interval type, our results reveal the best model to be Histogram Gradient Boosting with an F1 score of 0.874. “The F1 score can be interpreted as a weighted average of the precision and recall, where an F1 score reaches its best value at 1 and worst score at 0”. Thus, this is quite a good model based on the F1 score. Additionally, the next best models, Random Forest, and Multilayer Perception Classification both performed well with F1 scores above 0.80. According to our Random Forest Classifier, the top 5 features given in order of importance are: Loan Term (months), Country Colombia, Loan Amount, Agriculture and Livestock Activity, and MPI. Intuitively, due to the nature of money and loans, the Loan Term (0.317876 importance) and Loan Amount (0.0965385) are predictive of the Repayment Interval Type (monthly, bullet, irregular). Interestingly, Colombia has more predictive power than other Latin American countries (imporance of 0.0986365). If we recall some of our EDA plots, Colombia received the 3rd highest number of loans in Latin America and it was highly (negatively) correlated with repayment interval, our target. Agriculture and livestock is the second highest activity in Latin America and is also negatively correlated to repayment interval. MPI being the 5th most important at a value of 0.0824386, indicates that poverty level is playing an important role in Kiva loan activity. \n",
        "\n",
        "In all, we were able to achieve our goals of building regression and classification models. However, our regression models predicting loan amount were weak, thus we cannot make conclusions about the features with respect to loan amount. On the other hand, our classification models were quite accurate in predicting repayment interval type. While this may not be the most informative information for Kiva, the model may be useful in determining what a borrowers repayment interval should be, given all other factors. Many future projects could be done using this data, for example, the initial Kaggle competition prompted competitors to predict the level of poverty of each borrower using the original data along with other relevant public datasets. In conclusion, we have accomplished pre-processing and exploratory analysis of this data, and have built classification models to predict repayment interval type of Kiva loans in Latin American countries. "
      ]
    },
    {
      "cell_type": "markdown",
      "metadata": {
        "colab_type": "text",
        "id": "R8eIxTKeYY2N"
      },
      "source": [
        "# 7. Annex: Multitarget classification and prediction"
      ]
    },
    {
      "cell_type": "markdown",
      "metadata": {
        "colab_type": "text",
        "id": "uYnB3z2lhZs2"
      },
      "source": [
        "We wanted to try and classify two target variables at the same time, we selected repayment interval and activities as the target since they both contain multiple classes."
      ]
    },
    {
      "cell_type": "code",
      "metadata": {
        "colab_type": "code",
        "id": "xCcpwkV0Aifw",
        "colab": {}
      },
      "source": [
        "# Create a copy of df_preprocessed \n",
        "df_wod = df_preprocessed.copy(deep=True)"
      ],
      "execution_count": 0,
      "outputs": []
    },
    {
      "cell_type": "markdown",
      "metadata": {
        "colab_type": "text",
        "id": "BBAndR3neczA"
      },
      "source": [
        "## 7.1 Define target"
      ]
    },
    {
      "cell_type": "code",
      "metadata": {
        "colab_type": "code",
        "id": "UYkk2nmOebug",
        "colab": {}
      },
      "source": [
        "target = ['repayment_interval','activities']"
      ],
      "execution_count": 0,
      "outputs": []
    },
    {
      "cell_type": "markdown",
      "metadata": {
        "colab_type": "text",
        "id": "KGX4sr2DesHc"
      },
      "source": [
        "## 7.2 Encoding the features and target"
      ]
    },
    {
      "cell_type": "code",
      "metadata": {
        "colab_type": "code",
        "id": "-riCdNzheiWr",
        "outputId": "452d7283-d143-4fdb-cb62-12102dfe0adb",
        "colab": {
          "base_uri": "https://localhost:8080/",
          "height": 232
        }
      },
      "source": [
        "# Enconding the categorical features\n",
        "df = pd.get_dummies(df_wod, columns=np.setdiff1d(np.intersect1d(df_wod.columns, df_cat['var']), [target]))\n",
        "\n",
        "# Print the first 5 rows of df\n",
        "df.head()"
      ],
      "execution_count": 51,
      "outputs": [
        {
          "output_type": "execute_result",
          "data": {
            "text/html": [
              "<div>\n",
              "<style scoped>\n",
              "    .dataframe tbody tr th:only-of-type {\n",
              "        vertical-align: middle;\n",
              "    }\n",
              "\n",
              "    .dataframe tbody tr th {\n",
              "        vertical-align: top;\n",
              "    }\n",
              "\n",
              "    .dataframe thead th {\n",
              "        text-align: right;\n",
              "    }\n",
              "</style>\n",
              "<table border=\"1\" class=\"dataframe\">\n",
              "  <thead>\n",
              "    <tr style=\"text-align: right;\">\n",
              "      <th></th>\n",
              "      <th>loan_amount</th>\n",
              "      <th>term_in_months</th>\n",
              "      <th>lender_count</th>\n",
              "      <th>repayment_interval</th>\n",
              "      <th>MPI</th>\n",
              "      <th>activities</th>\n",
              "      <th>male_borrowers</th>\n",
              "      <th>female_borrowers</th>\n",
              "      <th>country_Belize</th>\n",
              "      <th>country_Brazil</th>\n",
              "      <th>country_Colombia</th>\n",
              "      <th>country_Dominican Republic</th>\n",
              "      <th>country_Ecuador</th>\n",
              "      <th>country_El Salvador</th>\n",
              "      <th>country_Haiti</th>\n",
              "      <th>country_Honduras</th>\n",
              "      <th>country_Nicaragua</th>\n",
              "      <th>country_Paraguay</th>\n",
              "      <th>country_Peru</th>\n",
              "      <th>country_Suriname</th>\n",
              "    </tr>\n",
              "  </thead>\n",
              "  <tbody>\n",
              "    <tr>\n",
              "      <th>48</th>\n",
              "      <td>600.0</td>\n",
              "      <td>14.0</td>\n",
              "      <td>16</td>\n",
              "      <td>monthly</td>\n",
              "      <td>0.074</td>\n",
              "      <td>business</td>\n",
              "      <td>0</td>\n",
              "      <td>1</td>\n",
              "      <td>0</td>\n",
              "      <td>0</td>\n",
              "      <td>0</td>\n",
              "      <td>0</td>\n",
              "      <td>0</td>\n",
              "      <td>0</td>\n",
              "      <td>0</td>\n",
              "      <td>0</td>\n",
              "      <td>1</td>\n",
              "      <td>0</td>\n",
              "      <td>0</td>\n",
              "      <td>0</td>\n",
              "    </tr>\n",
              "    <tr>\n",
              "      <th>49</th>\n",
              "      <td>450.0</td>\n",
              "      <td>14.0</td>\n",
              "      <td>18</td>\n",
              "      <td>monthly</td>\n",
              "      <td>0.032</td>\n",
              "      <td>business</td>\n",
              "      <td>1</td>\n",
              "      <td>0</td>\n",
              "      <td>0</td>\n",
              "      <td>0</td>\n",
              "      <td>0</td>\n",
              "      <td>0</td>\n",
              "      <td>0</td>\n",
              "      <td>1</td>\n",
              "      <td>0</td>\n",
              "      <td>0</td>\n",
              "      <td>0</td>\n",
              "      <td>0</td>\n",
              "      <td>0</td>\n",
              "      <td>0</td>\n",
              "    </tr>\n",
              "    <tr>\n",
              "      <th>53</th>\n",
              "      <td>550.0</td>\n",
              "      <td>14.0</td>\n",
              "      <td>20</td>\n",
              "      <td>monthly</td>\n",
              "      <td>0.053</td>\n",
              "      <td>miscellaneous</td>\n",
              "      <td>1</td>\n",
              "      <td>0</td>\n",
              "      <td>0</td>\n",
              "      <td>0</td>\n",
              "      <td>0</td>\n",
              "      <td>0</td>\n",
              "      <td>0</td>\n",
              "      <td>0</td>\n",
              "      <td>0</td>\n",
              "      <td>0</td>\n",
              "      <td>0</td>\n",
              "      <td>0</td>\n",
              "      <td>1</td>\n",
              "      <td>0</td>\n",
              "    </tr>\n",
              "    <tr>\n",
              "      <th>69</th>\n",
              "      <td>1075.0</td>\n",
              "      <td>17.0</td>\n",
              "      <td>41</td>\n",
              "      <td>monthly</td>\n",
              "      <td>0.053</td>\n",
              "      <td>services</td>\n",
              "      <td>1</td>\n",
              "      <td>0</td>\n",
              "      <td>0</td>\n",
              "      <td>0</td>\n",
              "      <td>0</td>\n",
              "      <td>0</td>\n",
              "      <td>0</td>\n",
              "      <td>0</td>\n",
              "      <td>0</td>\n",
              "      <td>0</td>\n",
              "      <td>0</td>\n",
              "      <td>0</td>\n",
              "      <td>1</td>\n",
              "      <td>0</td>\n",
              "    </tr>\n",
              "    <tr>\n",
              "      <th>80</th>\n",
              "      <td>1000.0</td>\n",
              "      <td>20.0</td>\n",
              "      <td>34</td>\n",
              "      <td>monthly</td>\n",
              "      <td>0.090</td>\n",
              "      <td>business</td>\n",
              "      <td>0</td>\n",
              "      <td>1</td>\n",
              "      <td>0</td>\n",
              "      <td>0</td>\n",
              "      <td>0</td>\n",
              "      <td>0</td>\n",
              "      <td>0</td>\n",
              "      <td>0</td>\n",
              "      <td>0</td>\n",
              "      <td>1</td>\n",
              "      <td>0</td>\n",
              "      <td>0</td>\n",
              "      <td>0</td>\n",
              "      <td>0</td>\n",
              "    </tr>\n",
              "  </tbody>\n",
              "</table>\n",
              "</div>"
            ],
            "text/plain": [
              "    loan_amount  term_in_months  ...  country_Peru country_Suriname\n",
              "48        600.0            14.0  ...             0                0\n",
              "49        450.0            14.0  ...             0                0\n",
              "53        550.0            14.0  ...             1                0\n",
              "69       1075.0            17.0  ...             1                0\n",
              "80       1000.0            20.0  ...             0                0\n",
              "\n",
              "[5 rows x 20 columns]"
            ]
          },
          "metadata": {
            "tags": []
          },
          "execution_count": 51
        }
      ]
    },
    {
      "cell_type": "markdown",
      "metadata": {
        "id": "cNzKNc2luy_t",
        "colab_type": "text"
      },
      "source": [
        "#### We custom encoded the target variables:"
      ]
    },
    {
      "cell_type": "code",
      "metadata": {
        "colab_type": "code",
        "id": "epyIlmIoeiUc",
        "colab": {}
      },
      "source": [
        "# Setting mutliple targets and label encoding for targets\n",
        "tt=df[target]\n",
        "\n",
        "map_rep_interval = {'monthly':0, \n",
        "                  'irregular':1, \n",
        "                  'bullet':2 }\n",
        "\n",
        "map_activities = {'business': 0,\n",
        "                 'miscellaneous': 1 ,\n",
        "                 'services': 2 ,\n",
        "                   'education': 3 ,\n",
        "                   'construction_materials': 4 ,\n",
        "                   'arts_and_crafts': 5 ,\n",
        "                    'energy': 6 ,\n",
        "                   'food_and_beverages': 7 ,\n",
        "                   'agriculture_and_livestock': 8 ,\n",
        "                    None: 9 ,\n",
        "                   'maintenance': 10 ,\n",
        "                   'entertainment': 11 ,\n",
        "                   'supplies': 12 ,\n",
        "                   'healthcare':13 ,\n",
        "                   'technology_and_IT': 14 }"
      ],
      "execution_count": 0,
      "outputs": []
    },
    {
      "cell_type": "code",
      "metadata": {
        "colab_type": "code",
        "id": "8bRcSiSteiMS",
        "colab": {}
      },
      "source": [
        "## setting encoded values for repayment interval\n",
        "encoded_interval=[]\n",
        "for rep in tt['repayment_interval']:\n",
        "    for key, value in map_rep_interval.items():\n",
        "        if key ==rep:\n",
        "            encoded_interval.append(value)"
      ],
      "execution_count": 0,
      "outputs": []
    },
    {
      "cell_type": "code",
      "metadata": {
        "colab_type": "code",
        "id": "tX8p4H-NfKwo",
        "colab": {}
      },
      "source": [
        "# setting encoded values for activities\n",
        "encoded=[]\n",
        "for act in tt['activities']:\n",
        "    for key, value in map_activities.items():\n",
        "        if key ==act:\n",
        "            encoded.append(value)"
      ],
      "execution_count": 0,
      "outputs": []
    },
    {
      "cell_type": "code",
      "metadata": {
        "colab_type": "code",
        "id": "XG2FMdC4fKuZ",
        "colab": {}
      },
      "source": [
        "tt['repayment_interval']=encoded_interval"
      ],
      "execution_count": 0,
      "outputs": []
    },
    {
      "cell_type": "code",
      "metadata": {
        "colab_type": "code",
        "id": "lF0vGtj0fKrw",
        "colab": {}
      },
      "source": [
        "tt['activities']=encoded"
      ],
      "execution_count": 0,
      "outputs": []
    },
    {
      "cell_type": "code",
      "metadata": {
        "colab_type": "code",
        "id": "nUDUg8gufKpD",
        "colab": {}
      },
      "source": [
        "# Dropping values for dataset\n",
        "d1=df.drop('repayment_interval',axis=1)\n",
        "final_data=d1.drop('activities',axis=1)"
      ],
      "execution_count": 0,
      "outputs": []
    },
    {
      "cell_type": "markdown",
      "metadata": {
        "colab_type": "text",
        "id": "Qtnl8-ATgjCr"
      },
      "source": [
        "## 7.3 Fitting data for multi target predictions"
      ]
    },
    {
      "cell_type": "code",
      "metadata": {
        "colab_type": "code",
        "id": "_zgR_u6of3AL",
        "outputId": "8f4ba6dd-a12c-4008-b077-576e2ed14ce2",
        "colab": {
          "base_uri": "https://localhost:8080/",
          "height": 67
        }
      },
      "source": [
        "from sklearn.neighbors import KNeighborsClassifier\n",
        "neigh = KNeighborsClassifier(n_neighbors=3)\n",
        "neigh.fit(final_data, tt)"
      ],
      "execution_count": 58,
      "outputs": [
        {
          "output_type": "execute_result",
          "data": {
            "text/plain": [
              "KNeighborsClassifier(algorithm='auto', leaf_size=30, metric='minkowski',\n",
              "                     metric_params=None, n_jobs=None, n_neighbors=3, p=2,\n",
              "                     weights='uniform')"
            ]
          },
          "metadata": {
            "tags": []
          },
          "execution_count": 58
        }
      ]
    },
    {
      "cell_type": "code",
      "metadata": {
        "colab_type": "code",
        "id": "JrcGsgtFf29Q",
        "outputId": "4aa2e5e8-fc71-43cb-9258-12112e528667",
        "colab": {
          "base_uri": "https://localhost:8080/",
          "height": 151
        }
      },
      "source": [
        "from sklearn.ensemble import RandomForestClassifier\n",
        "from sklearn.datasets import make_classification\n",
        "rf = RandomForestClassifier(max_depth=2, random_state=0)\n",
        "rf.fit(final_data, tt)"
      ],
      "execution_count": 59,
      "outputs": [
        {
          "output_type": "execute_result",
          "data": {
            "text/plain": [
              "RandomForestClassifier(bootstrap=True, ccp_alpha=0.0, class_weight=None,\n",
              "                       criterion='gini', max_depth=2, max_features='auto',\n",
              "                       max_leaf_nodes=None, max_samples=None,\n",
              "                       min_impurity_decrease=0.0, min_impurity_split=None,\n",
              "                       min_samples_leaf=1, min_samples_split=2,\n",
              "                       min_weight_fraction_leaf=0.0, n_estimators=100,\n",
              "                       n_jobs=None, oob_score=False, random_state=0, verbose=0,\n",
              "                       warm_start=False)"
            ]
          },
          "metadata": {
            "tags": []
          },
          "execution_count": 59
        }
      ]
    },
    {
      "cell_type": "markdown",
      "metadata": {
        "colab_type": "text",
        "id": "YUy3PkfagrP7"
      },
      "source": [
        "## 7.4 Prediction with user input"
      ]
    },
    {
      "cell_type": "code",
      "metadata": {
        "colab_type": "code",
        "id": "3UVvp29SfKmZ",
        "outputId": "a23196a8-8aad-484d-e297-30193c364700",
        "colab": {
          "base_uri": "https://localhost:8080/",
          "height": 118
        }
      },
      "source": [
        "loan_amount=input(\"Enter the loan amount: \")\n",
        "term_in_months=input(\"Enter term in months: \")\n",
        "lender_count=input(\"Enter the number of lenders: \")\n",
        "male_borrowers=input(\"Enter the number of male borrowers: \")\n",
        "female_borrowers=input(\"Enter the number of female borrowers: \")\n",
        "country=input(\"Enter the the name of the country: \")"
      ],
      "execution_count": 60,
      "outputs": [
        {
          "output_type": "stream",
          "text": [
            "Enter the loan amount: 1000\n",
            "Enter term in months: 14\n",
            "Enter the number of lenders: 5\n",
            "Enter the number of male borrowers: 0\n",
            "Enter the number of female borrowers: 5\n",
            "Enter the the name of the country: Peru\n"
          ],
          "name": "stdout"
        }
      ]
    },
    {
      "cell_type": "code",
      "metadata": {
        "colab_type": "code",
        "id": "mST_e_09fKjz",
        "colab": {}
      },
      "source": [
        "#mapping the user input of country to the appropriate MPI\n",
        "user_in=['country','MPI']\n",
        "user_input=df_wod[user_in]\n",
        "mpi_c_list=[]\n",
        "mpi_mp_list=[]\n",
        "for c,mp in zip(user_input['country'],user_input['MPI']):\n",
        "    if c not in mpi_c_list:\n",
        "        mpi_c_list.append(c)\n",
        "        mpi_mp_list.append(mp) "
      ],
      "execution_count": 0,
      "outputs": []
    },
    {
      "cell_type": "code",
      "metadata": {
        "colab_type": "code",
        "id": "loUJag2igzV9",
        "colab": {}
      },
      "source": [
        "mpi = pd.DataFrame()\n",
        "mpi['mpi_c_list']=mpi_c_list\n",
        "mpi['mpi_mp_list']=mpi_mp_list"
      ],
      "execution_count": 0,
      "outputs": []
    },
    {
      "cell_type": "code",
      "metadata": {
        "colab_type": "code",
        "id": "cwgv0aAvgzTE",
        "colab": {}
      },
      "source": [
        "# since the country variable has been one hot encoded, we generate a vector based on the country to append to the input of the predict function\n",
        "def checkcountry(country):    \n",
        "    if country==\"Nicaragua\":\n",
        "        v1=0,0,0,0,0,0,0,0,1,0,0,0\n",
        "    elif country==\"El Salvador\":\n",
        "        v1=0,0,0,0,0,1,0,0,0,0,0,0\n",
        "    elif country==\"Peru\":\n",
        "        v1=0,0,0,0,0,0,0,0,0,0,1,0\n",
        "    elif country==\"Honduras\":\n",
        "        v1=0,0,0,0,0,0,0,1,0,0,0,0\n",
        "    elif country==\"Colombia\":\n",
        "        v1=0,0,1,0,0,0,0,0,0,0,0,0\n",
        "    elif country==\"Ecuador\":\n",
        "        v1=0,0,0,0,1,0,0,0,0,0,0,0\n",
        "    elif country==\"Haiti\":\n",
        "        v1=0,0,0,0,0,0,1,0,0,0,0,0\n",
        "    elif country==\"Dominican Republic\":\n",
        "        v1=0,0,0,1,0,0,0,0,0,0,0,0\n",
        "    elif country==\"Dominican Republic\":\n",
        "        v1=0,0,0,1,0,0,0,0,0,0,0,0\n",
        "    elif country==\"Brazil\":\n",
        "        v1=0,1,0,0,0,0,0,0,0,0,0,0\n",
        "    elif country==\"Paraguay\":\n",
        "        v1=0,0,0,0,0,0,0,0,0,1,0,0\n",
        "    elif country==\"Belize\":\n",
        "        v1=1,0,0,0,0,0,0,0,0,0,0,0\n",
        "    elif country==\"Suriname\":\n",
        "        v1=0,0,0,0,0,0,0,0,0,0,0,1\n",
        "    return list(v1)"
      ],
      "execution_count": 0,
      "outputs": []
    },
    {
      "cell_type": "code",
      "metadata": {
        "colab_type": "code",
        "id": "cUH8O0KogzQL",
        "colab": {}
      },
      "source": [
        "val=checkcountry(country)\n",
        "co=mpi['mpi_c_list']\n",
        "mp=mpi['mpi_mp_list']\n",
        "for i in range (0,len(co)):\n",
        "    if country==co[i]:\n",
        "        mpi_val=mp[i]"
      ],
      "execution_count": 0,
      "outputs": []
    },
    {
      "cell_type": "code",
      "metadata": {
        "colab_type": "code",
        "id": "ksKsimC4g4r0",
        "colab": {}
      },
      "source": [
        "#preparing the input array\n",
        "input_test_1=[]\n",
        "input_test_1.append(int(loan_amount))\n",
        "input_test_1.append(int(term_in_months))\n",
        "input_test_1.append(int(lender_count))\n",
        "input_test_1.append(int(male_borrowers))\n",
        "input_test_1.append(int(female_borrowers))\n",
        "input_test_1.append(mpi_val)\n",
        "for v in val:\n",
        "    input_test_1.append(v)"
      ],
      "execution_count": 0,
      "outputs": []
    },
    {
      "cell_type": "markdown",
      "metadata": {
        "colab_type": "text",
        "id": "gLCp8Wj1g8ZT"
      },
      "source": [
        "## 7.5 Output"
      ]
    },
    {
      "cell_type": "code",
      "metadata": {
        "colab_type": "code",
        "id": "K5ixLypBg4o_",
        "outputId": "95e7b65e-448e-4654-96b7-beb072409bbc",
        "colab": {
          "base_uri": "https://localhost:8080/",
          "height": 50
        }
      },
      "source": [
        "#KNN-prediction function\n",
        "val1=(neigh.predict([input_test_1]))\n",
        "\n",
        "output=[]\n",
        "for v in val1:\n",
        "    for vv in v:\n",
        "        output.append(vv)\n",
        "\n",
        "for k,v in map_rep_interval.items():\n",
        "    if v==output[0]:\n",
        "        print(\"Repayment Interval Prediction:\",k)\n",
        "\n",
        "for k,v in map_activities.items():\n",
        "    if v==output[1]:\n",
        "        print(\"Activities Prediction:\",k)"
      ],
      "execution_count": 66,
      "outputs": [
        {
          "output_type": "stream",
          "text": [
            "Repayment Interval Prediction: monthly\n",
            "Activities Prediction: agriculture_and_livestock\n"
          ],
          "name": "stdout"
        }
      ]
    },
    {
      "cell_type": "code",
      "metadata": {
        "colab_type": "code",
        "id": "EwMS1XHShFEL",
        "outputId": "0d8c0d6e-e766-41ba-c660-d81e0086e58f",
        "colab": {
          "base_uri": "https://localhost:8080/",
          "height": 50
        }
      },
      "source": [
        "#random-forest-prediction function\n",
        "val2=rf.predict([input_test_1])\n",
        "\n",
        "output_rf=[]\n",
        "for v in val1:\n",
        "    for vv in v:\n",
        "        output_rf.append(vv)\n",
        "\n",
        "for k,v in map_rep_interval.items():\n",
        "    if v==output[0]:\n",
        "        print(\"Repayment Interval Prediction:\",k)\n",
        "\n",
        "for k,v in map_activities.items():\n",
        "    if v==output[1]:\n",
        "        print(\"Activities Prediction:\",k)"
      ],
      "execution_count": 67,
      "outputs": [
        {
          "output_type": "stream",
          "text": [
            "Repayment Interval Prediction: monthly\n",
            "Activities Prediction: agriculture_and_livestock\n"
          ],
          "name": "stdout"
        }
      ]
    },
    {
      "cell_type": "markdown",
      "metadata": {
        "id": "eINkc58qeuQv",
        "colab_type": "text"
      },
      "source": [
        "## 7.6 Discussion"
      ]
    },
    {
      "cell_type": "markdown",
      "metadata": {
        "id": "BEv4oX0Ge1eh",
        "colab_type": "text"
      },
      "source": [
        "In this section, we have built models to predict both repayment interval and loan activity as multi-targets. First, we encoded both target variables. Next, we fit the data for KNN and RF classifiers. This allowed us to use user input for each of the other variables and predict the repayment interval and activity of that loan. This was an experimental section, and we do not have accuracy measures to make conclusions, however, it is quite interesting to play around with. This could be a useful tool to Kiva borrowers and lenders in determining the repayment interval or activity of missing data or future loans."
      ]
    }
  ]
}